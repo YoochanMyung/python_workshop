{
  "nbformat": 4,
  "nbformat_minor": 0,
  "metadata": {
    "colab": {
      "provenance": [],
      "collapsed_sections": [
        "15gZ-aGKHpdQ",
        "hEWgWkyaHwXD"
      ],
      "authorship_tag": "ABX9TyMxQK/NOrE71xkV/8lyfR+h",
      "include_colab_link": true
    },
    "kernelspec": {
      "name": "python3",
      "display_name": "Python 3"
    },
    "language_info": {
      "name": "python"
    }
  },
  "cells": [
    {
      "cell_type": "markdown",
      "metadata": {
        "id": "view-in-github",
        "colab_type": "text"
      },
      "source": [
        "<a href=\"https://colab.research.google.com/github/YoochanMyung/python_workshop/blob/main/Dancing_with_Python101_23rd_Nov.ipynb\" target=\"_parent\"><img src=\"https://colab.research.google.com/assets/colab-badge.svg\" alt=\"Open In Colab\"/></a>"
      ]
    },
    {
      "cell_type": "markdown",
      "source": [
        "# Welcome to Python world!\n",
        "- You are welcome to run and use this Jupyter Notebook (CoLab).\n",
        "- This file is already saved in your Google Drive storage, so your changes won't affect to the original Python.ipynb file, so feel free to modify and run it.\n",
        "- If you close this file or stay out for a long time, your session will be expired. All unsaved contents will be removed.\n",
        "- If you any have further questions, send email here:  y.myung@uq.edu.au (Yoochan Myung)\n"
      ],
      "metadata": {
        "id": "AOW0rrl_Mh0q"
      }
    },
    {
      "cell_type": "markdown",
      "source": [
        "## Class, Function and Method\n",
        "\n"
      ],
      "metadata": {
        "id": "SUd6Q9m7ULD-"
      }
    },
    {
      "cell_type": "code",
      "source": [
        "def myfunc(name): # function\n",
        "    print(\"Hello my name is \" + name)\n",
        "\n",
        "class Person: # class\n",
        "  def __init__(self, name, age):\n",
        "    self.name = name\n",
        "    self.age = age\n",
        "\n",
        "  def myfunc(self): # method\n",
        "    print(\"Hello my name is \" + self.name)"
      ],
      "metadata": {
        "id": "nKf5SHS9LQzN"
      },
      "execution_count": 1,
      "outputs": []
    },
    {
      "cell_type": "code",
      "source": [
        "myfunc(\"Ethan\")"
      ],
      "metadata": {
        "id": "WzBiSRoGTaN6",
        "outputId": "d19d3d18-22a9-46d6-9860-ce0059734126",
        "colab": {
          "base_uri": "https://localhost:8080/"
        }
      },
      "execution_count": 2,
      "outputs": [
        {
          "output_type": "stream",
          "name": "stdout",
          "text": [
            "Hello my name is Ethan\n"
          ]
        }
      ]
    },
    {
      "cell_type": "code",
      "source": [
        "first_p = Person(\"Ethan\", 37)\n",
        "first_p.myfunc()\n",
        "print(first_p.name)\n",
        "print(first_p.age)"
      ],
      "metadata": {
        "id": "flNHs73gTcvl",
        "outputId": "57f87c5e-8714-44dc-8eeb-041a9a098f4b",
        "colab": {
          "base_uri": "https://localhost:8080/"
        }
      },
      "execution_count": 3,
      "outputs": [
        {
          "output_type": "stream",
          "name": "stdout",
          "text": [
            "Hello my name is Ethan\n",
            "Ethan\n",
            "37\n"
          ]
        }
      ]
    },
    {
      "cell_type": "code",
      "source": [
        "second_p = Person(\"Nate\",23)\n",
        "print((first_p.age + second_p.age)/2)"
      ],
      "metadata": {
        "id": "rdrAN63kT2K6",
        "outputId": "104ff99b-e879-4d5e-8570-7e7c8afc34b3",
        "colab": {
          "base_uri": "https://localhost:8080/"
        }
      },
      "execution_count": 4,
      "outputs": [
        {
          "output_type": "stream",
          "name": "stdout",
          "text": [
            "30.0\n"
          ]
        }
      ]
    },
    {
      "cell_type": "markdown",
      "source": [
        "## Data Types and Structures\n",
        "\n"
      ],
      "metadata": {
        "id": "A13j1Gc_gEWX"
      }
    },
    {
      "cell_type": "markdown",
      "source": [
        "### Variables and Data Types\n",
        "- string, integer, float, boolean, Nonetype"
      ],
      "metadata": {
        "id": "CZoTDGVYpQjD"
      }
    },
    {
      "cell_type": "markdown",
      "source": [
        "#### Task 1. Assign five data types into different variables."
      ],
      "metadata": {
        "id": "tFUI_s1jUHCf"
      }
    },
    {
      "cell_type": "code",
      "source": [
        "# assign here\n",
        "v1 = 1\n",
        "v2 = 1.23\n",
        "# print below\n",
        "print(v1)"
      ],
      "metadata": {
        "colab": {
          "base_uri": "https://localhost:8080/"
        },
        "id": "lsbKnQKGULa6",
        "outputId": "5105b8d4-4564-4cd5-b76d-8e0d6c9fc9e4"
      },
      "execution_count": null,
      "outputs": [
        {
          "output_type": "stream",
          "name": "stdout",
          "text": [
            "1\n"
          ]
        }
      ]
    },
    {
      "cell_type": "markdown",
      "source": [
        "##### Task 1. Answer"
      ],
      "metadata": {
        "id": "LFQu6aTgUCja"
      }
    },
    {
      "cell_type": "code",
      "source": [
        "a = \"Hello, World!\" # string\n",
        "b = 123 # integer\n",
        "c = 1.23 # float\n",
        "d = True # boolean\n",
        "e = None # NoneType"
      ],
      "metadata": {
        "id": "JNXExmHz1sYd"
      },
      "execution_count": null,
      "outputs": []
    },
    {
      "cell_type": "markdown",
      "source": [
        "#### Task 2. Print the variables and their types using `print()` and `type()`."
      ],
      "metadata": {
        "id": "L0yTA6yxYU1A"
      }
    },
    {
      "cell_type": "code",
      "source": [
        "# print(your variable, and type(your variable))"
      ],
      "metadata": {
        "id": "JaTECHUNYoL3"
      },
      "execution_count": null,
      "outputs": []
    },
    {
      "cell_type": "markdown",
      "source": [
        "##### Task 2. Answer"
      ],
      "metadata": {
        "id": "91jCa1H0YjXO"
      }
    },
    {
      "cell_type": "code",
      "source": [
        "print(a, type(a))\n",
        "print(b, type(b))\n",
        "print(c, type(c))\n",
        "print(d, type(d))\n",
        "print(e, type(e))"
      ],
      "metadata": {
        "colab": {
          "base_uri": "https://localhost:8080/"
        },
        "id": "vOxbG470159j",
        "outputId": "b52bf2b5-cb40-4bd5-9b49-e7c916bb0981"
      },
      "execution_count": null,
      "outputs": [
        {
          "output_type": "stream",
          "name": "stdout",
          "text": [
            "Hello, World! <class 'str'>\n",
            "123 <class 'int'>\n",
            "1.23 <class 'float'>\n",
            "True <class 'bool'>\n",
            "None <class 'NoneType'>\n"
          ]
        }
      ]
    },
    {
      "cell_type": "markdown",
      "source": [
        "#### Task 2_A. Use 'functions' to convert data types"
      ],
      "metadata": {
        "id": "7dJfIiEgWb_7"
      }
    },
    {
      "cell_type": "code",
      "source": [
        "# 5 data types, int, str, float, bool, None\n",
        "a = int('55')\n",
        "print(a, type(a))\n",
        "print('55', type('55'))\n",
        "print('1.23', type('1.23'), float('1.23'),type(float('1.23')))\n"
      ],
      "metadata": {
        "colab": {
          "base_uri": "https://localhost:8080/"
        },
        "id": "9OA_eMd7NfvH",
        "outputId": "4d2406fa-baa5-4903-f4f3-d2c70b8f0b73"
      },
      "execution_count": 6,
      "outputs": [
        {
          "output_type": "stream",
          "name": "stdout",
          "text": [
            "55 <class 'int'>\n",
            "55 <class 'str'>\n",
            "1.23 <class 'str'> 1.23 <class 'float'>\n"
          ]
        }
      ]
    },
    {
      "cell_type": "markdown",
      "source": [
        "#### Task 3. What combinations of operators and operands are valid?"
      ],
      "metadata": {
        "id": "RNEcWXMuY3WH"
      }
    },
    {
      "cell_type": "code",
      "source": [
        "# a + a\n",
        "print('a'+'b')\n",
        "# print(1+'a')\n",
        "# print(True+'a')\n",
        "# print(True+None)\n",
        "# print(None+1.23)\n"
      ],
      "metadata": {
        "id": "ykimFoLCY8T6",
        "colab": {
          "base_uri": "https://localhost:8080/",
          "height": 218
        },
        "outputId": "be31623d-8116-4383-95a3-a87908a79cf7"
      },
      "execution_count": null,
      "outputs": [
        {
          "output_type": "stream",
          "name": "stdout",
          "text": [
            "ab\n"
          ]
        },
        {
          "output_type": "error",
          "ename": "TypeError",
          "evalue": "ignored",
          "traceback": [
            "\u001b[0;31m---------------------------------------------------------------------------\u001b[0m",
            "\u001b[0;31mTypeError\u001b[0m                                 Traceback (most recent call last)",
            "\u001b[0;32m<ipython-input-33-bb8be61590c4>\u001b[0m in \u001b[0;36m<cell line: 6>\u001b[0;34m()\u001b[0m\n\u001b[1;32m      4\u001b[0m \u001b[0;31m# print(True+'a')\u001b[0m\u001b[0;34m\u001b[0m\u001b[0;34m\u001b[0m\u001b[0m\n\u001b[1;32m      5\u001b[0m \u001b[0;31m# print(True+None)\u001b[0m\u001b[0;34m\u001b[0m\u001b[0;34m\u001b[0m\u001b[0m\n\u001b[0;32m----> 6\u001b[0;31m \u001b[0mprint\u001b[0m\u001b[0;34m(\u001b[0m\u001b[0;32mNone\u001b[0m\u001b[0;34m+\u001b[0m\u001b[0;36m1.23\u001b[0m\u001b[0;34m)\u001b[0m\u001b[0;34m\u001b[0m\u001b[0;34m\u001b[0m\u001b[0m\n\u001b[0m",
            "\u001b[0;31mTypeError\u001b[0m: unsupported operand type(s) for +: 'NoneType' and 'float'"
          ]
        }
      ]
    },
    {
      "cell_type": "markdown",
      "source": [
        "##### Task 3. Answer"
      ],
      "metadata": {
        "id": "BxKS5sUPY7JH"
      }
    },
    {
      "cell_type": "code",
      "source": [
        "print(a*2)\n",
        "print(a+a)\n",
        "print(a+\"Hello, World!\")\n",
        "\n",
        "print(b*b)\n",
        "print(b/10)\n",
        "\n",
        "print(b+d)\n",
        "print(b/d)\n",
        "print(b-d)\n",
        "\n",
        "print(b+True)\n",
        "print(b-True)\n",
        "print(b/True)\n",
        "\n",
        "print(b+True*10)\n",
        "\n",
        "print(abs(-4))"
      ],
      "metadata": {
        "colab": {
          "base_uri": "https://localhost:8080/"
        },
        "id": "hlms4pxpZDXO",
        "outputId": "4f661a85-7faa-4250-fac5-8e24d089024a"
      },
      "execution_count": null,
      "outputs": [
        {
          "output_type": "stream",
          "name": "stdout",
          "text": [
            "Hello, World!Hello, World!\n",
            "Hello, World!Hello, World!\n",
            "Hello, World!Hello, World!\n",
            "15129\n",
            "12.3\n",
            "124\n",
            "123.0\n",
            "122\n",
            "124\n",
            "122\n",
            "123.0\n",
            "133\n",
            "4\n"
          ]
        }
      ]
    },
    {
      "cell_type": "markdown",
      "source": [
        "### Python string Formatting"
      ],
      "metadata": {
        "id": "4paIhbsCEipV"
      }
    },
    {
      "cell_type": "code",
      "source": [
        "weight_kg = 60\n",
        "weight_lb = 2.2 * weight_kg\n",
        "\n",
        "print(\"kg: %d, lb: %.2f\" %(weight_kg, weight_lb)) # % operator\n",
        "print(\"kg: %d, lb: %d\" %(weight_kg, weight_lb)) # % operator\n",
        "print(\"kg:\",weight_kg,\", lb:\",weight_lb) #\n",
        "print(\"kg: {:.3f}, lb: {:.5f}\".format(weight_kg, weight_lb)) # format function\n",
        "print(f\"kg: {weight_kg:.2f}, lb: {weight_lb:.2f}\") # f-strings"
      ],
      "metadata": {
        "colab": {
          "base_uri": "https://localhost:8080/"
        },
        "id": "VtZkaUoCEk0T",
        "outputId": "43eb9c62-221d-4786-9e2d-d9b31e3df53d"
      },
      "execution_count": null,
      "outputs": [
        {
          "output_type": "stream",
          "name": "stdout",
          "text": [
            "kg: 60, lb: 132.00\n",
            "kg: 60, lb: 132\n",
            "kg: 60 , lb: 132.0\n",
            "kg: 60.000, lb: 132.00000\n",
            "kg: 60.00, lb: 132.00\n"
          ]
        }
      ]
    },
    {
      "cell_type": "markdown",
      "source": [
        "#### Task 4. Test str.isalpha() on 'hello', 'hello!' and ' hello'."
      ],
      "metadata": {
        "id": "Bqgyz1nRyptO"
      }
    },
    {
      "cell_type": "code",
      "source": [
        "# 'hello'.isalpha()\n",
        "a_str = 'hello'\n",
        "print(a_str.isalpha())"
      ],
      "metadata": {
        "id": "YStv_rxMyvdH",
        "colab": {
          "base_uri": "https://localhost:8080/"
        },
        "outputId": "b3ee47d0-e933-482b-93ad-094cf539a5f6"
      },
      "execution_count": 7,
      "outputs": [
        {
          "output_type": "stream",
          "name": "stdout",
          "text": [
            "True\n"
          ]
        }
      ]
    },
    {
      "cell_type": "markdown",
      "source": [
        "##### Task 4. Answer"
      ],
      "metadata": {
        "id": "VJEGXDyfyzUL"
      }
    },
    {
      "cell_type": "code",
      "source": [
        "print('hello'.isalpha(), 'hello!'.isalpha(), 'hell0'.isalpha(), ' hello'.isalpha())"
      ],
      "metadata": {
        "colab": {
          "base_uri": "https://localhost:8080/"
        },
        "id": "dNhApyLky2bq",
        "outputId": "c23b12e5-e6bf-40f1-fa67-9a6decea766c"
      },
      "execution_count": null,
      "outputs": [
        {
          "output_type": "stream",
          "name": "stdout",
          "text": [
            "True False False False\n"
          ]
        }
      ]
    },
    {
      "cell_type": "markdown",
      "source": [
        "### Data Structures\n",
        "- list: [\"ordered\", \"mutable\"]\n",
        "- tuple: (\"ordered\", \"immutable\")\n",
        "- set: {\"mutable\", \"unordered\", \"unique\"}\n",
        "- dictionary: {\"mutable\": True, \"ordered\": False, \"unique\": True}"
      ],
      "metadata": {
        "id": "d-pLwpra2Juc"
      }
    },
    {
      "cell_type": "markdown",
      "source": [
        "#### Task5. What happens if you convert a list, [\"True\", True, False, 1, 0] to a set using `set()`?"
      ],
      "metadata": {
        "id": "iU86zbZA1aSc"
      }
    },
    {
      "cell_type": "code",
      "source": [
        "# set()\n"
      ],
      "metadata": {
        "id": "KIPgAnHl1jcI"
      },
      "execution_count": null,
      "outputs": []
    },
    {
      "cell_type": "markdown",
      "source": [
        "##### Task 5. Answer"
      ],
      "metadata": {
        "id": "tUoCOfV5dKer"
      }
    },
    {
      "cell_type": "code",
      "source": [
        "set([\"True\", True, False, 1, 0])\n"
      ],
      "metadata": {
        "id": "DYVhP8QHpTxE",
        "colab": {
          "base_uri": "https://localhost:8080/"
        },
        "outputId": "eb4c9df0-5717-4c61-f840-93075d9b1586"
      },
      "execution_count": 8,
      "outputs": [
        {
          "output_type": "execute_result",
          "data": {
            "text/plain": [
              "{False, 'True', True}"
            ]
          },
          "metadata": {},
          "execution_count": 8
        }
      ]
    },
    {
      "cell_type": "markdown",
      "source": [
        "#### Task 6|. Extend vs Append. Experiment with appending and extending a list using a string and another list."
      ],
      "metadata": {
        "id": "E5ixVLDS2yGb"
      }
    },
    {
      "cell_type": "code",
      "source": [
        "my_list = [1, 2, 3]"
      ],
      "metadata": {
        "id": "wx3pyLSu37BE"
      },
      "execution_count": 9,
      "outputs": []
    },
    {
      "cell_type": "markdown",
      "source": [
        "##### Task 6. Answer"
      ],
      "metadata": {
        "id": "SCeLNpAb36yj"
      }
    },
    {
      "cell_type": "code",
      "source": [
        "# append\n",
        "my_list_a = [1, 2, 3]\n",
        "my_list_a.append(4)\n",
        "print(my_list_a)\n",
        "\n",
        "# extend\n",
        "my_list_b = [1, 2, 3]\n",
        "my_list_b.extend([4, 5, 6])\n",
        "print(my_list_b)\n",
        "\n",
        "# append a list\n",
        "my_list_c = my_list_a.copy()\n",
        "my_list_c.append(my_list_b)\n",
        "print(my_list_c)\n",
        "\n",
        "# append a string\n",
        "my_list_c.append('hello')\n",
        "print(my_list_c)\n",
        "print(list('hello'))\n",
        "\n",
        "# extend a string\n",
        "my_list_c.extend('hello')\n",
        "print(my_list_c)"
      ],
      "metadata": {
        "colab": {
          "base_uri": "https://localhost:8080/"
        },
        "id": "NUXnEWkP1SAC",
        "outputId": "9e64fa6f-1563-43de-a2c6-2fd517ec7d1b"
      },
      "execution_count": 10,
      "outputs": [
        {
          "output_type": "stream",
          "name": "stdout",
          "text": [
            "[1, 2, 3, 4]\n",
            "[1, 2, 3, 4, 5, 6]\n",
            "[1, 2, 3, 4, [1, 2, 3, 4, 5, 6]]\n",
            "[1, 2, 3, 4, [1, 2, 3, 4, 5, 6], 'hello']\n",
            "['h', 'e', 'l', 'l', 'o']\n",
            "[1, 2, 3, 4, [1, 2, 3, 4, 5, 6], 'hello', 'h', 'e', 'l', 'l', 'o']\n"
          ]
        }
      ]
    },
    {
      "cell_type": "markdown",
      "source": [
        "#### Q7. What happens if built-in functions are used as variables?"
      ],
      "metadata": {
        "id": "uc_I5bb1RYwX"
      }
    },
    {
      "cell_type": "code",
      "source": [
        "# Try with list\n",
        "# Assign some data to a list, and use `list`"
      ],
      "metadata": {
        "id": "BnnTEs9YSykC"
      },
      "execution_count": null,
      "outputs": []
    },
    {
      "cell_type": "markdown",
      "source": [
        "##### Q7. Answer"
      ],
      "metadata": {
        "id": "nudQvxn_5Jeo"
      }
    },
    {
      "cell_type": "code",
      "source": [
        "# list = [1,2,3]\n",
        "# list('hello')\n",
        "del list\n",
        "# list('hello')"
      ],
      "metadata": {
        "id": "rf9vzP5g5Lm5"
      },
      "execution_count": null,
      "outputs": []
    },
    {
      "cell_type": "markdown",
      "source": [
        "#### List"
      ],
      "metadata": {
        "id": "Is-twqR4Apkj"
      }
    },
    {
      "cell_type": "markdown",
      "source": [
        "##### 1.Using `=` operator [assigning]"
      ],
      "metadata": {
        "id": "gB2HKbx3t5OR"
      }
    },
    {
      "cell_type": "code",
      "source": [
        "old_list = [1,2,3,4,5]\n",
        "old_list2 = [[1,1,1], [2,2,2], [3,3,3]]\n",
        "\n",
        "new_list = old_list\n",
        "new_list2 = old_list2\n",
        "print(old_list)\n",
        "print(new_list)\n",
        "print(old_list2)\n",
        "print(new_list2)"
      ],
      "metadata": {
        "id": "opueg2WZt-ZN",
        "colab": {
          "base_uri": "https://localhost:8080/"
        },
        "outputId": "3037ae84-a9d7-4429-935e-1ee7add5acd3"
      },
      "execution_count": null,
      "outputs": [
        {
          "output_type": "stream",
          "name": "stdout",
          "text": [
            "[1, 2, 3, 4, 5]\n",
            "[1, 2, 3, 4, 5]\n",
            "[[1, 1, 1], [2, 2, 2], [3, 3, 3]]\n",
            "[[1, 1, 1], [2, 2, 2], [3, 3, 3]]\n"
          ]
        }
      ]
    },
    {
      "cell_type": "code",
      "source": [
        "# id(): Return the \"identity\" of an object. This is an integer which is guaranteed to be unique and constant for this object during its lifetime.\n",
        "print(id(old_list),id(new_list))\n",
        "print(id(old_list2),id(new_list2))\n"
      ],
      "metadata": {
        "id": "kmJ5t4T4uDO7",
        "colab": {
          "base_uri": "https://localhost:8080/"
        },
        "outputId": "c5a80de8-cb66-4e9c-9124-7a4151d5a638"
      },
      "execution_count": null,
      "outputs": [
        {
          "output_type": "stream",
          "name": "stdout",
          "text": [
            "139625868200576 139625868200576\n",
            "139625868213824 139625868213824\n"
          ]
        }
      ]
    },
    {
      "cell_type": "code",
      "source": [
        "# assinging\n",
        "old_list[1] = 0\n",
        "old_list2[2][2] = 0\n",
        "\n",
        "print(old_list)\n",
        "print(new_list)\n",
        "print(old_list2)\n",
        "print(new_list2)"
      ],
      "metadata": {
        "id": "uHyXcrApudLi",
        "colab": {
          "base_uri": "https://localhost:8080/"
        },
        "outputId": "84c304ae-e262-49f0-f028-e2a1bbc6126c"
      },
      "execution_count": null,
      "outputs": [
        {
          "output_type": "stream",
          "name": "stdout",
          "text": [
            "[1, 0, 3, 4, 5]\n",
            "[1, 0, 3, 4, 5]\n",
            "[[1, 1, 1], [2, 2, 2], [3, 3, 0]]\n",
            "[[1, 1, 1], [2, 2, 2], [3, 3, 0]]\n"
          ]
        }
      ]
    },
    {
      "cell_type": "code",
      "source": [
        "# appending\n",
        "old_list2.append([4,4,4])\n",
        "old_list.append(10)\n",
        "\n",
        "print(old_list)\n",
        "print(new_list)\n",
        "print(old_list2)\n",
        "print(new_list2)"
      ],
      "metadata": {
        "id": "CXrHwV-quoZo"
      },
      "execution_count": null,
      "outputs": []
    },
    {
      "cell_type": "markdown",
      "source": [
        "##### 2.Using `list.copy()` [shallow copy]"
      ],
      "metadata": {
        "id": "FfmD9iJOvM3r"
      }
    },
    {
      "cell_type": "code",
      "source": [
        "# del old_list\n",
        "# del new_list\n",
        "old_list = [1,2,3,4,5]\n",
        "old_list2 = [[1,1,1], [2,2,2], [3,3,3]]\n",
        "new_list = old_list.copy()\n",
        "new_list2 = old_list2.copy()\n",
        "print(id(old_list), id(new_list))\n",
        "print(id(old_list2), id(new_list2))"
      ],
      "metadata": {
        "id": "AZvAccczvSsL",
        "colab": {
          "base_uri": "https://localhost:8080/"
        },
        "outputId": "7fe18eb7-3045-4c5f-a673-4101cc7f20f4"
      },
      "execution_count": null,
      "outputs": [
        {
          "output_type": "stream",
          "name": "stdout",
          "text": [
            "139625869867776 139625870062720\n",
            "139625870063232 139625870239232\n"
          ]
        }
      ]
    },
    {
      "cell_type": "code",
      "source": [
        "old_list[1] = 0\n",
        "old_list2[2][2] = 0\n",
        "\n",
        "print(old_list)\n",
        "print(new_list)\n",
        "\n",
        "print(id(old_list[1]))\n",
        "print(id(new_list[1]))\n",
        "\n",
        "print(old_list2)\n",
        "print(new_list2)\n",
        "\n",
        "print(id(old_list[2]))\n",
        "print(id(new_list[2]))"
      ],
      "metadata": {
        "id": "edlDjHwfwMQQ",
        "colab": {
          "base_uri": "https://localhost:8080/"
        },
        "outputId": "270d4a4c-387c-4be3-f8df-860460c5f476"
      },
      "execution_count": null,
      "outputs": [
        {
          "output_type": "stream",
          "name": "stdout",
          "text": [
            "[1, 0, 3, 4, 5]\n",
            "[1, 2, 3, 4, 5]\n",
            "139627125735632\n",
            "139627125735696\n",
            "[[1, 1, 1], [2, 2, 2], [3, 3, 0]]\n",
            "[[1, 1, 1], [2, 2, 2], [3, 3, 0]]\n",
            "139627125735728\n",
            "139627125735728\n"
          ]
        }
      ]
    },
    {
      "cell_type": "code",
      "source": [
        "old_list.append(10)\n",
        "old_list2.append([4,4,4])\n",
        "\n",
        "print(old_list)\n",
        "print(new_list)\n",
        "print(old_list2)\n",
        "print(new_list2)\n"
      ],
      "metadata": {
        "id": "IxSolUndwVdC"
      },
      "execution_count": null,
      "outputs": []
    },
    {
      "cell_type": "markdown",
      "source": [
        "##### 3.Using `copy.deepcopy()` [deep copy using copy module]"
      ],
      "metadata": {
        "id": "vfzJxGmvwnZf"
      }
    },
    {
      "cell_type": "code",
      "source": [
        "import copy\n",
        "old_list = [[1,1,1], [2,2,2], [3,3,3]]\n",
        "new_list = copy.deepcopy(old_list)\n",
        "print(id(old_list))\n",
        "print(id(new_list))"
      ],
      "metadata": {
        "id": "DuhDrTJzi91G",
        "colab": {
          "base_uri": "https://localhost:8080/"
        },
        "outputId": "9a7fda32-1724-4043-bd21-2eb24c9437bd"
      },
      "execution_count": null,
      "outputs": [
        {
          "output_type": "stream",
          "name": "stdout",
          "text": [
            "139625869700928\n",
            "139626026873152\n"
          ]
        }
      ]
    },
    {
      "cell_type": "code",
      "source": [
        "old_list[2][2] = 0\n",
        "print(old_list)\n",
        "print(new_list)\n",
        "print(id(old_list[2]))\n",
        "print(id(new_list[2]))"
      ],
      "metadata": {
        "id": "FVSQUmRSxrOk",
        "colab": {
          "base_uri": "https://localhost:8080/"
        },
        "outputId": "e0e8f38f-838f-4a9d-c6e2-83984e5b72fb"
      },
      "execution_count": null,
      "outputs": [
        {
          "output_type": "stream",
          "name": "stdout",
          "text": [
            "[[1, 1, 1], [2, 2, 2], [3, 3, 0]]\n",
            "[[1, 1, 1], [2, 2, 2], [3, 3, 3]]\n",
            "139626028166272\n",
            "139626026779968\n"
          ]
        }
      ]
    },
    {
      "cell_type": "code",
      "source": [
        "old_list.append([4,4,4])\n",
        "print(old_list)\n",
        "print(new_list)\n",
        "print(id(old_list[3]))\n",
        "print(id(new_list[3]))"
      ],
      "metadata": {
        "id": "Is-x22_Nxud5",
        "colab": {
          "base_uri": "https://localhost:8080/",
          "height": 253
        },
        "outputId": "a350aa95-d0a0-4e35-d64a-382e6b867c3a"
      },
      "execution_count": null,
      "outputs": [
        {
          "output_type": "stream",
          "name": "stdout",
          "text": [
            "[[1, 1, 1], [2, 2, 2], [3, 3, 0], [4, 4, 4]]\n",
            "[[1, 1, 1], [2, 2, 2], [3, 3, 3]]\n",
            "139625869695616\n"
          ]
        },
        {
          "output_type": "error",
          "ename": "IndexError",
          "evalue": "ignored",
          "traceback": [
            "\u001b[0;31m---------------------------------------------------------------------------\u001b[0m",
            "\u001b[0;31mIndexError\u001b[0m                                Traceback (most recent call last)",
            "\u001b[0;32m<ipython-input-52-9d6ca56953fa>\u001b[0m in \u001b[0;36m<cell line: 5>\u001b[0;34m()\u001b[0m\n\u001b[1;32m      3\u001b[0m \u001b[0mprint\u001b[0m\u001b[0;34m(\u001b[0m\u001b[0mnew_list\u001b[0m\u001b[0;34m)\u001b[0m\u001b[0;34m\u001b[0m\u001b[0;34m\u001b[0m\u001b[0m\n\u001b[1;32m      4\u001b[0m \u001b[0mprint\u001b[0m\u001b[0;34m(\u001b[0m\u001b[0mid\u001b[0m\u001b[0;34m(\u001b[0m\u001b[0mold_list\u001b[0m\u001b[0;34m[\u001b[0m\u001b[0;36m3\u001b[0m\u001b[0;34m]\u001b[0m\u001b[0;34m)\u001b[0m\u001b[0;34m)\u001b[0m\u001b[0;34m\u001b[0m\u001b[0;34m\u001b[0m\u001b[0m\n\u001b[0;32m----> 5\u001b[0;31m \u001b[0mprint\u001b[0m\u001b[0;34m(\u001b[0m\u001b[0mid\u001b[0m\u001b[0;34m(\u001b[0m\u001b[0mnew_list\u001b[0m\u001b[0;34m[\u001b[0m\u001b[0;36m3\u001b[0m\u001b[0;34m]\u001b[0m\u001b[0;34m)\u001b[0m\u001b[0;34m)\u001b[0m\u001b[0;34m\u001b[0m\u001b[0;34m\u001b[0m\u001b[0m\n\u001b[0m",
            "\u001b[0;31mIndexError\u001b[0m: list index out of range"
          ]
        }
      ]
    },
    {
      "cell_type": "markdown",
      "source": [
        "#### Range"
      ],
      "metadata": {
        "id": "K3KLxvWxOLqY"
      }
    },
    {
      "cell_type": "code",
      "source": [
        "# [0,1,2,3,4,5,6,7,8,9] # = range(10), range(0,10), range(0,10,1)\n",
        "print(list(range(1,10,2)))\n",
        "import numpy\n",
        "print(list(numpy.arange(1,10,0.5)))"
      ],
      "metadata": {
        "id": "xeS25_-_ONfQ",
        "colab": {
          "base_uri": "https://localhost:8080/"
        },
        "outputId": "ef5a6a07-dff9-4dce-ed41-9a9c34820ec7"
      },
      "execution_count": null,
      "outputs": [
        {
          "output_type": "stream",
          "name": "stdout",
          "text": [
            "[1, 3, 5, 7, 9]\n",
            "[1.0, 1.5, 2.0, 2.5, 3.0, 3.5, 4.0, 4.5, 5.0, 5.5, 6.0, 6.5, 7.0, 7.5, 8.0, 8.5, 9.0, 9.5]\n"
          ]
        }
      ]
    },
    {
      "cell_type": "markdown",
      "source": [
        "#### Tuple"
      ],
      "metadata": {
        "id": "H4UttjlEGmYE"
      }
    },
    {
      "cell_type": "markdown",
      "source": [
        "##### Q8. Can we add elements to an existing tuple?"
      ],
      "metadata": {
        "id": "15gZ-aGKHpdQ"
      }
    },
    {
      "cell_type": "code",
      "source": [
        "list_a = [1,2,3,4,5]\n",
        "tuple_a = tuple(list_a)"
      ],
      "metadata": {
        "id": "_jkL2eKtHtEe"
      },
      "execution_count": null,
      "outputs": []
    },
    {
      "cell_type": "markdown",
      "source": [
        "###### Q8. Answer"
      ],
      "metadata": {
        "id": "hEWgWkyaHwXD"
      }
    },
    {
      "cell_type": "code",
      "source": [
        "list_a = [1,2,3,4,5]\n",
        "tuple_a = tuple(list_a)\n",
        "print(tuple_a)"
      ],
      "metadata": {
        "id": "q-UvL9KIGoBK"
      },
      "execution_count": null,
      "outputs": []
    },
    {
      "cell_type": "code",
      "source": [
        "tuple_a = list(tuple_a)\n",
        "tuple_a.extend(range(5,10))\n",
        "tuple_a = tuple(tuple_a)\n",
        "print(tuple_a)"
      ],
      "metadata": {
        "id": "dfQDvo5qGu9s"
      },
      "execution_count": null,
      "outputs": []
    },
    {
      "cell_type": "markdown",
      "source": [
        "#### Set"
      ],
      "metadata": {
        "id": "Pj0uEfj0Faf9"
      }
    },
    {
      "cell_type": "markdown",
      "source": [
        "##### Task 9. What's the hash value of 'A' and 'a'?"
      ],
      "metadata": {
        "id": "RPSts8GlJS4O"
      }
    },
    {
      "cell_type": "code",
      "source": [
        "# hash()"
      ],
      "metadata": {
        "id": "wG7tJoaiJWK2"
      },
      "execution_count": 11,
      "outputs": []
    },
    {
      "cell_type": "markdown",
      "source": [
        "#### Task 9A. What are the differences and common elements between of “list_X” and “list_Y”?"
      ],
      "metadata": {
        "id": "e8qYgQy-ou0W"
      }
    },
    {
      "cell_type": "code",
      "source": [
        "list_X = [1,2,3,4,5]\n",
        "list_Y = [4,5,6,7,8]\n"
      ],
      "metadata": {
        "id": "Vq3IYFJnoudI"
      },
      "execution_count": 13,
      "outputs": []
    },
    {
      "cell_type": "markdown",
      "source": [
        "##### Task 9A. Answer"
      ],
      "metadata": {
        "id": "SEvf8l1To18T"
      }
    },
    {
      "cell_type": "code",
      "source": [
        "X_n_Y = set(list_X).intersection(set(list_Y))\n",
        "X_Y = set(list_X).difference(set(list_Y))\n",
        "Y_X = set(list_Y).difference(set(list_X))\n",
        "X_n_Y = set(list_X) & set(list_Y)\n",
        "X_Y = set(list_X) - set(list_Y)\n",
        "Y_X = set(list_Y) - set(list_X)\n",
        "print(X_n_Y)\n",
        "print(X_Y, Y_X)"
      ],
      "metadata": {
        "colab": {
          "base_uri": "https://localhost:8080/"
        },
        "id": "mt3gnHNao4CO",
        "outputId": "406b7f7d-7364-4e9a-8c9b-73e79c000c3d"
      },
      "execution_count": 18,
      "outputs": [
        {
          "output_type": "stream",
          "name": "stdout",
          "text": [
            "{4, 5}\n",
            "{1, 2, 3} {8, 6, 7}\n"
          ]
        }
      ]
    },
    {
      "cell_type": "markdown",
      "source": [
        "#### Basic Sets"
      ],
      "metadata": {
        "id": "VvPHFRKPJbCv"
      }
    },
    {
      "cell_type": "code",
      "source": [
        "set_A = {1,2,3}\n",
        "set_B = {1,2,3,4,5}\n",
        "set_C = {3,4,8,9,10}"
      ],
      "metadata": {
        "id": "ce98eMSGPen8"
      },
      "execution_count": null,
      "outputs": []
    },
    {
      "cell_type": "code",
      "source": [
        "# hash('a')\n",
        "print(hash('a'), hash('A'))"
      ],
      "metadata": {
        "id": "kAJdUulLJkgO",
        "colab": {
          "base_uri": "https://localhost:8080/"
        },
        "outputId": "8cf64fa4-660f-4fc5-9766-f2906e4de8e0"
      },
      "execution_count": null,
      "outputs": [
        {
          "output_type": "stream",
          "name": "stdout",
          "text": [
            "4863627322641951870 6864763336248938791\n"
          ]
        }
      ]
    },
    {
      "cell_type": "code",
      "source": [
        "set_A & set_B & set_C\n",
        "set_A.intersection(set_B).intersection(set_C)\n",
        "# I\n",
        "set_B | set_C\n",
        "set_B.union(set_C)\n",
        "# II\n",
        "print(set_A & (set_B | set_C))\n",
        "print(set_A.intersection(set_B.union(set_C)))\n",
        "\n",
        "# III\n",
        "set_A & set_B\n",
        "set_A.intersection(set_B)\n",
        "\n",
        "# IV\n",
        "\n",
        "# V\n",
        "set_A.intersection(set_B) | set_A.intersection(set_C)"
      ],
      "metadata": {
        "id": "2V5SMSmWfT_w"
      },
      "execution_count": null,
      "outputs": []
    },
    {
      "cell_type": "markdown",
      "source": [
        "#### Dictionary"
      ],
      "metadata": {
        "id": "jgT2ULXIHxFq"
      }
    },
    {
      "cell_type": "code",
      "source": [
        "a = dict(one=1, two=2, three=3)\n",
        "\n",
        "b = {'one': 1, 'two': 2, 'three': 3}\n",
        "\n",
        "c = dict(zip(['one', 'two', 'three'], [1, 2, 3]))\n",
        "\n",
        "d = dict([('two', 2), ('one', 1), ('three', 3)])\n",
        "\n",
        "e = dict({'three': 3, 'one': 1, 'two': 2})\n",
        "\n",
        "f = dict({'one': 1, 'three': 3}, two=2)\n",
        "\n",
        "a == b == c == d == e == f"
      ],
      "metadata": {
        "id": "tbsTfYOSLR1i"
      },
      "execution_count": null,
      "outputs": []
    },
    {
      "cell_type": "markdown",
      "source": [
        "##### Task 10. What happens if we add redundant keys?"
      ],
      "metadata": {
        "id": "D68IHjKGLllq"
      }
    },
    {
      "cell_type": "code",
      "source": [
        "#"
      ],
      "metadata": {
        "id": "45E0Nf6NVvgy"
      },
      "execution_count": null,
      "outputs": []
    },
    {
      "cell_type": "markdown",
      "source": [
        "##### Task 11. What is difference between using slicing `[]` and `get()` method?"
      ],
      "metadata": {
        "id": "0Ufkk1JQNT_J"
      }
    },
    {
      "cell_type": "code",
      "source": [
        "test_dict = {'a': 1, 'b':2}\n",
        "# print(test_dict['a'])\n",
        "# print(test_dict.get('a'))\n",
        "# print(test_dict.get('b'))\n",
        "# print(test_dict.get('c'))"
      ],
      "metadata": {
        "id": "bI5xJl67NTuJ",
        "colab": {
          "base_uri": "https://localhost:8080/"
        },
        "outputId": "cd96991d-5dd3-485c-c0f2-76f8e4b999a7"
      },
      "execution_count": 22,
      "outputs": [
        {
          "output_type": "stream",
          "name": "stdout",
          "text": [
            "1\n",
            "1\n",
            "2\n",
            "None\n"
          ]
        }
      ]
    },
    {
      "cell_type": "markdown",
      "source": [
        "### Compound statements\n"
      ],
      "metadata": {
        "id": "aGjEfHe0YRuC"
      }
    },
    {
      "cell_type": "markdown",
      "source": [
        "#### IF statements"
      ],
      "metadata": {
        "id": "9CbESbXYP1T-"
      }
    },
    {
      "cell_type": "markdown",
      "source": [
        "##### Using IF on a fixed variable"
      ],
      "metadata": {
        "id": "6LAHsgquP1ub"
      }
    },
    {
      "cell_type": "code",
      "source": [
        "x = 101341234\n",
        "\n",
        "if 0 < x < 101:\n",
        "  print(f\"{x} is positive, but less than 101.\")\n",
        "elif x == 0:\n",
        "  print(f\"{x} is zero.\")\n",
        "elif x < 0:\n",
        "  print(f\"{x} is negative.\")\n",
        "else:\n",
        "  print(f\"{x} is greater than 101.\")"
      ],
      "metadata": {
        "id": "qNHxI0ulPiNP",
        "colab": {
          "base_uri": "https://localhost:8080/"
        },
        "outputId": "4bd6b81e-a1d5-4cec-9e59-bc8950733b94"
      },
      "execution_count": null,
      "outputs": [
        {
          "output_type": "stream",
          "name": "stdout",
          "text": [
            "101341234 is greater than 101.\n"
          ]
        }
      ]
    },
    {
      "cell_type": "markdown",
      "source": [
        "#### Task 12. Object Identity"
      ],
      "metadata": {
        "id": "Byy52qwaTGBR"
      }
    },
    {
      "cell_type": "code",
      "source": [
        "#\n"
      ],
      "metadata": {
        "id": "JqDmuoyeTJJT"
      },
      "execution_count": null,
      "outputs": []
    },
    {
      "cell_type": "markdown",
      "source": [
        "##### Task 12. Answer"
      ],
      "metadata": {
        "id": "_XDHgeQnTLbF"
      }
    },
    {
      "cell_type": "code",
      "source": [
        "a = [1, 2, 3]\n",
        "b = [1, 2, 3]\n",
        "c = a.copy()\n",
        "d = a\n",
        "print(a, b, c, d)\n",
        "print(\"a is b:\", a is b)\n",
        "print(\"a is c:\", a is c)\n",
        "print(\"a is d:\", a is d)\n",
        "print(id(a), id(b), id(c), id(d))\n",
        "print(a==b==c==d)\n",
        "print(a is b is c is d)"
      ],
      "metadata": {
        "id": "nX-JFx04TM_K",
        "colab": {
          "base_uri": "https://localhost:8080/"
        },
        "outputId": "6ae5bb81-630b-4cfc-cf6e-8f087be7b0ed"
      },
      "execution_count": 32,
      "outputs": [
        {
          "output_type": "stream",
          "name": "stdout",
          "text": [
            "[1, 2, 3] [1, 2, 3] [1, 2, 3] [1, 2, 3]\n",
            "a is b: False\n",
            "a is c: False\n",
            "a is d: True\n",
            "136986535897536 136986535897984 136986535897792 136986535897536\n",
            "True\n",
            "False\n"
          ]
        }
      ]
    },
    {
      "cell_type": "markdown",
      "source": [
        "#### Using IF on an input function (variable input) : This will raise a TypeError"
      ],
      "metadata": {
        "id": "TcQth_VrP6Vd"
      }
    },
    {
      "cell_type": "code",
      "source": [
        "# x = input(\"Please type any value here.\")\n",
        "x = float(input(\"Please type any value here:\"))\n",
        "\n",
        "if 0 < x < 101:\n",
        "  print(f\"{x} is positive, but less than 101.\")\n",
        "elif x == 0:\n",
        "  print(f\"{x} is zero.\")\n",
        "elif x < 0:\n",
        "  print(f\"{x} is negative.\")\n",
        "else:\n",
        "  print(f\"{x} is greater than 101.\")"
      ],
      "metadata": {
        "id": "CkCoxIn8PkyR"
      },
      "execution_count": null,
      "outputs": []
    },
    {
      "cell_type": "code",
      "source": [
        "x = 0\n",
        "if 0 < x < 101:\n",
        "  print(f\"{x} is positive, but less than 101.\")\n",
        "if x == 0:\n",
        "    print(f\"{x} is zero.\")"
      ],
      "metadata": {
        "id": "dytpp56JQFgN"
      },
      "execution_count": null,
      "outputs": []
    },
    {
      "cell_type": "code",
      "source": [
        "\n",
        "letter = \"Z\"\n",
        "\n",
        "if letter == \"B\":\n",
        "    print(\"letter is B\")\n",
        "\n",
        "elif letter == \"C\":\n",
        "    print(\"letter is C\")\n",
        "\n",
        "elif letter == \"A\":\n",
        "    print(\"letter is A\")\n",
        "\n",
        "else:\n",
        "    print(\"letter isn't A, B or C\")"
      ],
      "metadata": {
        "id": "_US-DmXKXZTT"
      },
      "execution_count": null,
      "outputs": []
    },
    {
      "cell_type": "code",
      "source": [
        "\n",
        "letter = \"Z\"\n",
        "\n",
        "if letter == \"B\":\n",
        "    print(\"letter is B\")\n",
        "\n",
        "if letter == \"C\":\n",
        "    print(\"letter is C\")\n",
        "\n",
        "if letter == \"A\":\n",
        "    print(\"letter is A\")\n"
      ],
      "metadata": {
        "id": "Eb4_vzurZFuD"
      },
      "execution_count": null,
      "outputs": []
    },
    {
      "cell_type": "markdown",
      "source": [
        "## Function and Class"
      ],
      "metadata": {
        "id": "TYbApMZKzAl9"
      }
    },
    {
      "cell_type": "code",
      "source": [
        "def calculator_fn(x1, x2):\n",
        "  history = list()\n",
        "  history.append(x1)\n",
        "  history.append(x2)\n",
        "  print(history)\n",
        "  def multiplier(x1, x2):\n",
        "    return x1 * x2\n",
        "  def summation(x1, x2):\n",
        "    return x1 + x2\n",
        "  def subtraction(x1, x2):\n",
        "    return x1 - x2\n",
        "  return multiplier(x1, x2), summation(x1, x2), subtraction(x1, x2)"
      ],
      "metadata": {
        "id": "pbulbBJbzBqM"
      },
      "execution_count": null,
      "outputs": []
    },
    {
      "cell_type": "code",
      "source": [
        "class calculator:\n",
        "\tdef __init__(self):\n",
        "\t\tprint(\"You initiated a calculator\")\n",
        "\t\tself.x1 = 0\n",
        "\t\tself.x2 = 0\n",
        "\t\tself.history = list()\n",
        "\n",
        "\tdef set_values(self, x1, x2):\n",
        "\t\tself.x1 = x1\n",
        "\t\tself.x2 = x2\n",
        "\t\tself.history.append([x1,x2])\n",
        "\n",
        "\tdef multiplier(self):\n",
        "\t\treturn self.x1 * self.x2\n",
        "\tdef summation(self):\n",
        "\t\treturn self.x1+self.x2\n",
        "\tdef subtraction(self):\n",
        "\t\treturn self.x1-self.x2\n",
        "\n",
        "\tdef get_all_values(self):\n",
        "\t\treturn self.multiplier(), self.summation(), self.subtraction()"
      ],
      "metadata": {
        "id": "wvsqIMBjzPXb"
      },
      "execution_count": null,
      "outputs": []
    },
    {
      "cell_type": "code",
      "source": [
        "cf = calculator_fn\n",
        "cf(1,10)\n"
      ],
      "metadata": {
        "id": "zhAR_4GSzS7f",
        "colab": {
          "base_uri": "https://localhost:8080/"
        },
        "outputId": "bb0e276f-d94f-425c-c9fd-dad90cdb648d"
      },
      "execution_count": null,
      "outputs": [
        {
          "output_type": "stream",
          "name": "stdout",
          "text": [
            "[1, 10]\n"
          ]
        },
        {
          "output_type": "execute_result",
          "data": {
            "text/plain": [
              "(10, 11, -9)"
            ]
          },
          "metadata": {},
          "execution_count": 70
        }
      ]
    },
    {
      "cell_type": "code",
      "source": [
        "cf(10,20)"
      ],
      "metadata": {
        "id": "0Mr3dgB40mS1",
        "colab": {
          "base_uri": "https://localhost:8080/"
        },
        "outputId": "47ebd034-3dfe-4c61-9b90-e759cd472e5c"
      },
      "execution_count": null,
      "outputs": [
        {
          "output_type": "stream",
          "name": "stdout",
          "text": [
            "[10, 20]\n"
          ]
        },
        {
          "output_type": "execute_result",
          "data": {
            "text/plain": [
              "(200, 30, -10)"
            ]
          },
          "metadata": {},
          "execution_count": 71
        }
      ]
    },
    {
      "cell_type": "code",
      "source": [
        "cc = calculator()"
      ],
      "metadata": {
        "id": "xkT2B9u7zscf",
        "colab": {
          "base_uri": "https://localhost:8080/"
        },
        "outputId": "79e77897-9b8b-4943-ce0f-e03dc4fe07ca"
      },
      "execution_count": null,
      "outputs": [
        {
          "output_type": "stream",
          "name": "stdout",
          "text": [
            "You initiated a calculator\n"
          ]
        }
      ]
    },
    {
      "cell_type": "code",
      "source": [
        "cc.set_values(10,100)"
      ],
      "metadata": {
        "id": "DbPjQGeF0A4b"
      },
      "execution_count": null,
      "outputs": []
    },
    {
      "cell_type": "code",
      "source": [
        "cc.multiplier()"
      ],
      "metadata": {
        "id": "DlfJ5UoD0Xv8",
        "colab": {
          "base_uri": "https://localhost:8080/"
        },
        "outputId": "ddde5143-f6ee-46e0-9ce7-38d370e9ad8e"
      },
      "execution_count": null,
      "outputs": [
        {
          "output_type": "execute_result",
          "data": {
            "text/plain": [
              "1000"
            ]
          },
          "metadata": {},
          "execution_count": 74
        }
      ]
    },
    {
      "cell_type": "code",
      "source": [
        "cc.summation()"
      ],
      "metadata": {
        "id": "AsdSutnqXsD_",
        "colab": {
          "base_uri": "https://localhost:8080/"
        },
        "outputId": "0c18763a-eabc-4209-ffdd-082e667c13d2"
      },
      "execution_count": null,
      "outputs": [
        {
          "output_type": "execute_result",
          "data": {
            "text/plain": [
              "110"
            ]
          },
          "metadata": {},
          "execution_count": 75
        }
      ]
    },
    {
      "cell_type": "code",
      "source": [
        "cc.set_values(1,-10)"
      ],
      "metadata": {
        "id": "a-QqAVD403LJ"
      },
      "execution_count": null,
      "outputs": []
    },
    {
      "cell_type": "code",
      "source": [
        "cc.multiplier()"
      ],
      "metadata": {
        "id": "TrxG6EsM05Mu",
        "colab": {
          "base_uri": "https://localhost:8080/"
        },
        "outputId": "44d1a580-cb3f-482f-b6a2-47f7f6e4f656"
      },
      "execution_count": null,
      "outputs": [
        {
          "output_type": "execute_result",
          "data": {
            "text/plain": [
              "-10"
            ]
          },
          "metadata": {},
          "execution_count": 77
        }
      ]
    },
    {
      "cell_type": "code",
      "source": [
        "cc.history"
      ],
      "metadata": {
        "id": "z3rlMNrO058t",
        "colab": {
          "base_uri": "https://localhost:8080/"
        },
        "outputId": "6d4b0da6-cfe4-4729-842e-e741392b6267"
      },
      "execution_count": null,
      "outputs": [
        {
          "output_type": "execute_result",
          "data": {
            "text/plain": [
              "[[10, 100], [1, -10]]"
            ]
          },
          "metadata": {},
          "execution_count": 78
        }
      ]
    },
    {
      "cell_type": "code",
      "source": [
        "del list"
      ],
      "metadata": {
        "colab": {
          "base_uri": "https://localhost:8080/",
          "height": 166
        },
        "id": "Udc3GBzPj6v-",
        "outputId": "51750d5a-4948-48fc-e367-3715bbf96eac"
      },
      "execution_count": null,
      "outputs": [
        {
          "output_type": "error",
          "ename": "NameError",
          "evalue": "ignored",
          "traceback": [
            "\u001b[0;31m---------------------------------------------------------------------------\u001b[0m",
            "\u001b[0;31mNameError\u001b[0m                                 Traceback (most recent call last)",
            "\u001b[0;32m<ipython-input-99-604ec154886e>\u001b[0m in \u001b[0;36m<cell line: 1>\u001b[0;34m()\u001b[0m\n\u001b[0;32m----> 1\u001b[0;31m \u001b[0;32mdel\u001b[0m \u001b[0mlist\u001b[0m\u001b[0;34m\u001b[0m\u001b[0;34m\u001b[0m\u001b[0m\n\u001b[0m",
            "\u001b[0;31mNameError\u001b[0m: name 'list' is not defined"
          ]
        }
      ]
    },
    {
      "cell_type": "markdown",
      "source": [
        "### for loop"
      ],
      "metadata": {
        "id": "h-GLcfeC7FfM"
      }
    },
    {
      "cell_type": "code",
      "source": [
        "# Else\n",
        "for x in range(5): # = [0,1,2,3,4]\n",
        "  print(x)\n",
        "else:\n",
        "  print(f\"{x} is the last element.\")"
      ],
      "metadata": {
        "id": "oLLF5kFaYWza",
        "colab": {
          "base_uri": "https://localhost:8080/"
        },
        "outputId": "a60da5b3-9a64-4a1c-e142-1225dfd95219"
      },
      "execution_count": null,
      "outputs": [
        {
          "output_type": "stream",
          "name": "stdout",
          "text": [
            "0\n",
            "1\n",
            "2\n",
            "3\n",
            "4\n",
            "4 is the last element.\n"
          ]
        }
      ]
    },
    {
      "cell_type": "code",
      "source": [
        "for i in range(5):\n",
        "  print(i)\n",
        "  if i % 2 == 1:\n",
        "    print(f\"{i} is an odd number.\")\n",
        "  # continue\n",
        "  # print(\"?\")"
      ],
      "metadata": {
        "id": "8yYXnIjRZRaY",
        "colab": {
          "base_uri": "https://localhost:8080/"
        },
        "outputId": "fb2dcceb-ea5b-418c-d8e2-5aee47cc9aa5"
      },
      "execution_count": 40,
      "outputs": [
        {
          "output_type": "stream",
          "name": "stdout",
          "text": [
            "0\n",
            "1\n",
            "1 is an odd number.\n",
            "2\n",
            "3\n",
            "3 is an odd number.\n",
            "4\n"
          ]
        }
      ]
    },
    {
      "cell_type": "code",
      "source": [
        "for i in range(5):\n",
        "  print(i)\n",
        "  if i % 2 == 1:\n",
        "    print(f\"{i} is an odd number.\")\n",
        "    break"
      ],
      "metadata": {
        "id": "-onrEkADZTV_",
        "colab": {
          "base_uri": "https://localhost:8080/"
        },
        "outputId": "66faf9de-0b77-4a75-b39f-061746cc6a2a"
      },
      "execution_count": null,
      "outputs": [
        {
          "output_type": "stream",
          "name": "stdout",
          "text": [
            "0\n",
            "1\n",
            "1 is an odd number.\n"
          ]
        }
      ]
    },
    {
      "cell_type": "code",
      "source": [
        "for i in range(15):\n",
        "  if i % 2 == 1:\n",
        "    print(f\"{i} is an odd nunber\")\n",
        "    break # or continue\n",
        "  print(i,\"Still the inside of FOR loop, right after the break/continue\")\n",
        "\n",
        "print(\"This will be excuted regardless of break/continue\")"
      ],
      "metadata": {
        "id": "Om8gK-Cp7GSH",
        "colab": {
          "base_uri": "https://localhost:8080/"
        },
        "outputId": "0bffb9f6-c5e8-4f6d-f472-e4afe4371e38"
      },
      "execution_count": null,
      "outputs": [
        {
          "output_type": "stream",
          "name": "stdout",
          "text": [
            "0 Still the inside of FOR loop, right after the break/continue\n",
            "1 is an odd nunber\n",
            "This will be excuted regardless of break/continue\n"
          ]
        }
      ]
    },
    {
      "cell_type": "markdown",
      "source": [
        "#### Task 13. Complete the following codes to return a list of words start with \"A\"."
      ],
      "metadata": {
        "id": "KcM538XwZjfu"
      }
    },
    {
      "cell_type": "code",
      "source": [
        "list_of_queries = ['ATC','ATT','TAC','ACT','AAA','ATA', 'CTT','TTT','CAC']\n",
        "\n",
        "str.startswith('A')"
      ],
      "metadata": {
        "id": "1UJHU8XIZtEA"
      },
      "execution_count": null,
      "outputs": []
    },
    {
      "cell_type": "markdown",
      "source": [
        "##### Task 13. Answer"
      ],
      "metadata": {
        "id": "l1yXhxJZZtqp"
      }
    },
    {
      "cell_type": "code",
      "source": [
        "list_of_queries = ['ATC','ATT','TAC','ACT','AAA','ATA', 'CTT','TTT','CAC']\n",
        "list_of_A_queries = list()\n",
        "for i in list_of_queries:\n",
        "  print(i)\n",
        "  if i.startswith('A'):\n",
        "    list_of_A_queries.append(i)\n",
        "print(list_of_A_queries)"
      ],
      "metadata": {
        "id": "5HwL-uC27l62",
        "colab": {
          "base_uri": "https://localhost:8080/"
        },
        "outputId": "98eab0c3-425d-4625-ca3e-d3fa6fc1ad53"
      },
      "execution_count": null,
      "outputs": [
        {
          "output_type": "stream",
          "name": "stdout",
          "text": [
            "ATC\n",
            "ATT\n",
            "TAC\n",
            "ACT\n",
            "AAA\n",
            "ATA\n",
            "CTT\n",
            "TTT\n",
            "CAC\n",
            "['ATC', 'ATT', 'ACT', 'AAA', 'ATA']\n"
          ]
        }
      ]
    },
    {
      "cell_type": "markdown",
      "source": [
        "### Try and Except"
      ],
      "metadata": {
        "id": "fK70FalEaqH8"
      }
    },
    {
      "cell_type": "code",
      "source": [
        "for x in range(-10,10): # -10......0\n",
        "  y = 100/x\n",
        "  print(x)"
      ],
      "metadata": {
        "id": "WFE2-RmscENE",
        "colab": {
          "base_uri": "https://localhost:8080/",
          "height": 384
        },
        "outputId": "34c4dd2a-a5a4-4bf5-d606-83ccbd4dd667"
      },
      "execution_count": 41,
      "outputs": [
        {
          "output_type": "stream",
          "name": "stdout",
          "text": [
            "-10\n",
            "-9\n",
            "-8\n",
            "-7\n",
            "-6\n",
            "-5\n",
            "-4\n",
            "-3\n",
            "-2\n",
            "-1\n"
          ]
        },
        {
          "output_type": "error",
          "ename": "ZeroDivisionError",
          "evalue": "ignored",
          "traceback": [
            "\u001b[0;31m---------------------------------------------------------------------------\u001b[0m",
            "\u001b[0;31mZeroDivisionError\u001b[0m                         Traceback (most recent call last)",
            "\u001b[0;32m<ipython-input-41-03a343a93a08>\u001b[0m in \u001b[0;36m<cell line: 1>\u001b[0;34m()\u001b[0m\n\u001b[1;32m      1\u001b[0m \u001b[0;32mfor\u001b[0m \u001b[0mx\u001b[0m \u001b[0;32min\u001b[0m \u001b[0mrange\u001b[0m\u001b[0;34m(\u001b[0m\u001b[0;34m-\u001b[0m\u001b[0;36m10\u001b[0m\u001b[0;34m,\u001b[0m\u001b[0;36m10\u001b[0m\u001b[0;34m)\u001b[0m\u001b[0;34m:\u001b[0m \u001b[0;31m# -10......0\u001b[0m\u001b[0;34m\u001b[0m\u001b[0;34m\u001b[0m\u001b[0m\n\u001b[0;32m----> 2\u001b[0;31m   \u001b[0my\u001b[0m \u001b[0;34m=\u001b[0m \u001b[0;36m100\u001b[0m\u001b[0;34m/\u001b[0m\u001b[0mx\u001b[0m\u001b[0;34m\u001b[0m\u001b[0;34m\u001b[0m\u001b[0m\n\u001b[0m\u001b[1;32m      3\u001b[0m   \u001b[0mprint\u001b[0m\u001b[0;34m(\u001b[0m\u001b[0mx\u001b[0m\u001b[0;34m)\u001b[0m\u001b[0;34m\u001b[0m\u001b[0;34m\u001b[0m\u001b[0m\n",
            "\u001b[0;31mZeroDivisionError\u001b[0m: division by zero"
          ]
        }
      ]
    },
    {
      "cell_type": "code",
      "source": [
        "try:\n",
        "  for x in range (-10,10):\n",
        "    y = 100/x\n",
        "    print(x)\n",
        "except ZeroDivisionError as e:\n",
        "# except Exception as e:\n",
        "  print(e)\n",
        "  # pass\n"
      ],
      "metadata": {
        "id": "LBOMfvSpamvm",
        "colab": {
          "base_uri": "https://localhost:8080/"
        },
        "outputId": "2c648a67-672b-4d36-ef73-d543e188d622"
      },
      "execution_count": 42,
      "outputs": [
        {
          "output_type": "stream",
          "name": "stdout",
          "text": [
            "-10\n",
            "-9\n",
            "-8\n",
            "-7\n",
            "-6\n",
            "-5\n",
            "-4\n",
            "-3\n",
            "-2\n",
            "-1\n",
            "division by zero\n"
          ]
        }
      ]
    },
    {
      "cell_type": "code",
      "source": [
        "for x in range (-10,10):\n",
        "  try:\n",
        "    y = 100/x\n",
        "    print(x)\n",
        "  except ZeroDivisionError as e:\n",
        "  # except Exception as e:\n",
        "  # print(e)\n",
        "    pass\n"
      ],
      "metadata": {
        "id": "2Ug9jNApb4cD",
        "colab": {
          "base_uri": "https://localhost:8080/"
        },
        "outputId": "5fcfbfe7-59c3-4c23-b06d-85d746d872e0"
      },
      "execution_count": 43,
      "outputs": [
        {
          "output_type": "stream",
          "name": "stdout",
          "text": [
            "-10\n",
            "-9\n",
            "-8\n",
            "-7\n",
            "-6\n",
            "-5\n",
            "-4\n",
            "-3\n",
            "-2\n",
            "-1\n",
            "1\n",
            "2\n",
            "3\n",
            "4\n",
            "5\n",
            "6\n",
            "7\n",
            "8\n",
            "9\n"
          ]
        }
      ]
    },
    {
      "cell_type": "markdown",
      "source": [
        "### while statement"
      ],
      "metadata": {
        "id": "_V8hdLlqnR74"
      }
    },
    {
      "cell_type": "code",
      "source": [
        "a = 1\n",
        "while a != 0: # True for run, False for stop\n",
        "  a = int(input(\"Enter a number (0 to stop):\"))"
      ],
      "metadata": {
        "id": "1kPxmHKFnTrm",
        "colab": {
          "base_uri": "https://localhost:8080/"
        },
        "outputId": "5c9e27c3-a195-4b96-eba5-5412fb002da4"
      },
      "execution_count": null,
      "outputs": [
        {
          "name": "stdout",
          "output_type": "stream",
          "text": [
            "Enter a number (0 to stop):0\n"
          ]
        }
      ]
    },
    {
      "cell_type": "markdown",
      "source": [
        "### pass statement\n"
      ],
      "metadata": {
        "id": "7bpHf5DTp7l6"
      }
    },
    {
      "cell_type": "code",
      "source": [
        "for x in range(1,10):\n",
        "  if x < 3:\n",
        "    print(f\"{x} is less than 3\")\n",
        "  elif x < 5:\n",
        "    # pass\n",
        "    print(f\"{x} is less than 5\")\n",
        "  else:\n",
        "    print(f\"{x} is greater than or equal to 5\")"
      ],
      "metadata": {
        "id": "7vQwYFb_p7zE"
      },
      "execution_count": null,
      "outputs": []
    },
    {
      "cell_type": "markdown",
      "source": [
        "## CSV and Data Analysis"
      ],
      "metadata": {
        "id": "DSwSRK2JPnWT"
      }
    },
    {
      "cell_type": "code",
      "source": [
        "# wget download..\n",
        "!wget https://raw.githubusercontent.com/YoochanMyung/python_workshop/main/inflammation-01.csv"
      ],
      "metadata": {
        "id": "RK0liNRD_bIj",
        "colab": {
          "base_uri": "https://localhost:8080/"
        },
        "outputId": "63315207-e1a0-4b69-d20a-d251eb26698d"
      },
      "execution_count": 66,
      "outputs": [
        {
          "output_type": "stream",
          "name": "stdout",
          "text": [
            "--2023-11-22 11:44:11--  https://raw.githubusercontent.com/YoochanMyung/python_workshop/main/inflammation-01.csv\n",
            "Resolving raw.githubusercontent.com (raw.githubusercontent.com)... 185.199.108.133, 185.199.109.133, 185.199.110.133, ...\n",
            "Connecting to raw.githubusercontent.com (raw.githubusercontent.com)|185.199.108.133|:443... connected.\n",
            "HTTP request sent, awaiting response... 200 OK\n",
            "Length: 5365 (5.2K) [text/plain]\n",
            "Saving to: ‘inflammation-01.csv.2’\n",
            "\n",
            "\rinflammation-01.csv   0%[                    ]       0  --.-KB/s               \rinflammation-01.csv 100%[===================>]   5.24K  --.-KB/s    in 0s      \n",
            "\n",
            "2023-11-22 11:44:11 (53.4 MB/s) - ‘inflammation-01.csv.2’ saved [5365/5365]\n",
            "\n"
          ]
        }
      ]
    },
    {
      "cell_type": "code",
      "source": [
        "import numpy as np"
      ],
      "metadata": {
        "id": "epceDlux_XsF"
      },
      "execution_count": 68,
      "outputs": []
    },
    {
      "cell_type": "markdown",
      "source": [
        "##### Numpy array"
      ],
      "metadata": {
        "id": "9Mv71UF8IJLj"
      }
    },
    {
      "cell_type": "code",
      "source": [
        "list_a = [[0,2,3],[1,5,10]] # 2D list\n",
        "list_b = [[8,2,1],[25,1,1]] # 2D list\n",
        "print(list_a+list_b) # append list_a, list_b\n",
        "\n",
        "array_a = np.array(list_a) # 2 x 3 matrix\n",
        "array_b = np.array(list_b) # 2 x 3 matrix\n",
        "print(array_a+array_b) # 2 x 3 matrix summation, not append\n",
        "\n",
        "print(np.array(list_a+list_b)) # same as the following vertical\n",
        "array_ab_v = np.append(array_a,array_b,axis=0) # vertical\n",
        "print(array_ab_v)\n",
        "array_ab_h = np.append(array_a,array_b,axis=1) # horizontal\n",
        "print(array_ab_h)"
      ],
      "metadata": {
        "colab": {
          "base_uri": "https://localhost:8080/"
        },
        "id": "NmL033mbBUHw",
        "outputId": "11a87422-4ecd-48c4-f1b3-4ad277d7f7ba"
      },
      "execution_count": 145,
      "outputs": [
        {
          "output_type": "stream",
          "name": "stdout",
          "text": [
            "[[0, 2, 3], [1, 5, 10], [8, 2, 1], [25, 1, 1]]\n",
            "[[ 8  4  4]\n",
            " [26  6 11]]\n",
            "[[ 0  2  3]\n",
            " [ 1  5 10]\n",
            " [ 8  2  1]\n",
            " [25  1  1]]\n",
            "[[ 0  2  3]\n",
            " [ 1  5 10]\n",
            " [ 8  2  1]\n",
            " [25  1  1]]\n",
            "[[ 0  2  3  8  2  1]\n",
            " [ 1  5 10 25  1  1]]\n"
          ]
        }
      ]
    },
    {
      "cell_type": "code",
      "source": [
        "loaded_data = np.loadtxt(fname='inflammation-01.csv', delimiter=',')"
      ],
      "metadata": {
        "id": "-i0e5hFF0aZq"
      },
      "execution_count": 69,
      "outputs": []
    },
    {
      "cell_type": "code",
      "source": [
        "loaded_data"
      ],
      "metadata": {
        "id": "zKWnCXJ3_nis",
        "colab": {
          "base_uri": "https://localhost:8080/"
        },
        "outputId": "900494b1-6752-4fe2-c222-3eedb3f3ad27"
      },
      "execution_count": 56,
      "outputs": [
        {
          "output_type": "execute_result",
          "data": {
            "text/plain": [
              "array([[0., 0., 1., ..., 3., 0., 0.],\n",
              "       [0., 1., 2., ..., 1., 0., 1.],\n",
              "       [0., 1., 1., ..., 2., 1., 1.],\n",
              "       ...,\n",
              "       [0., 1., 1., ..., 1., 1., 1.],\n",
              "       [0., 0., 0., ..., 0., 2., 0.],\n",
              "       [0., 0., 1., ..., 1., 1., 0.]])"
            ]
          },
          "metadata": {},
          "execution_count": 56
        }
      ]
    },
    {
      "cell_type": "code",
      "source": [
        "# what's the dimension/size of data? use `shape`\n",
        "print(loaded_data.shape)\n",
        "# How to select patient0 row?\n",
        "# print(loaded_data[0,:]) # same as  loaded_data[0] for row. [row,column]. colon stands for all\n",
        "# How to select day0 column?\n",
        "# print(loaded_data[:,0])\n",
        "\n",
        "print(loaded_data[0:2,:]) # patient0 and patient1 (two rows)\n",
        "print(loaded_data[:,0:5]) # day0 to day4 (five columns)\n",
        "print(loaded_data[-1]) # last row, same as [59]\n",
        "print(loaded_data[-4:,:]) #last 4 rows, same as [56:60]\n",
        "print(loaded_data[56:60])\n"
      ],
      "metadata": {
        "collapsed": true,
        "id": "kZm-MeQ-lixC",
        "colab": {
          "base_uri": "https://localhost:8080/"
        },
        "outputId": "97581c09-d5e7-422f-eb93-446aa9aadc51"
      },
      "execution_count": 70,
      "outputs": [
        {
          "output_type": "stream",
          "name": "stdout",
          "text": [
            "(60, 40)\n",
            "[[ 0.  0.  1.  3.  1.  2.  4.  7.  8.  3.  3.  3. 10.  5.  7.  4.  7.  7.\n",
            "  12. 18.  6. 13. 11. 11.  7.  7.  4.  6.  8.  8.  4.  4.  5.  7.  3.  4.\n",
            "   2.  3.  0.  0.]\n",
            " [ 0.  1.  2.  1.  2.  1.  3.  2.  2.  6. 10. 11.  5.  9.  4.  4.  7. 16.\n",
            "   8.  6. 18.  4. 12.  5. 12.  7. 11.  5. 11.  3.  3.  5.  4.  4.  5.  5.\n",
            "   1.  1.  0.  1.]]\n",
            "[[0. 0. 1. 3. 1.]\n",
            " [0. 1. 2. 1. 2.]\n",
            " [0. 1. 1. 3. 3.]\n",
            " [0. 0. 2. 0. 4.]\n",
            " [0. 1. 1. 3. 3.]\n",
            " [0. 0. 1. 2. 2.]\n",
            " [0. 0. 2. 2. 4.]\n",
            " [0. 0. 1. 2. 3.]\n",
            " [0. 0. 0. 3. 1.]\n",
            " [0. 1. 1. 2. 1.]\n",
            " [0. 1. 0. 0. 4.]\n",
            " [0. 1. 0. 0. 3.]\n",
            " [0. 0. 2. 1. 4.]\n",
            " [0. 0. 0. 0. 1.]\n",
            " [0. 1. 2. 1. 1.]\n",
            " [0. 1. 1. 0. 1.]\n",
            " [0. 0. 0. 0. 2.]\n",
            " [0. 0. 0. 1. 2.]\n",
            " [0. 0. 2. 1. 2.]\n",
            " [0. 1. 2. 0. 1.]\n",
            " [0. 1. 1. 3. 1.]\n",
            " [0. 0. 2. 3. 2.]\n",
            " [0. 0. 0. 3. 4.]\n",
            " [0. 1. 1. 1. 1.]\n",
            " [0. 1. 1. 1. 2.]\n",
            " [0. 0. 2. 1. 3.]\n",
            " [0. 0. 1. 2. 4.]\n",
            " [0. 0. 1. 1. 1.]\n",
            " [0. 0. 2. 2. 3.]\n",
            " [0. 0. 0. 1. 4.]\n",
            " [0. 1. 1. 0. 3.]\n",
            " [0. 0. 2. 3. 3.]\n",
            " [0. 1. 2. 2. 2.]\n",
            " [0. 0. 2. 1. 3.]\n",
            " [0. 0. 1. 2. 4.]\n",
            " [0. 0. 0. 3. 1.]\n",
            " [0. 1. 2. 2. 2.]\n",
            " [0. 1. 1. 2. 3.]\n",
            " [0. 1. 0. 3. 2.]\n",
            " [0. 1. 1. 3. 1.]\n",
            " [0. 0. 0. 2. 2.]\n",
            " [0. 0. 1. 3. 3.]\n",
            " [0. 1. 1. 3. 4.]\n",
            " [0. 0. 1. 3. 1.]\n",
            " [0. 1. 1. 3. 3.]\n",
            " [0. 1. 2. 2. 4.]\n",
            " [0. 0. 2. 3. 4.]\n",
            " [0. 1. 1. 3. 1.]\n",
            " [0. 0. 1. 3. 2.]\n",
            " [0. 0. 1. 2. 3.]\n",
            " [0. 1. 2. 1. 1.]\n",
            " [0. 1. 2. 2. 3.]\n",
            " [0. 0. 0. 2. 4.]\n",
            " [0. 0. 2. 1. 1.]\n",
            " [0. 1. 2. 1. 1.]\n",
            " [0. 0. 1. 3. 2.]\n",
            " [0. 1. 1. 2. 2.]\n",
            " [0. 1. 1. 1. 4.]\n",
            " [0. 0. 0. 1. 4.]\n",
            " [0. 0. 1. 0. 3.]]\n",
            "[ 0.  0.  1.  0.  3.  2.  5.  4.  8.  2.  9.  3.  3. 10. 12.  9. 14. 11.\n",
            " 13.  8.  6. 18. 11.  9. 13. 11.  8.  5.  5.  2.  8.  5.  3.  5.  4.  1.\n",
            "  3.  1.  1.  0.]\n",
            "[[ 0.  1.  1.  2.  2.  5.  1.  7.  4.  2.  5.  5.  4.  6.  6.  4. 16. 11.\n",
            "  14. 16. 14. 14.  8. 17.  4. 14. 13.  7.  6.  3.  7.  7.  5.  6.  3.  4.\n",
            "   2.  2.  1.  1.]\n",
            " [ 0.  1.  1.  1.  4.  1.  6.  4.  6.  3.  6.  5.  6.  4. 14. 13. 13.  9.\n",
            "  12. 19.  9. 10. 15. 10.  9. 10. 10.  7.  5.  6.  8.  6.  6.  4.  3.  5.\n",
            "   2.  1.  1.  1.]\n",
            " [ 0.  0.  0.  1.  4.  5.  6.  3.  8.  7.  9. 10.  8.  6.  5. 12. 15.  5.\n",
            "  10.  5.  8. 13. 18. 17. 14.  9. 13.  4. 10. 11. 10.  8.  8.  6.  5.  5.\n",
            "   2.  0.  2.  0.]\n",
            " [ 0.  0.  1.  0.  3.  2.  5.  4.  8.  2.  9.  3.  3. 10. 12.  9. 14. 11.\n",
            "  13.  8.  6. 18. 11.  9. 13. 11.  8.  5.  5.  2.  8.  5.  3.  5.  4.  1.\n",
            "   3.  1.  1.  0.]]\n",
            "[[ 0.  1.  1.  2.  2.  5.  1.  7.  4.  2.  5.  5.  4.  6.  6.  4. 16. 11.\n",
            "  14. 16. 14. 14.  8. 17.  4. 14. 13.  7.  6.  3.  7.  7.  5.  6.  3.  4.\n",
            "   2.  2.  1.  1.]\n",
            " [ 0.  1.  1.  1.  4.  1.  6.  4.  6.  3.  6.  5.  6.  4. 14. 13. 13.  9.\n",
            "  12. 19.  9. 10. 15. 10.  9. 10. 10.  7.  5.  6.  8.  6.  6.  4.  3.  5.\n",
            "   2.  1.  1.  1.]\n",
            " [ 0.  0.  0.  1.  4.  5.  6.  3.  8.  7.  9. 10.  8.  6.  5. 12. 15.  5.\n",
            "  10.  5.  8. 13. 18. 17. 14.  9. 13.  4. 10. 11. 10.  8.  8.  6.  5.  5.\n",
            "   2.  0.  2.  0.]\n",
            " [ 0.  0.  1.  0.  3.  2.  5.  4.  8.  2.  9.  3.  3. 10. 12.  9. 14. 11.\n",
            "  13.  8.  6. 18. 11.  9. 13. 11.  8.  5.  5.  2.  8.  5.  3.  5.  4.  1.\n",
            "   3.  1.  1.  0.]]\n"
          ]
        }
      ]
    },
    {
      "cell_type": "code",
      "source": [
        "patient3_week1 = loaded_data[3, :7]"
      ],
      "metadata": {
        "id": "YUhLmsNn_y8X"
      },
      "execution_count": null,
      "outputs": []
    },
    {
      "cell_type": "markdown",
      "source": [
        "#### Task 14. How to get “MIN/MAX/MEAN/STD” per patient or per day across all days or all patients?"
      ],
      "metadata": {
        "id": "6-v63CqclwoX"
      }
    },
    {
      "cell_type": "code",
      "source": [
        "# Use numpy functions, np.max, np.std, np.min, np.mean and axis=0 or axis=1 for column and row-wise calculation.\n",
        "np.max(loaded_data[0,:])"
      ],
      "metadata": {
        "id": "pNYNHPS4oxVH",
        "colab": {
          "base_uri": "https://localhost:8080/"
        },
        "outputId": "cc759ed5-7388-4bb0-8704-ef845b1a1f14"
      },
      "execution_count": 71,
      "outputs": [
        {
          "output_type": "execute_result",
          "data": {
            "text/plain": [
              "18.0"
            ]
          },
          "metadata": {},
          "execution_count": 71
        }
      ]
    },
    {
      "cell_type": "markdown",
      "source": [
        "##### Task 14. Answer"
      ],
      "metadata": {
        "id": "6O4nkYcNo_TT"
      }
    },
    {
      "cell_type": "code",
      "source": [
        "print(np.max(loaded_data,axis=1)) # Max, patient-wise\n",
        "print(loaded_data[0].max()) # select patient0 and get Max\n"
      ],
      "metadata": {
        "id": "PIfwzT_mmCly",
        "colab": {
          "base_uri": "https://localhost:8080/"
        },
        "outputId": "2b222786-d203-4d08-ed29-d8aff7fe2104"
      },
      "execution_count": 72,
      "outputs": [
        {
          "output_type": "stream",
          "name": "stdout",
          "text": [
            "[18. 18. 19. 17. 17. 18. 17. 20. 17. 18. 18. 18. 17. 16. 17. 18. 19. 19.\n",
            " 17. 19. 19. 16. 17. 15. 17. 17. 18. 17. 20. 17. 16. 19. 15. 15. 19. 17.\n",
            " 16. 17. 19. 16. 18. 19. 16. 19. 18. 16. 19. 15. 16. 18. 14. 20. 17. 15.\n",
            " 17. 16. 17. 19. 18. 18.]\n",
            "18.0\n"
          ]
        }
      ]
    },
    {
      "cell_type": "code",
      "source": [
        "print(np.max(loaded_data,axis=0)) # Max, day-wise\n",
        "print(np.max(loaded_data[:,1])) # Day 1 Max\n",
        "print(loaded_data[:,1].max()) # Day 1 Max\n",
        "print(loaded_data[:,1].std()) # Day 1 mean\n"
      ],
      "metadata": {
        "colab": {
          "base_uri": "https://localhost:8080/"
        },
        "id": "u91VKvE_3XVX",
        "outputId": "1fe4dc69-f30c-4762-a2cc-1fcc4107060d"
      },
      "execution_count": 84,
      "outputs": [
        {
          "output_type": "stream",
          "name": "stdout",
          "text": [
            "[ 0.  1.  2.  3.  4.  5.  6.  7.  8.  9. 10. 11. 12. 13. 14. 15. 16. 17.\n",
            " 18. 19. 20. 19. 18. 17. 16. 15. 14. 13. 12. 11. 10.  9.  8.  7.  6.  5.\n",
            "  4.  3.  2.  1.]\n",
            "1.0\n",
            "1.0\n",
            "0.49749371855331004\n"
          ]
        }
      ]
    },
    {
      "cell_type": "markdown",
      "source": [
        "## Visualising Data"
      ],
      "metadata": {
        "id": "1hlmNZT-WSw5"
      }
    },
    {
      "cell_type": "markdown",
      "source": [
        "### Using MatplotLib"
      ],
      "metadata": {
        "id": "JpQSddB2A_qt"
      }
    },
    {
      "cell_type": "code",
      "source": [
        "!pip install matplotlib\n",
        "import matplotlib.pyplot\n"
      ],
      "metadata": {
        "id": "wj5ehhBlWOHy",
        "colab": {
          "base_uri": "https://localhost:8080/"
        },
        "outputId": "1f1ce15a-5782-42c8-b06c-b994a3f5ef41"
      },
      "execution_count": 87,
      "outputs": [
        {
          "output_type": "stream",
          "name": "stdout",
          "text": [
            "Requirement already satisfied: matplotlib in /usr/local/lib/python3.10/dist-packages (3.7.1)\n",
            "Requirement already satisfied: contourpy>=1.0.1 in /usr/local/lib/python3.10/dist-packages (from matplotlib) (1.2.0)\n",
            "Requirement already satisfied: cycler>=0.10 in /usr/local/lib/python3.10/dist-packages (from matplotlib) (0.12.1)\n",
            "Requirement already satisfied: fonttools>=4.22.0 in /usr/local/lib/python3.10/dist-packages (from matplotlib) (4.44.3)\n",
            "Requirement already satisfied: kiwisolver>=1.0.1 in /usr/local/lib/python3.10/dist-packages (from matplotlib) (1.4.5)\n",
            "Requirement already satisfied: numpy>=1.20 in /usr/local/lib/python3.10/dist-packages (from matplotlib) (1.23.5)\n",
            "Requirement already satisfied: packaging>=20.0 in /usr/local/lib/python3.10/dist-packages (from matplotlib) (23.2)\n",
            "Requirement already satisfied: pillow>=6.2.0 in /usr/local/lib/python3.10/dist-packages (from matplotlib) (9.4.0)\n",
            "Requirement already satisfied: pyparsing>=2.3.1 in /usr/local/lib/python3.10/dist-packages (from matplotlib) (3.1.1)\n",
            "Requirement already satisfied: python-dateutil>=2.7 in /usr/local/lib/python3.10/dist-packages (from matplotlib) (2.8.2)\n",
            "Requirement already satisfied: six>=1.5 in /usr/local/lib/python3.10/dist-packages (from python-dateutil>=2.7->matplotlib) (1.16.0)\n"
          ]
        }
      ]
    },
    {
      "cell_type": "code",
      "source": [
        "image = matplotlib.pyplot.imshow(loaded_data)"
      ],
      "metadata": {
        "id": "Y7ITEHFVWYQY",
        "collapsed": true,
        "colab": {
          "base_uri": "https://localhost:8080/",
          "height": 432
        },
        "outputId": "425ff8da-c5e8-41d6-db15-4754f2828b02"
      },
      "execution_count": 88,
      "outputs": [
        {
          "output_type": "display_data",
          "data": {
            "text/plain": [
              "<Figure size 640x480 with 1 Axes>"
            ],
            "image/png": "[encoded data removed]"
          },
          "metadata": {}
        }
      ]
    },
    {
      "cell_type": "code",
      "source": [
        "import matplotlib.pyplot as plt\n",
        "\n",
        "x = [1, 2, 3, 4, 5]\n",
        "y = [2, 4, 6, 8, 10]\n",
        "\n",
        "plt.plot(x, y)\n",
        "plt.xlabel('X-axis')\n",
        "plt.ylabel('Y-axis')\n",
        "plt.title('Line Graph')\n",
        "plt.show()"
      ],
      "metadata": {
        "id": "0WAxrZwbsQgC",
        "colab": {
          "base_uri": "https://localhost:8080/",
          "height": 472
        },
        "outputId": "4cd6c252-48c3-4834-ec33-89bfe00a0853"
      },
      "execution_count": null,
      "outputs": [
        {
          "output_type": "display_data",
          "data": {
            "text/plain": [
              "<Figure size 640x480 with 1 Axes>"
            ],
            "image/png": "[encoded data removed]"
          },
          "metadata": {}
        }
      ]
    },
    {
      "cell_type": "markdown",
      "source": [
        "### Using Plotly, interactive plotting"
      ],
      "metadata": {
        "id": "Nk01qAeWpPAn"
      }
    },
    {
      "cell_type": "code",
      "source": [
        "!pip install dash # installation\n",
        "# load a library\n",
        "import plotly.express as px"
      ],
      "metadata": {
        "id": "-M2pT6aq_TP4",
        "colab": {
          "base_uri": "https://localhost:8080/"
        },
        "outputId": "10b85181-5934-4be1-f189-af9789b5c63d"
      },
      "execution_count": 63,
      "outputs": [
        {
          "output_type": "stream",
          "name": "stdout",
          "text": [
            "Collecting dash\n",
            "  Downloading dash-2.14.1-py3-none-any.whl (10.4 MB)\n",
            "\u001b[2K     \u001b[90m━━━━━━━━━━━━━━━━━━━━━━━━━━━━━━━━━━━━━━━━\u001b[0m \u001b[32m10.4/10.4 MB\u001b[0m \u001b[31m24.0 MB/s\u001b[0m eta \u001b[36m0:00:00\u001b[0m\n",
            "\u001b[?25hRequirement already satisfied: Flask<3.1,>=1.0.4 in /usr/local/lib/python3.10/dist-packages (from dash) (2.2.5)\n",
            "Requirement already satisfied: Werkzeug<3.1 in /usr/local/lib/python3.10/dist-packages (from dash) (3.0.1)\n",
            "Requirement already satisfied: plotly>=5.0.0 in /usr/local/lib/python3.10/dist-packages (from dash) (5.15.0)\n",
            "Collecting dash-html-components==2.0.0 (from dash)\n",
            "  Downloading dash_html_components-2.0.0-py3-none-any.whl (4.1 kB)\n",
            "Collecting dash-core-components==2.0.0 (from dash)\n",
            "  Downloading dash_core_components-2.0.0-py3-none-any.whl (3.8 kB)\n",
            "Collecting dash-table==5.0.0 (from dash)\n",
            "  Downloading dash_table-5.0.0-py3-none-any.whl (3.9 kB)\n",
            "Requirement already satisfied: typing-extensions>=4.1.1 in /usr/local/lib/python3.10/dist-packages (from dash) (4.5.0)\n",
            "Requirement already satisfied: requests in /usr/local/lib/python3.10/dist-packages (from dash) (2.31.0)\n",
            "Collecting retrying (from dash)\n",
            "  Downloading retrying-1.3.4-py3-none-any.whl (11 kB)\n",
            "Collecting ansi2html (from dash)\n",
            "  Downloading ansi2html-1.8.0-py3-none-any.whl (16 kB)\n",
            "Requirement already satisfied: nest-asyncio in /usr/local/lib/python3.10/dist-packages (from dash) (1.5.8)\n",
            "Requirement already satisfied: setuptools in /usr/local/lib/python3.10/dist-packages (from dash) (67.7.2)\n",
            "Requirement already satisfied: importlib-metadata in /usr/local/lib/python3.10/dist-packages (from dash) (6.8.0)\n",
            "Requirement already satisfied: Jinja2>=3.0 in /usr/local/lib/python3.10/dist-packages (from Flask<3.1,>=1.0.4->dash) (3.1.2)\n",
            "Requirement already satisfied: itsdangerous>=2.0 in /usr/local/lib/python3.10/dist-packages (from Flask<3.1,>=1.0.4->dash) (2.1.2)\n",
            "Requirement already satisfied: click>=8.0 in /usr/local/lib/python3.10/dist-packages (from Flask<3.1,>=1.0.4->dash) (8.1.7)\n",
            "Requirement already satisfied: tenacity>=6.2.0 in /usr/local/lib/python3.10/dist-packages (from plotly>=5.0.0->dash) (8.2.3)\n",
            "Requirement already satisfied: packaging in /usr/local/lib/python3.10/dist-packages (from plotly>=5.0.0->dash) (23.2)\n",
            "Requirement already satisfied: MarkupSafe>=2.1.1 in /usr/local/lib/python3.10/dist-packages (from Werkzeug<3.1->dash) (2.1.3)\n",
            "Requirement already satisfied: zipp>=0.5 in /usr/local/lib/python3.10/dist-packages (from importlib-metadata->dash) (3.17.0)\n",
            "Requirement already satisfied: charset-normalizer<4,>=2 in /usr/local/lib/python3.10/dist-packages (from requests->dash) (3.3.2)\n",
            "Requirement already satisfied: idna<4,>=2.5 in /usr/local/lib/python3.10/dist-packages (from requests->dash) (3.4)\n",
            "Requirement already satisfied: urllib3<3,>=1.21.1 in /usr/local/lib/python3.10/dist-packages (from requests->dash) (2.0.7)\n",
            "Requirement already satisfied: certifi>=2017.4.17 in /usr/local/lib/python3.10/dist-packages (from requests->dash) (2023.7.22)\n",
            "Requirement already satisfied: six>=1.7.0 in /usr/local/lib/python3.10/dist-packages (from retrying->dash) (1.16.0)\n",
            "Installing collected packages: dash-table, dash-html-components, dash-core-components, retrying, ansi2html, dash\n",
            "Successfully installed ansi2html-1.8.0 dash-2.14.1 dash-core-components-2.0.0 dash-html-components-2.0.0 dash-table-5.0.0 retrying-1.3.4\n"
          ]
        }
      ]
    },
    {
      "cell_type": "markdown",
      "source": [
        "#### 1.Heatmap\n",
        "- https://plotly.com/python/heatmaps/\n"
      ],
      "metadata": {
        "id": "-ywNmK2zCv8r"
      }
    },
    {
      "cell_type": "code",
      "source": [
        "fig = px.imshow(loaded_data, text_auto=False, color_continuous_scale='RdBu_r', width=800, height=800)\n",
        "fig.show()"
      ],
      "metadata": {
        "id": "BeANZH-y_wYX",
        "colab": {
          "base_uri": "https://localhost:8080/",
          "height": 817
        },
        "outputId": "02dd73d0-269c-4807-8982-dcd77f29d910"
      },
      "execution_count": 126,
      "outputs": [
        {
          "output_type": "display_data",
          "data": {
            "text/html": [
              "<html>\n",
              "<head><meta charset=\"utf-8\" /></head>\n",
              "<body>\n",
              "    <div>            <script src=\"https://cdnjs.cloudflare.com/ajax/libs/mathjax/2.7.5/MathJax.js?config=TeX-AMS-MML_SVG\"></script><script type=\"text/javascript\">if (window.MathJax && window.MathJax.Hub && window.MathJax.Hub.Config) {window.MathJax.Hub.Config({SVG: {font: \"STIX-Web\"}});}</script>                <script type=\"text/javascript\">window.PlotlyConfig = {MathJaxConfig: 'local'};</script>\n",
              "        <script charset=\"utf-8\" src=\"https://cdn.plot.ly/plotly-2.24.1.min.js\"></script>                <div id=\"759bfb8a-3468-4e61-8e17-5ab6a1b80762\" class=\"plotly-graph-div\" style=\"height:800px; width:800px;\"></div>            <script type=\"text/javascript\">                                    window.PLOTLYENV=window.PLOTLYENV || {};                                    if (document.getElementById(\"759bfb8a-3468-4e61-8e17-5ab6a1b80762\")) {                    Plotly.newPlot(                        \"759bfb8a-3468-4e61-8e17-5ab6a1b80762\",                        [{\"coloraxis\":\"coloraxis\",\"name\":\"0\",\"z\":[[0.0,0.0,1.0,3.0,1.0,2.0,4.0,7.0,8.0,3.0,3.0,3.0,10.0,5.0,7.0,4.0,7.0,7.0,12.0,18.0,6.0,13.0,11.0,11.0,7.0,7.0,4.0,6.0,8.0,8.0,4.0,4.0,5.0,7.0,3.0,4.0,2.0,3.0,0.0,0.0],[0.0,1.0,2.0,1.0,2.0,1.0,3.0,2.0,2.0,6.0,10.0,11.0,5.0,9.0,4.0,4.0,7.0,16.0,8.0,6.0,18.0,4.0,12.0,5.0,12.0,7.0,11.0,5.0,11.0,3.0,3.0,5.0,4.0,4.0,5.0,5.0,1.0,1.0,0.0,1.0],[0.0,1.0,1.0,3.0,3.0,2.0,6.0,2.0,5.0,9.0,5.0,7.0,4.0,5.0,4.0,15.0,5.0,11.0,9.0,10.0,19.0,14.0,12.0,17.0,7.0,12.0,11.0,7.0,4.0,2.0,10.0,5.0,4.0,2.0,2.0,3.0,2.0,2.0,1.0,1.0],[0.0,0.0,2.0,0.0,4.0,2.0,2.0,1.0,6.0,7.0,10.0,7.0,9.0,13.0,8.0,8.0,15.0,10.0,10.0,7.0,17.0,4.0,4.0,7.0,6.0,15.0,6.0,4.0,9.0,11.0,3.0,5.0,6.0,3.0,3.0,4.0,2.0,3.0,2.0,1.0],[0.0,1.0,1.0,3.0,3.0,1.0,3.0,5.0,2.0,4.0,4.0,7.0,6.0,5.0,3.0,10.0,8.0,10.0,6.0,17.0,9.0,14.0,9.0,7.0,13.0,9.0,12.0,6.0,7.0,7.0,9.0,6.0,3.0,2.0,2.0,4.0,2.0,0.0,1.0,1.0],[0.0,0.0,1.0,2.0,2.0,4.0,2.0,1.0,6.0,4.0,7.0,6.0,6.0,9.0,9.0,15.0,4.0,16.0,18.0,12.0,12.0,5.0,18.0,9.0,5.0,3.0,10.0,3.0,12.0,7.0,8.0,4.0,7.0,3.0,5.0,4.0,4.0,3.0,2.0,1.0],[0.0,0.0,2.0,2.0,4.0,2.0,2.0,5.0,5.0,8.0,6.0,5.0,11.0,9.0,4.0,13.0,5.0,12.0,10.0,6.0,9.0,17.0,15.0,8.0,9.0,3.0,13.0,7.0,8.0,2.0,8.0,8.0,4.0,2.0,3.0,5.0,4.0,1.0,1.0,1.0],[0.0,0.0,1.0,2.0,3.0,1.0,2.0,3.0,5.0,3.0,7.0,8.0,8.0,5.0,10.0,9.0,15.0,11.0,18.0,19.0,20.0,8.0,5.0,13.0,15.0,10.0,6.0,10.0,6.0,7.0,4.0,9.0,3.0,5.0,2.0,5.0,3.0,2.0,2.0,1.0],[0.0,0.0,0.0,3.0,1.0,5.0,6.0,5.0,5.0,8.0,2.0,4.0,11.0,12.0,10.0,11.0,9.0,10.0,17.0,11.0,6.0,16.0,12.0,6.0,8.0,14.0,6.0,13.0,10.0,11.0,4.0,6.0,4.0,7.0,6.0,3.0,2.0,1.0,0.0,0.0],[0.0,1.0,1.0,2.0,1.0,3.0,5.0,3.0,5.0,8.0,6.0,8.0,12.0,5.0,13.0,6.0,13.0,8.0,16.0,8.0,18.0,15.0,16.0,14.0,12.0,7.0,3.0,8.0,9.0,11.0,2.0,5.0,4.0,5.0,1.0,4.0,1.0,2.0,0.0,0.0],[0.0,1.0,0.0,0.0,4.0,3.0,3.0,5.0,5.0,4.0,5.0,8.0,7.0,10.0,13.0,3.0,7.0,13.0,15.0,18.0,8.0,15.0,15.0,16.0,11.0,14.0,12.0,4.0,10.0,10.0,4.0,3.0,4.0,5.0,5.0,3.0,3.0,2.0,2.0,1.0],[0.0,1.0,0.0,0.0,3.0,4.0,2.0,7.0,8.0,5.0,2.0,8.0,11.0,5.0,5.0,8.0,14.0,11.0,6.0,11.0,9.0,16.0,18.0,6.0,12.0,5.0,4.0,3.0,5.0,7.0,8.0,3.0,5.0,4.0,5.0,5.0,4.0,0.0,1.0,1.0],[0.0,0.0,2.0,1.0,4.0,3.0,6.0,4.0,6.0,7.0,9.0,9.0,3.0,11.0,6.0,12.0,4.0,17.0,13.0,15.0,13.0,12.0,8.0,7.0,4.0,7.0,12.0,9.0,5.0,6.0,5.0,4.0,7.0,3.0,5.0,4.0,2.0,3.0,0.0,1.0],[0.0,0.0,0.0,0.0,1.0,3.0,1.0,6.0,6.0,5.0,5.0,6.0,3.0,6.0,13.0,3.0,10.0,13.0,9.0,16.0,15.0,9.0,11.0,4.0,6.0,4.0,11.0,11.0,12.0,3.0,5.0,8.0,7.0,4.0,6.0,4.0,1.0,3.0,0.0,0.0],[0.0,1.0,2.0,1.0,1.0,1.0,4.0,1.0,5.0,2.0,3.0,3.0,10.0,7.0,13.0,5.0,7.0,17.0,6.0,9.0,12.0,13.0,10.0,4.0,12.0,4.0,6.0,7.0,6.0,10.0,8.0,2.0,5.0,1.0,3.0,4.0,2.0,0.0,2.0,0.0],[0.0,1.0,1.0,0.0,1.0,2.0,4.0,3.0,6.0,4.0,7.0,5.0,5.0,7.0,5.0,10.0,7.0,8.0,18.0,17.0,9.0,8.0,12.0,11.0,11.0,11.0,14.0,6.0,11.0,2.0,10.0,9.0,5.0,6.0,5.0,3.0,4.0,2.0,2.0,0.0],[0.0,0.0,0.0,0.0,2.0,3.0,6.0,5.0,7.0,4.0,3.0,2.0,10.0,7.0,9.0,11.0,12.0,5.0,12.0,9.0,13.0,19.0,14.0,17.0,5.0,13.0,8.0,11.0,5.0,10.0,9.0,8.0,7.0,5.0,3.0,1.0,4.0,0.0,2.0,1.0],[0.0,0.0,0.0,1.0,2.0,1.0,4.0,3.0,6.0,7.0,4.0,2.0,12.0,6.0,12.0,4.0,14.0,7.0,8.0,14.0,13.0,19.0,6.0,9.0,12.0,6.0,4.0,13.0,6.0,7.0,2.0,3.0,6.0,5.0,4.0,2.0,3.0,0.0,1.0,0.0],[0.0,0.0,2.0,1.0,2.0,5.0,4.0,2.0,7.0,8.0,4.0,7.0,11.0,9.0,8.0,11.0,15.0,17.0,11.0,12.0,7.0,12.0,7.0,6.0,7.0,4.0,13.0,5.0,7.0,6.0,6.0,9.0,2.0,1.0,1.0,2.0,2.0,0.0,1.0,0.0],[0.0,1.0,2.0,0.0,1.0,4.0,3.0,2.0,2.0,7.0,3.0,3.0,12.0,13.0,11.0,13.0,6.0,5.0,9.0,16.0,9.0,19.0,16.0,11.0,8.0,9.0,14.0,12.0,11.0,9.0,6.0,6.0,6.0,1.0,1.0,2.0,4.0,3.0,1.0,1.0],[0.0,1.0,1.0,3.0,1.0,4.0,4.0,1.0,8.0,2.0,2.0,3.0,12.0,12.0,10.0,15.0,13.0,6.0,5.0,5.0,18.0,19.0,9.0,6.0,11.0,12.0,7.0,6.0,3.0,6.0,3.0,2.0,4.0,3.0,1.0,5.0,4.0,2.0,2.0,0.0],[0.0,0.0,2.0,3.0,2.0,3.0,2.0,6.0,3.0,8.0,7.0,4.0,6.0,6.0,9.0,5.0,12.0,12.0,8.0,5.0,12.0,10.0,16.0,7.0,14.0,12.0,5.0,4.0,6.0,9.0,8.0,5.0,6.0,6.0,1.0,4.0,3.0,0.0,2.0,0.0],[0.0,0.0,0.0,3.0,4.0,5.0,1.0,7.0,7.0,8.0,2.0,5.0,12.0,4.0,10.0,14.0,5.0,5.0,17.0,13.0,16.0,15.0,13.0,6.0,12.0,9.0,10.0,3.0,3.0,7.0,4.0,4.0,8.0,2.0,6.0,5.0,1.0,0.0,1.0,0.0],[0.0,1.0,1.0,1.0,1.0,3.0,3.0,2.0,6.0,3.0,9.0,7.0,8.0,8.0,4.0,13.0,7.0,14.0,11.0,15.0,14.0,13.0,5.0,13.0,7.0,14.0,9.0,10.0,5.0,11.0,5.0,3.0,5.0,1.0,1.0,4.0,4.0,1.0,2.0,0.0],[0.0,1.0,1.0,1.0,2.0,3.0,5.0,3.0,6.0,3.0,7.0,10.0,3.0,8.0,12.0,4.0,12.0,9.0,15.0,5.0,17.0,16.0,5.0,10.0,10.0,15.0,7.0,5.0,3.0,11.0,5.0,5.0,6.0,1.0,1.0,1.0,1.0,0.0,2.0,1.0],[0.0,0.0,2.0,1.0,3.0,3.0,2.0,7.0,4.0,4.0,3.0,8.0,12.0,9.0,12.0,9.0,5.0,16.0,8.0,17.0,7.0,11.0,14.0,7.0,13.0,11.0,7.0,12.0,12.0,7.0,8.0,5.0,7.0,2.0,2.0,4.0,1.0,1.0,1.0,0.0],[0.0,0.0,1.0,2.0,4.0,2.0,2.0,3.0,5.0,7.0,10.0,5.0,5.0,12.0,3.0,13.0,4.0,13.0,7.0,15.0,9.0,12.0,18.0,14.0,16.0,12.0,3.0,11.0,3.0,2.0,7.0,4.0,8.0,2.0,2.0,1.0,3.0,0.0,1.0,1.0],[0.0,0.0,1.0,1.0,1.0,5.0,1.0,5.0,2.0,2.0,4.0,10.0,4.0,8.0,14.0,6.0,15.0,6.0,12.0,15.0,15.0,13.0,7.0,17.0,4.0,5.0,11.0,4.0,8.0,7.0,9.0,4.0,5.0,3.0,2.0,5.0,4.0,3.0,2.0,1.0],[0.0,0.0,2.0,2.0,3.0,4.0,6.0,3.0,7.0,6.0,4.0,5.0,8.0,4.0,7.0,7.0,6.0,11.0,12.0,19.0,20.0,18.0,9.0,5.0,4.0,7.0,14.0,8.0,4.0,3.0,7.0,7.0,8.0,3.0,5.0,4.0,1.0,3.0,1.0,0.0],[0.0,0.0,0.0,1.0,4.0,4.0,6.0,3.0,8.0,6.0,4.0,10.0,12.0,3.0,3.0,6.0,8.0,7.0,17.0,16.0,14.0,15.0,17.0,4.0,14.0,13.0,4.0,4.0,12.0,11.0,6.0,9.0,5.0,5.0,2.0,5.0,2.0,1.0,0.0,1.0],[0.0,1.0,1.0,0.0,3.0,2.0,4.0,6.0,8.0,6.0,2.0,3.0,11.0,3.0,14.0,14.0,12.0,8.0,8.0,16.0,13.0,7.0,6.0,9.0,15.0,7.0,6.0,4.0,10.0,8.0,10.0,4.0,2.0,6.0,5.0,5.0,2.0,3.0,2.0,1.0],[0.0,0.0,2.0,3.0,3.0,4.0,5.0,3.0,6.0,7.0,10.0,5.0,10.0,13.0,14.0,3.0,8.0,10.0,9.0,9.0,19.0,15.0,15.0,6.0,8.0,8.0,11.0,5.0,5.0,7.0,3.0,6.0,6.0,4.0,5.0,2.0,2.0,3.0,0.0,0.0],[0.0,1.0,2.0,2.0,2.0,3.0,6.0,6.0,6.0,7.0,6.0,3.0,11.0,12.0,13.0,15.0,15.0,10.0,14.0,11.0,11.0,8.0,6.0,12.0,10.0,5.0,12.0,7.0,7.0,11.0,5.0,8.0,5.0,2.0,5.0,5.0,2.0,0.0,2.0,1.0],[0.0,0.0,2.0,1.0,3.0,5.0,6.0,7.0,5.0,8.0,9.0,3.0,12.0,10.0,12.0,4.0,12.0,9.0,13.0,10.0,10.0,6.0,10.0,11.0,4.0,15.0,13.0,7.0,3.0,4.0,2.0,9.0,7.0,2.0,4.0,2.0,1.0,2.0,1.0,1.0],[0.0,0.0,1.0,2.0,4.0,1.0,5.0,5.0,2.0,3.0,4.0,8.0,8.0,12.0,5.0,15.0,9.0,17.0,7.0,19.0,14.0,18.0,12.0,17.0,14.0,4.0,13.0,13.0,8.0,11.0,5.0,6.0,6.0,2.0,3.0,5.0,2.0,1.0,1.0,1.0],[0.0,0.0,0.0,3.0,1.0,3.0,6.0,4.0,3.0,4.0,8.0,3.0,4.0,8.0,3.0,11.0,5.0,7.0,10.0,5.0,15.0,9.0,16.0,17.0,16.0,3.0,8.0,9.0,8.0,3.0,3.0,9.0,5.0,1.0,6.0,5.0,4.0,2.0,2.0,0.0],[0.0,1.0,2.0,2.0,2.0,5.0,5.0,1.0,4.0,6.0,3.0,6.0,5.0,9.0,6.0,7.0,4.0,7.0,16.0,7.0,16.0,13.0,9.0,16.0,12.0,6.0,7.0,9.0,10.0,3.0,6.0,4.0,5.0,4.0,6.0,3.0,4.0,3.0,2.0,1.0],[0.0,1.0,1.0,2.0,3.0,1.0,5.0,1.0,2.0,2.0,5.0,7.0,6.0,6.0,5.0,10.0,6.0,7.0,17.0,13.0,15.0,16.0,17.0,14.0,4.0,4.0,10.0,10.0,10.0,11.0,9.0,9.0,5.0,4.0,4.0,2.0,1.0,0.0,1.0,0.0],[0.0,1.0,0.0,3.0,2.0,4.0,1.0,1.0,5.0,9.0,10.0,7.0,12.0,10.0,9.0,15.0,12.0,13.0,13.0,6.0,19.0,9.0,10.0,6.0,13.0,5.0,13.0,6.0,7.0,2.0,5.0,5.0,2.0,1.0,1.0,1.0,1.0,3.0,0.0,1.0],[0.0,1.0,1.0,3.0,1.0,1.0,5.0,5.0,3.0,7.0,2.0,2.0,3.0,12.0,4.0,6.0,8.0,15.0,16.0,16.0,15.0,4.0,14.0,5.0,13.0,10.0,7.0,10.0,6.0,3.0,2.0,3.0,6.0,3.0,3.0,5.0,4.0,3.0,2.0,1.0],[0.0,0.0,0.0,2.0,2.0,1.0,3.0,4.0,5.0,5.0,6.0,5.0,5.0,12.0,13.0,5.0,7.0,5.0,11.0,15.0,18.0,7.0,9.0,10.0,14.0,12.0,11.0,9.0,10.0,3.0,2.0,9.0,6.0,2.0,2.0,5.0,3.0,0.0,0.0,1.0],[0.0,0.0,1.0,3.0,3.0,1.0,2.0,1.0,8.0,9.0,2.0,8.0,10.0,3.0,8.0,6.0,10.0,13.0,11.0,17.0,19.0,6.0,4.0,11.0,6.0,12.0,7.0,5.0,5.0,4.0,4.0,8.0,2.0,6.0,6.0,4.0,2.0,2.0,0.0,0.0],[0.0,1.0,1.0,3.0,4.0,5.0,2.0,1.0,3.0,7.0,9.0,6.0,10.0,5.0,8.0,15.0,11.0,12.0,15.0,6.0,12.0,16.0,6.0,4.0,14.0,3.0,12.0,9.0,6.0,11.0,5.0,8.0,5.0,5.0,6.0,1.0,2.0,1.0,2.0,0.0],[0.0,0.0,1.0,3.0,1.0,4.0,3.0,6.0,7.0,8.0,5.0,7.0,11.0,3.0,6.0,11.0,6.0,10.0,6.0,19.0,18.0,14.0,6.0,10.0,7.0,9.0,8.0,5.0,8.0,3.0,10.0,2.0,5.0,1.0,5.0,4.0,2.0,1.0,0.0,1.0],[0.0,1.0,1.0,3.0,3.0,4.0,4.0,6.0,3.0,4.0,9.0,9.0,7.0,6.0,8.0,15.0,12.0,15.0,6.0,11.0,6.0,18.0,5.0,14.0,15.0,12.0,9.0,8.0,3.0,6.0,10.0,6.0,8.0,7.0,2.0,5.0,4.0,3.0,1.0,1.0],[0.0,1.0,2.0,2.0,4.0,3.0,1.0,4.0,8.0,9.0,5.0,10.0,10.0,3.0,4.0,6.0,7.0,11.0,16.0,6.0,14.0,9.0,11.0,10.0,10.0,7.0,10.0,8.0,8.0,4.0,5.0,8.0,4.0,4.0,5.0,2.0,4.0,1.0,1.0,0.0],[0.0,0.0,2.0,3.0,4.0,5.0,4.0,6.0,2.0,9.0,7.0,4.0,9.0,10.0,8.0,11.0,16.0,12.0,15.0,17.0,19.0,10.0,18.0,13.0,15.0,11.0,8.0,4.0,7.0,11.0,6.0,7.0,6.0,5.0,1.0,3.0,1.0,0.0,0.0,0.0],[0.0,1.0,1.0,3.0,1.0,4.0,6.0,2.0,8.0,2.0,10.0,3.0,11.0,9.0,13.0,15.0,5.0,15.0,6.0,10.0,10.0,5.0,14.0,15.0,12.0,7.0,4.0,5.0,11.0,4.0,6.0,9.0,5.0,6.0,1.0,1.0,2.0,1.0,2.0,1.0],[0.0,0.0,1.0,3.0,2.0,5.0,1.0,2.0,7.0,6.0,6.0,3.0,12.0,9.0,4.0,14.0,4.0,6.0,12.0,9.0,12.0,7.0,11.0,7.0,16.0,8.0,13.0,6.0,7.0,6.0,10.0,7.0,6.0,3.0,1.0,5.0,4.0,3.0,0.0,0.0],[0.0,0.0,1.0,2.0,3.0,4.0,5.0,7.0,5.0,4.0,10.0,5.0,12.0,12.0,5.0,4.0,7.0,9.0,18.0,16.0,16.0,10.0,15.0,15.0,10.0,4.0,3.0,7.0,5.0,9.0,4.0,6.0,2.0,4.0,1.0,4.0,2.0,2.0,2.0,1.0],[0.0,1.0,2.0,1.0,1.0,3.0,5.0,3.0,6.0,3.0,10.0,10.0,11.0,10.0,13.0,10.0,13.0,6.0,6.0,14.0,5.0,4.0,5.0,5.0,9.0,4.0,12.0,7.0,7.0,4.0,7.0,9.0,3.0,3.0,6.0,3.0,4.0,1.0,2.0,0.0],[0.0,1.0,2.0,2.0,3.0,5.0,2.0,4.0,5.0,6.0,8.0,3.0,5.0,4.0,3.0,15.0,15.0,12.0,16.0,7.0,20.0,15.0,12.0,8.0,9.0,6.0,12.0,5.0,8.0,3.0,8.0,5.0,4.0,1.0,3.0,2.0,1.0,3.0,1.0,0.0],[0.0,0.0,0.0,2.0,4.0,4.0,5.0,3.0,3.0,3.0,10.0,4.0,4.0,4.0,14.0,11.0,15.0,13.0,10.0,14.0,11.0,17.0,9.0,11.0,11.0,7.0,10.0,12.0,10.0,10.0,10.0,8.0,7.0,5.0,2.0,2.0,4.0,1.0,2.0,1.0],[0.0,0.0,2.0,1.0,1.0,4.0,4.0,7.0,2.0,9.0,4.0,10.0,12.0,7.0,6.0,6.0,11.0,12.0,9.0,15.0,15.0,6.0,6.0,13.0,5.0,12.0,9.0,6.0,4.0,7.0,7.0,6.0,5.0,4.0,1.0,4.0,2.0,2.0,2.0,1.0],[0.0,1.0,2.0,1.0,1.0,4.0,5.0,4.0,4.0,5.0,9.0,7.0,10.0,3.0,13.0,13.0,8.0,9.0,17.0,16.0,16.0,15.0,12.0,13.0,5.0,12.0,10.0,9.0,11.0,9.0,4.0,5.0,5.0,2.0,2.0,5.0,1.0,0.0,0.0,1.0],[0.0,0.0,1.0,3.0,2.0,3.0,6.0,4.0,5.0,7.0,2.0,4.0,11.0,11.0,3.0,8.0,8.0,16.0,5.0,13.0,16.0,5.0,8.0,8.0,6.0,9.0,10.0,10.0,9.0,3.0,3.0,5.0,3.0,5.0,4.0,5.0,3.0,3.0,0.0,1.0],[0.0,1.0,1.0,2.0,2.0,5.0,1.0,7.0,4.0,2.0,5.0,5.0,4.0,6.0,6.0,4.0,16.0,11.0,14.0,16.0,14.0,14.0,8.0,17.0,4.0,14.0,13.0,7.0,6.0,3.0,7.0,7.0,5.0,6.0,3.0,4.0,2.0,2.0,1.0,1.0],[0.0,1.0,1.0,1.0,4.0,1.0,6.0,4.0,6.0,3.0,6.0,5.0,6.0,4.0,14.0,13.0,13.0,9.0,12.0,19.0,9.0,10.0,15.0,10.0,9.0,10.0,10.0,7.0,5.0,6.0,8.0,6.0,6.0,4.0,3.0,5.0,2.0,1.0,1.0,1.0],[0.0,0.0,0.0,1.0,4.0,5.0,6.0,3.0,8.0,7.0,9.0,10.0,8.0,6.0,5.0,12.0,15.0,5.0,10.0,5.0,8.0,13.0,18.0,17.0,14.0,9.0,13.0,4.0,10.0,11.0,10.0,8.0,8.0,6.0,5.0,5.0,2.0,0.0,2.0,0.0],[0.0,0.0,1.0,0.0,3.0,2.0,5.0,4.0,8.0,2.0,9.0,3.0,3.0,10.0,12.0,9.0,14.0,11.0,13.0,8.0,6.0,18.0,11.0,9.0,13.0,11.0,8.0,5.0,5.0,2.0,8.0,5.0,3.0,5.0,4.0,1.0,3.0,1.0,1.0,0.0]],\"type\":\"heatmap\",\"xaxis\":\"x\",\"yaxis\":\"y\",\"hovertemplate\":\"x: %{x}\\u003cbr\\u003ey: %{y}\\u003cbr\\u003ecolor: %{z}\\u003cextra\\u003e\\u003c\\u002fextra\\u003e\"}],                        {\"template\":{\"data\":{\"histogram2dcontour\":[{\"type\":\"histogram2dcontour\",\"colorbar\":{\"outlinewidth\":0,\"ticks\":\"\"},\"colorscale\":[[0.0,\"#0d0887\"],[0.1111111111111111,\"#46039f\"],[0.2222222222222222,\"#7201a8\"],[0.3333333333333333,\"#9c179e\"],[0.4444444444444444,\"#bd3786\"],[0.5555555555555556,\"#d8576b\"],[0.6666666666666666,\"#ed7953\"],[0.7777777777777778,\"#fb9f3a\"],[0.8888888888888888,\"#fdca26\"],[1.0,\"#f0f921\"]]}],\"choropleth\":[{\"type\":\"choropleth\",\"colorbar\":{\"outlinewidth\":0,\"ticks\":\"\"}}],\"histogram2d\":[{\"type\":\"histogram2d\",\"colorbar\":{\"outlinewidth\":0,\"ticks\":\"\"},\"colorscale\":[[0.0,\"#0d0887\"],[0.1111111111111111,\"#46039f\"],[0.2222222222222222,\"#7201a8\"],[0.3333333333333333,\"#9c179e\"],[0.4444444444444444,\"#bd3786\"],[0.5555555555555556,\"#d8576b\"],[0.6666666666666666,\"#ed7953\"],[0.7777777777777778,\"#fb9f3a\"],[0.8888888888888888,\"#fdca26\"],[1.0,\"#f0f921\"]]}],\"heatmap\":[{\"type\":\"heatmap\",\"colorbar\":{\"outlinewidth\":0,\"ticks\":\"\"},\"colorscale\":[[0.0,\"#0d0887\"],[0.1111111111111111,\"#46039f\"],[0.2222222222222222,\"#7201a8\"],[0.3333333333333333,\"#9c179e\"],[0.4444444444444444,\"#bd3786\"],[0.5555555555555556,\"#d8576b\"],[0.6666666666666666,\"#ed7953\"],[0.7777777777777778,\"#fb9f3a\"],[0.8888888888888888,\"#fdca26\"],[1.0,\"#f0f921\"]]}],\"heatmapgl\":[{\"type\":\"heatmapgl\",\"colorbar\":{\"outlinewidth\":0,\"ticks\":\"\"},\"colorscale\":[[0.0,\"#0d0887\"],[0.1111111111111111,\"#46039f\"],[0.2222222222222222,\"#7201a8\"],[0.3333333333333333,\"#9c179e\"],[0.4444444444444444,\"#bd3786\"],[0.5555555555555556,\"#d8576b\"],[0.6666666666666666,\"#ed7953\"],[0.7777777777777778,\"#fb9f3a\"],[0.8888888888888888,\"#fdca26\"],[1.0,\"#f0f921\"]]}],\"contourcarpet\":[{\"type\":\"contourcarpet\",\"colorbar\":{\"outlinewidth\":0,\"ticks\":\"\"}}],\"contour\":[{\"type\":\"contour\",\"colorbar\":{\"outlinewidth\":0,\"ticks\":\"\"},\"colorscale\":[[0.0,\"#0d0887\"],[0.1111111111111111,\"#46039f\"],[0.2222222222222222,\"#7201a8\"],[0.3333333333333333,\"#9c179e\"],[0.4444444444444444,\"#bd3786\"],[0.5555555555555556,\"#d8576b\"],[0.6666666666666666,\"#ed7953\"],[0.7777777777777778,\"#fb9f3a\"],[0.8888888888888888,\"#fdca26\"],[1.0,\"#f0f921\"]]}],\"surface\":[{\"type\":\"surface\",\"colorbar\":{\"outlinewidth\":0,\"ticks\":\"\"},\"colorscale\":[[0.0,\"#0d0887\"],[0.1111111111111111,\"#46039f\"],[0.2222222222222222,\"#7201a8\"],[0.3333333333333333,\"#9c179e\"],[0.4444444444444444,\"#bd3786\"],[0.5555555555555556,\"#d8576b\"],[0.6666666666666666,\"#ed7953\"],[0.7777777777777778,\"#fb9f3a\"],[0.8888888888888888,\"#fdca26\"],[1.0,\"#f0f921\"]]}],\"mesh3d\":[{\"type\":\"mesh3d\",\"colorbar\":{\"outlinewidth\":0,\"ticks\":\"\"}}],\"scatter\":[{\"fillpattern\":{\"fillmode\":\"overlay\",\"size\":10,\"solidity\":0.2},\"type\":\"scatter\"}],\"parcoords\":[{\"type\":\"parcoords\",\"line\":{\"colorbar\":{\"outlinewidth\":0,\"ticks\":\"\"}}}],\"scatterpolargl\":[{\"type\":\"scatterpolargl\",\"marker\":{\"colorbar\":{\"outlinewidth\":0,\"ticks\":\"\"}}}],\"bar\":[{\"error_x\":{\"color\":\"#2a3f5f\"},\"error_y\":{\"color\":\"#2a3f5f\"},\"marker\":{\"line\":{\"color\":\"#E5ECF6\",\"width\":0.5},\"pattern\":{\"fillmode\":\"overlay\",\"size\":10,\"solidity\":0.2}},\"type\":\"bar\"}],\"scattergeo\":[{\"type\":\"scattergeo\",\"marker\":{\"colorbar\":{\"outlinewidth\":0,\"ticks\":\"\"}}}],\"scatterpolar\":[{\"type\":\"scatterpolar\",\"marker\":{\"colorbar\":{\"outlinewidth\":0,\"ticks\":\"\"}}}],\"histogram\":[{\"marker\":{\"pattern\":{\"fillmode\":\"overlay\",\"size\":10,\"solidity\":0.2}},\"type\":\"histogram\"}],\"scattergl\":[{\"type\":\"scattergl\",\"marker\":{\"colorbar\":{\"outlinewidth\":0,\"ticks\":\"\"}}}],\"scatter3d\":[{\"type\":\"scatter3d\",\"line\":{\"colorbar\":{\"outlinewidth\":0,\"ticks\":\"\"}},\"marker\":{\"colorbar\":{\"outlinewidth\":0,\"ticks\":\"\"}}}],\"scattermapbox\":[{\"type\":\"scattermapbox\",\"marker\":{\"colorbar\":{\"outlinewidth\":0,\"ticks\":\"\"}}}],\"scatterternary\":[{\"type\":\"scatterternary\",\"marker\":{\"colorbar\":{\"outlinewidth\":0,\"ticks\":\"\"}}}],\"scattercarpet\":[{\"type\":\"scattercarpet\",\"marker\":{\"colorbar\":{\"outlinewidth\":0,\"ticks\":\"\"}}}],\"carpet\":[{\"aaxis\":{\"endlinecolor\":\"#2a3f5f\",\"gridcolor\":\"white\",\"linecolor\":\"white\",\"minorgridcolor\":\"white\",\"startlinecolor\":\"#2a3f5f\"},\"baxis\":{\"endlinecolor\":\"#2a3f5f\",\"gridcolor\":\"white\",\"linecolor\":\"white\",\"minorgridcolor\":\"white\",\"startlinecolor\":\"#2a3f5f\"},\"type\":\"carpet\"}],\"table\":[{\"cells\":{\"fill\":{\"color\":\"#EBF0F8\"},\"line\":{\"color\":\"white\"}},\"header\":{\"fill\":{\"color\":\"#C8D4E3\"},\"line\":{\"color\":\"white\"}},\"type\":\"table\"}],\"barpolar\":[{\"marker\":{\"line\":{\"color\":\"#E5ECF6\",\"width\":0.5},\"pattern\":{\"fillmode\":\"overlay\",\"size\":10,\"solidity\":0.2}},\"type\":\"barpolar\"}],\"pie\":[{\"automargin\":true,\"type\":\"pie\"}]},\"layout\":{\"autotypenumbers\":\"strict\",\"colorway\":[\"#636efa\",\"#EF553B\",\"#00cc96\",\"#ab63fa\",\"#FFA15A\",\"#19d3f3\",\"#FF6692\",\"#B6E880\",\"#FF97FF\",\"#FECB52\"],\"font\":{\"color\":\"#2a3f5f\"},\"hovermode\":\"closest\",\"hoverlabel\":{\"align\":\"left\"},\"paper_bgcolor\":\"white\",\"plot_bgcolor\":\"#E5ECF6\",\"polar\":{\"bgcolor\":\"#E5ECF6\",\"angularaxis\":{\"gridcolor\":\"white\",\"linecolor\":\"white\",\"ticks\":\"\"},\"radialaxis\":{\"gridcolor\":\"white\",\"linecolor\":\"white\",\"ticks\":\"\"}},\"ternary\":{\"bgcolor\":\"#E5ECF6\",\"aaxis\":{\"gridcolor\":\"white\",\"linecolor\":\"white\",\"ticks\":\"\"},\"baxis\":{\"gridcolor\":\"white\",\"linecolor\":\"white\",\"ticks\":\"\"},\"caxis\":{\"gridcolor\":\"white\",\"linecolor\":\"white\",\"ticks\":\"\"}},\"coloraxis\":{\"colorbar\":{\"outlinewidth\":0,\"ticks\":\"\"}},\"colorscale\":{\"sequential\":[[0.0,\"#0d0887\"],[0.1111111111111111,\"#46039f\"],[0.2222222222222222,\"#7201a8\"],[0.3333333333333333,\"#9c179e\"],[0.4444444444444444,\"#bd3786\"],[0.5555555555555556,\"#d8576b\"],[0.6666666666666666,\"#ed7953\"],[0.7777777777777778,\"#fb9f3a\"],[0.8888888888888888,\"#fdca26\"],[1.0,\"#f0f921\"]],\"sequentialminus\":[[0.0,\"#0d0887\"],[0.1111111111111111,\"#46039f\"],[0.2222222222222222,\"#7201a8\"],[0.3333333333333333,\"#9c179e\"],[0.4444444444444444,\"#bd3786\"],[0.5555555555555556,\"#d8576b\"],[0.6666666666666666,\"#ed7953\"],[0.7777777777777778,\"#fb9f3a\"],[0.8888888888888888,\"#fdca26\"],[1.0,\"#f0f921\"]],\"diverging\":[[0,\"#8e0152\"],[0.1,\"#c51b7d\"],[0.2,\"#de77ae\"],[0.3,\"#f1b6da\"],[0.4,\"#fde0ef\"],[0.5,\"#f7f7f7\"],[0.6,\"#e6f5d0\"],[0.7,\"#b8e186\"],[0.8,\"#7fbc41\"],[0.9,\"#4d9221\"],[1,\"#276419\"]]},\"xaxis\":{\"gridcolor\":\"white\",\"linecolor\":\"white\",\"ticks\":\"\",\"title\":{\"standoff\":15},\"zerolinecolor\":\"white\",\"automargin\":true,\"zerolinewidth\":2},\"yaxis\":{\"gridcolor\":\"white\",\"linecolor\":\"white\",\"ticks\":\"\",\"title\":{\"standoff\":15},\"zerolinecolor\":\"white\",\"automargin\":true,\"zerolinewidth\":2},\"scene\":{\"xaxis\":{\"backgroundcolor\":\"#E5ECF6\",\"gridcolor\":\"white\",\"linecolor\":\"white\",\"showbackground\":true,\"ticks\":\"\",\"zerolinecolor\":\"white\",\"gridwidth\":2},\"yaxis\":{\"backgroundcolor\":\"#E5ECF6\",\"gridcolor\":\"white\",\"linecolor\":\"white\",\"showbackground\":true,\"ticks\":\"\",\"zerolinecolor\":\"white\",\"gridwidth\":2},\"zaxis\":{\"backgroundcolor\":\"#E5ECF6\",\"gridcolor\":\"white\",\"linecolor\":\"white\",\"showbackground\":true,\"ticks\":\"\",\"zerolinecolor\":\"white\",\"gridwidth\":2}},\"shapedefaults\":{\"line\":{\"color\":\"#2a3f5f\"}},\"annotationdefaults\":{\"arrowcolor\":\"#2a3f5f\",\"arrowhead\":0,\"arrowwidth\":1},\"geo\":{\"bgcolor\":\"white\",\"landcolor\":\"#E5ECF6\",\"subunitcolor\":\"white\",\"showland\":true,\"showlakes\":true,\"lakecolor\":\"white\"},\"title\":{\"x\":0.05},\"mapbox\":{\"style\":\"light\"}}},\"xaxis\":{\"anchor\":\"y\",\"domain\":[0.0,1.0],\"scaleanchor\":\"y\",\"constrain\":\"domain\"},\"yaxis\":{\"anchor\":\"x\",\"domain\":[0.0,1.0],\"autorange\":\"reversed\",\"constrain\":\"domain\"},\"coloraxis\":{\"colorscale\":[[0.0,\"rgb(5,48,97)\"],[0.1,\"rgb(33,102,172)\"],[0.2,\"rgb(67,147,195)\"],[0.3,\"rgb(146,197,222)\"],[0.4,\"rgb(209,229,240)\"],[0.5,\"rgb(247,247,247)\"],[0.6,\"rgb(253,219,199)\"],[0.7,\"rgb(244,165,130)\"],[0.8,\"rgb(214,96,77)\"],[0.9,\"rgb(178,24,43)\"],[1.0,\"rgb(103,0,31)\"]]},\"margin\":{\"t\":60},\"height\":800,\"width\":800},                        {\"responsive\": true}                    ).then(function(){\n",
              "                            \n",
              "var gd = document.getElementById('759bfb8a-3468-4e61-8e17-5ab6a1b80762');\n",
              "var x = new MutationObserver(function (mutations, observer) {{\n",
              "        var display = window.getComputedStyle(gd).display;\n",
              "        if (!display || display === 'none') {{\n",
              "            console.log([gd, 'removed!']);\n",
              "            Plotly.purge(gd);\n",
              "            observer.disconnect();\n",
              "        }}\n",
              "}});\n",
              "\n",
              "// Listen for the removal of the full notebook cells\n",
              "var notebookContainer = gd.closest('#notebook-container');\n",
              "if (notebookContainer) {{\n",
              "    x.observe(notebookContainer, {childList: true});\n",
              "}}\n",
              "\n",
              "// Listen for the clearing of the current output cell\n",
              "var outputEl = gd.closest('.output');\n",
              "if (outputEl) {{\n",
              "    x.observe(outputEl, {childList: true});\n",
              "}}\n",
              "\n",
              "                        })                };                            </script>        </div>\n",
              "</body>\n",
              "</html>"
            ]
          },
          "metadata": {}
        }
      ]
    },
    {
      "cell_type": "markdown",
      "source": [
        "#### 2.Average inflammation per day across all patients"
      ],
      "metadata": {
        "id": "XzD6ux80CsnW"
      }
    },
    {
      "cell_type": "code",
      "source": [
        "# https://plotly.com/python/line-charts/\n",
        "\n",
        "ave_inflammation = np.mean(loaded_data, axis=0)\n",
        "ave_plot = px.line(ave_inflammation, labels={\n",
        "    \"index\" : \"day\",\n",
        "    \"value\" : \"inflammation\"\n",
        "}, width=500)\n",
        "\n",
        "ave_plot.show()"
      ],
      "metadata": {
        "id": "2u9iWpgvCpXo",
        "colab": {
          "base_uri": "https://localhost:8080/",
          "height": 542
        },
        "outputId": "9b61ddd3-5188-4e59-ad9f-c80e4db42bf0"
      },
      "execution_count": null,
      "outputs": [
        {
          "output_type": "display_data",
          "data": {
            "text/html": [
              "<html>\n",
              "<head><meta charset=\"utf-8\" /></head>\n",
              "<body>\n",
              "    <div>            <script src=\"https://cdnjs.cloudflare.com/ajax/libs/mathjax/2.7.5/MathJax.js?config=TeX-AMS-MML_SVG\"></script><script type=\"text/javascript\">if (window.MathJax && window.MathJax.Hub && window.MathJax.Hub.Config) {window.MathJax.Hub.Config({SVG: {font: \"STIX-Web\"}});}</script>                <script type=\"text/javascript\">window.PlotlyConfig = {MathJaxConfig: 'local'};</script>\n",
              "        <script src=\"https://cdn.plot.ly/plotly-2.18.2.min.js\"></script>                <div id=\"4977e620-0a2a-46b4-84ed-c0b1379188b5\" class=\"plotly-graph-div\" style=\"height:525px; width:500px;\"></div>            <script type=\"text/javascript\">                                    window.PLOTLYENV=window.PLOTLYENV || {};                                    if (document.getElementById(\"4977e620-0a2a-46b4-84ed-c0b1379188b5\")) {                    Plotly.newPlot(                        \"4977e620-0a2a-46b4-84ed-c0b1379188b5\",                        [{\"hovertemplate\":\"variable=0<br>day=%{x}<br>inflammation=%{y}<extra></extra>\",\"legendgroup\":\"0\",\"line\":{\"color\":\"#636efa\",\"dash\":\"solid\"},\"marker\":{\"symbol\":\"circle\"},\"mode\":\"lines\",\"name\":\"0\",\"orientation\":\"v\",\"showlegend\":true,\"x\":[0,1,2,3,4,5,6,7,8,9,10,11,12,13,14,15,16,17,18,19,20,21,22,23,24,25,26,27,28,29,30,31,32,33,34,35,36,37,38,39],\"xaxis\":\"x\",\"y\":[0.0,0.45,1.1166666666666667,1.75,2.433333333333333,3.15,3.8,3.8833333333333333,5.233333333333333,5.516666666666667,5.95,5.9,8.35,7.733333333333333,8.366666666666667,9.5,9.583333333333334,10.633333333333333,11.566666666666666,12.35,13.25,11.966666666666667,11.033333333333333,10.166666666666666,10.0,8.666666666666666,9.15,7.25,7.333333333333333,6.583333333333333,6.066666666666666,5.95,5.116666666666666,3.6,3.3,3.566666666666667,2.4833333333333334,1.5,1.1333333333333333,0.5666666666666667],\"yaxis\":\"y\",\"type\":\"scatter\"}],                        {\"template\":{\"data\":{\"histogram2dcontour\":[{\"type\":\"histogram2dcontour\",\"colorbar\":{\"outlinewidth\":0,\"ticks\":\"\"},\"colorscale\":[[0.0,\"#0d0887\"],[0.1111111111111111,\"#46039f\"],[0.2222222222222222,\"#7201a8\"],[0.3333333333333333,\"#9c179e\"],[0.4444444444444444,\"#bd3786\"],[0.5555555555555556,\"#d8576b\"],[0.6666666666666666,\"#ed7953\"],[0.7777777777777778,\"#fb9f3a\"],[0.8888888888888888,\"#fdca26\"],[1.0,\"#f0f921\"]]}],\"choropleth\":[{\"type\":\"choropleth\",\"colorbar\":{\"outlinewidth\":0,\"ticks\":\"\"}}],\"histogram2d\":[{\"type\":\"histogram2d\",\"colorbar\":{\"outlinewidth\":0,\"ticks\":\"\"},\"colorscale\":[[0.0,\"#0d0887\"],[0.1111111111111111,\"#46039f\"],[0.2222222222222222,\"#7201a8\"],[0.3333333333333333,\"#9c179e\"],[0.4444444444444444,\"#bd3786\"],[0.5555555555555556,\"#d8576b\"],[0.6666666666666666,\"#ed7953\"],[0.7777777777777778,\"#fb9f3a\"],[0.8888888888888888,\"#fdca26\"],[1.0,\"#f0f921\"]]}],\"heatmap\":[{\"type\":\"heatmap\",\"colorbar\":{\"outlinewidth\":0,\"ticks\":\"\"},\"colorscale\":[[0.0,\"#0d0887\"],[0.1111111111111111,\"#46039f\"],[0.2222222222222222,\"#7201a8\"],[0.3333333333333333,\"#9c179e\"],[0.4444444444444444,\"#bd3786\"],[0.5555555555555556,\"#d8576b\"],[0.6666666666666666,\"#ed7953\"],[0.7777777777777778,\"#fb9f3a\"],[0.8888888888888888,\"#fdca26\"],[1.0,\"#f0f921\"]]}],\"heatmapgl\":[{\"type\":\"heatmapgl\",\"colorbar\":{\"outlinewidth\":0,\"ticks\":\"\"},\"colorscale\":[[0.0,\"#0d0887\"],[0.1111111111111111,\"#46039f\"],[0.2222222222222222,\"#7201a8\"],[0.3333333333333333,\"#9c179e\"],[0.4444444444444444,\"#bd3786\"],[0.5555555555555556,\"#d8576b\"],[0.6666666666666666,\"#ed7953\"],[0.7777777777777778,\"#fb9f3a\"],[0.8888888888888888,\"#fdca26\"],[1.0,\"#f0f921\"]]}],\"contourcarpet\":[{\"type\":\"contourcarpet\",\"colorbar\":{\"outlinewidth\":0,\"ticks\":\"\"}}],\"contour\":[{\"type\":\"contour\",\"colorbar\":{\"outlinewidth\":0,\"ticks\":\"\"},\"colorscale\":[[0.0,\"#0d0887\"],[0.1111111111111111,\"#46039f\"],[0.2222222222222222,\"#7201a8\"],[0.3333333333333333,\"#9c179e\"],[0.4444444444444444,\"#bd3786\"],[0.5555555555555556,\"#d8576b\"],[0.6666666666666666,\"#ed7953\"],[0.7777777777777778,\"#fb9f3a\"],[0.8888888888888888,\"#fdca26\"],[1.0,\"#f0f921\"]]}],\"surface\":[{\"type\":\"surface\",\"colorbar\":{\"outlinewidth\":0,\"ticks\":\"\"},\"colorscale\":[[0.0,\"#0d0887\"],[0.1111111111111111,\"#46039f\"],[0.2222222222222222,\"#7201a8\"],[0.3333333333333333,\"#9c179e\"],[0.4444444444444444,\"#bd3786\"],[0.5555555555555556,\"#d8576b\"],[0.6666666666666666,\"#ed7953\"],[0.7777777777777778,\"#fb9f3a\"],[0.8888888888888888,\"#fdca26\"],[1.0,\"#f0f921\"]]}],\"mesh3d\":[{\"type\":\"mesh3d\",\"colorbar\":{\"outlinewidth\":0,\"ticks\":\"\"}}],\"scatter\":[{\"fillpattern\":{\"fillmode\":\"overlay\",\"size\":10,\"solidity\":0.2},\"type\":\"scatter\"}],\"parcoords\":[{\"type\":\"parcoords\",\"line\":{\"colorbar\":{\"outlinewidth\":0,\"ticks\":\"\"}}}],\"scatterpolargl\":[{\"type\":\"scatterpolargl\",\"marker\":{\"colorbar\":{\"outlinewidth\":0,\"ticks\":\"\"}}}],\"bar\":[{\"error_x\":{\"color\":\"#2a3f5f\"},\"error_y\":{\"color\":\"#2a3f5f\"},\"marker\":{\"line\":{\"color\":\"#E5ECF6\",\"width\":0.5},\"pattern\":{\"fillmode\":\"overlay\",\"size\":10,\"solidity\":0.2}},\"type\":\"bar\"}],\"scattergeo\":[{\"type\":\"scattergeo\",\"marker\":{\"colorbar\":{\"outlinewidth\":0,\"ticks\":\"\"}}}],\"scatterpolar\":[{\"type\":\"scatterpolar\",\"marker\":{\"colorbar\":{\"outlinewidth\":0,\"ticks\":\"\"}}}],\"histogram\":[{\"marker\":{\"pattern\":{\"fillmode\":\"overlay\",\"size\":10,\"solidity\":0.2}},\"type\":\"histogram\"}],\"scattergl\":[{\"type\":\"scattergl\",\"marker\":{\"colorbar\":{\"outlinewidth\":0,\"ticks\":\"\"}}}],\"scatter3d\":[{\"type\":\"scatter3d\",\"line\":{\"colorbar\":{\"outlinewidth\":0,\"ticks\":\"\"}},\"marker\":{\"colorbar\":{\"outlinewidth\":0,\"ticks\":\"\"}}}],\"scattermapbox\":[{\"type\":\"scattermapbox\",\"marker\":{\"colorbar\":{\"outlinewidth\":0,\"ticks\":\"\"}}}],\"scatterternary\":[{\"type\":\"scatterternary\",\"marker\":{\"colorbar\":{\"outlinewidth\":0,\"ticks\":\"\"}}}],\"scattercarpet\":[{\"type\":\"scattercarpet\",\"marker\":{\"colorbar\":{\"outlinewidth\":0,\"ticks\":\"\"}}}],\"carpet\":[{\"aaxis\":{\"endlinecolor\":\"#2a3f5f\",\"gridcolor\":\"white\",\"linecolor\":\"white\",\"minorgridcolor\":\"white\",\"startlinecolor\":\"#2a3f5f\"},\"baxis\":{\"endlinecolor\":\"#2a3f5f\",\"gridcolor\":\"white\",\"linecolor\":\"white\",\"minorgridcolor\":\"white\",\"startlinecolor\":\"#2a3f5f\"},\"type\":\"carpet\"}],\"table\":[{\"cells\":{\"fill\":{\"color\":\"#EBF0F8\"},\"line\":{\"color\":\"white\"}},\"header\":{\"fill\":{\"color\":\"#C8D4E3\"},\"line\":{\"color\":\"white\"}},\"type\":\"table\"}],\"barpolar\":[{\"marker\":{\"line\":{\"color\":\"#E5ECF6\",\"width\":0.5},\"pattern\":{\"fillmode\":\"overlay\",\"size\":10,\"solidity\":0.2}},\"type\":\"barpolar\"}],\"pie\":[{\"automargin\":true,\"type\":\"pie\"}]},\"layout\":{\"autotypenumbers\":\"strict\",\"colorway\":[\"#636efa\",\"#EF553B\",\"#00cc96\",\"#ab63fa\",\"#FFA15A\",\"#19d3f3\",\"#FF6692\",\"#B6E880\",\"#FF97FF\",\"#FECB52\"],\"font\":{\"color\":\"#2a3f5f\"},\"hovermode\":\"closest\",\"hoverlabel\":{\"align\":\"left\"},\"paper_bgcolor\":\"white\",\"plot_bgcolor\":\"#E5ECF6\",\"polar\":{\"bgcolor\":\"#E5ECF6\",\"angularaxis\":{\"gridcolor\":\"white\",\"linecolor\":\"white\",\"ticks\":\"\"},\"radialaxis\":{\"gridcolor\":\"white\",\"linecolor\":\"white\",\"ticks\":\"\"}},\"ternary\":{\"bgcolor\":\"#E5ECF6\",\"aaxis\":{\"gridcolor\":\"white\",\"linecolor\":\"white\",\"ticks\":\"\"},\"baxis\":{\"gridcolor\":\"white\",\"linecolor\":\"white\",\"ticks\":\"\"},\"caxis\":{\"gridcolor\":\"white\",\"linecolor\":\"white\",\"ticks\":\"\"}},\"coloraxis\":{\"colorbar\":{\"outlinewidth\":0,\"ticks\":\"\"}},\"colorscale\":{\"sequential\":[[0.0,\"#0d0887\"],[0.1111111111111111,\"#46039f\"],[0.2222222222222222,\"#7201a8\"],[0.3333333333333333,\"#9c179e\"],[0.4444444444444444,\"#bd3786\"],[0.5555555555555556,\"#d8576b\"],[0.6666666666666666,\"#ed7953\"],[0.7777777777777778,\"#fb9f3a\"],[0.8888888888888888,\"#fdca26\"],[1.0,\"#f0f921\"]],\"sequentialminus\":[[0.0,\"#0d0887\"],[0.1111111111111111,\"#46039f\"],[0.2222222222222222,\"#7201a8\"],[0.3333333333333333,\"#9c179e\"],[0.4444444444444444,\"#bd3786\"],[0.5555555555555556,\"#d8576b\"],[0.6666666666666666,\"#ed7953\"],[0.7777777777777778,\"#fb9f3a\"],[0.8888888888888888,\"#fdca26\"],[1.0,\"#f0f921\"]],\"diverging\":[[0,\"#8e0152\"],[0.1,\"#c51b7d\"],[0.2,\"#de77ae\"],[0.3,\"#f1b6da\"],[0.4,\"#fde0ef\"],[0.5,\"#f7f7f7\"],[0.6,\"#e6f5d0\"],[0.7,\"#b8e186\"],[0.8,\"#7fbc41\"],[0.9,\"#4d9221\"],[1,\"#276419\"]]},\"xaxis\":{\"gridcolor\":\"white\",\"linecolor\":\"white\",\"ticks\":\"\",\"title\":{\"standoff\":15},\"zerolinecolor\":\"white\",\"automargin\":true,\"zerolinewidth\":2},\"yaxis\":{\"gridcolor\":\"white\",\"linecolor\":\"white\",\"ticks\":\"\",\"title\":{\"standoff\":15},\"zerolinecolor\":\"white\",\"automargin\":true,\"zerolinewidth\":2},\"scene\":{\"xaxis\":{\"backgroundcolor\":\"#E5ECF6\",\"gridcolor\":\"white\",\"linecolor\":\"white\",\"showbackground\":true,\"ticks\":\"\",\"zerolinecolor\":\"white\",\"gridwidth\":2},\"yaxis\":{\"backgroundcolor\":\"#E5ECF6\",\"gridcolor\":\"white\",\"linecolor\":\"white\",\"showbackground\":true,\"ticks\":\"\",\"zerolinecolor\":\"white\",\"gridwidth\":2},\"zaxis\":{\"backgroundcolor\":\"#E5ECF6\",\"gridcolor\":\"white\",\"linecolor\":\"white\",\"showbackground\":true,\"ticks\":\"\",\"zerolinecolor\":\"white\",\"gridwidth\":2}},\"shapedefaults\":{\"line\":{\"color\":\"#2a3f5f\"}},\"annotationdefaults\":{\"arrowcolor\":\"#2a3f5f\",\"arrowhead\":0,\"arrowwidth\":1},\"geo\":{\"bgcolor\":\"white\",\"landcolor\":\"#E5ECF6\",\"subunitcolor\":\"white\",\"showland\":true,\"showlakes\":true,\"lakecolor\":\"white\"},\"title\":{\"x\":0.05},\"mapbox\":{\"style\":\"light\"}}},\"xaxis\":{\"anchor\":\"y\",\"domain\":[0.0,1.0],\"title\":{\"text\":\"day\"}},\"yaxis\":{\"anchor\":\"x\",\"domain\":[0.0,1.0],\"title\":{\"text\":\"inflammation\"}},\"legend\":{\"title\":{\"text\":\"variable\"},\"tracegroupgap\":0},\"margin\":{\"t\":60},\"width\":500},                        {\"responsive\": true}                    ).then(function(){\n",
              "                            \n",
              "var gd = document.getElementById('4977e620-0a2a-46b4-84ed-c0b1379188b5');\n",
              "var x = new MutationObserver(function (mutations, observer) {{\n",
              "        var display = window.getComputedStyle(gd).display;\n",
              "        if (!display || display === 'none') {{\n",
              "            console.log([gd, 'removed!']);\n",
              "            Plotly.purge(gd);\n",
              "            observer.disconnect();\n",
              "        }}\n",
              "}});\n",
              "\n",
              "// Listen for the removal of the full notebook cells\n",
              "var notebookContainer = gd.closest('#notebook-container');\n",
              "if (notebookContainer) {{\n",
              "    x.observe(notebookContainer, {childList: true});\n",
              "}}\n",
              "\n",
              "// Listen for the clearing of the current output cell\n",
              "var outputEl = gd.closest('.output');\n",
              "if (outputEl) {{\n",
              "    x.observe(outputEl, {childList: true});\n",
              "}}\n",
              "\n",
              "                        })                };                            </script>        </div>\n",
              "</body>\n",
              "</html>"
            ]
          },
          "metadata": {}
        }
      ]
    },
    {
      "cell_type": "markdown",
      "source": [
        "#### 3.Max inflammation per day across all patients"
      ],
      "metadata": {
        "id": "snFTIxYkMgCk"
      }
    },
    {
      "cell_type": "code",
      "source": [
        "max_plot = px.line(np.max(loaded_data, axis=0), labels={\n",
        "    \"index\" : \"day\",\n",
        "    \"value\" : \"inflammation\"}, width=500)\n",
        "max_plot.show()\n"
      ],
      "metadata": {
        "id": "_wggBohpD-7V",
        "colab": {
          "base_uri": "https://localhost:8080/",
          "height": 542
        },
        "outputId": "eac1312f-4206-432e-d87a-9629cdf1f6d4"
      },
      "execution_count": null,
      "outputs": [
        {
          "output_type": "display_data",
          "data": {
            "text/html": [
              "<html>\n",
              "<head><meta charset=\"utf-8\" /></head>\n",
              "<body>\n",
              "    <div>            <script src=\"https://cdnjs.cloudflare.com/ajax/libs/mathjax/2.7.5/MathJax.js?config=TeX-AMS-MML_SVG\"></script><script type=\"text/javascript\">if (window.MathJax && window.MathJax.Hub && window.MathJax.Hub.Config) {window.MathJax.Hub.Config({SVG: {font: \"STIX-Web\"}});}</script>                <script type=\"text/javascript\">window.PlotlyConfig = {MathJaxConfig: 'local'};</script>\n",
              "        <script src=\"https://cdn.plot.ly/plotly-2.18.2.min.js\"></script>                <div id=\"a65c0e67-8bb9-46df-99d3-788d6ea53b3b\" class=\"plotly-graph-div\" style=\"height:525px; width:500px;\"></div>            <script type=\"text/javascript\">                                    window.PLOTLYENV=window.PLOTLYENV || {};                                    if (document.getElementById(\"a65c0e67-8bb9-46df-99d3-788d6ea53b3b\")) {                    Plotly.newPlot(                        \"a65c0e67-8bb9-46df-99d3-788d6ea53b3b\",                        [{\"hovertemplate\":\"variable=0<br>day=%{x}<br>inflammation=%{y}<extra></extra>\",\"legendgroup\":\"0\",\"line\":{\"color\":\"#636efa\",\"dash\":\"solid\"},\"marker\":{\"symbol\":\"circle\"},\"mode\":\"lines\",\"name\":\"0\",\"orientation\":\"v\",\"showlegend\":true,\"x\":[0,1,2,3,4,5,6,7,8,9,10,11,12,13,14,15,16,17,18,19,20,21,22,23,24,25,26,27,28,29,30,31,32,33,34,35,36,37,38,39],\"xaxis\":\"x\",\"y\":[0.0,1.0,2.0,3.0,4.0,5.0,6.0,7.0,8.0,9.0,10.0,11.0,12.0,13.0,14.0,15.0,16.0,17.0,18.0,19.0,20.0,19.0,18.0,17.0,16.0,15.0,14.0,13.0,12.0,11.0,10.0,9.0,8.0,7.0,6.0,5.0,4.0,3.0,2.0,1.0],\"yaxis\":\"y\",\"type\":\"scatter\"}],                        {\"template\":{\"data\":{\"histogram2dcontour\":[{\"type\":\"histogram2dcontour\",\"colorbar\":{\"outlinewidth\":0,\"ticks\":\"\"},\"colorscale\":[[0.0,\"#0d0887\"],[0.1111111111111111,\"#46039f\"],[0.2222222222222222,\"#7201a8\"],[0.3333333333333333,\"#9c179e\"],[0.4444444444444444,\"#bd3786\"],[0.5555555555555556,\"#d8576b\"],[0.6666666666666666,\"#ed7953\"],[0.7777777777777778,\"#fb9f3a\"],[0.8888888888888888,\"#fdca26\"],[1.0,\"#f0f921\"]]}],\"choropleth\":[{\"type\":\"choropleth\",\"colorbar\":{\"outlinewidth\":0,\"ticks\":\"\"}}],\"histogram2d\":[{\"type\":\"histogram2d\",\"colorbar\":{\"outlinewidth\":0,\"ticks\":\"\"},\"colorscale\":[[0.0,\"#0d0887\"],[0.1111111111111111,\"#46039f\"],[0.2222222222222222,\"#7201a8\"],[0.3333333333333333,\"#9c179e\"],[0.4444444444444444,\"#bd3786\"],[0.5555555555555556,\"#d8576b\"],[0.6666666666666666,\"#ed7953\"],[0.7777777777777778,\"#fb9f3a\"],[0.8888888888888888,\"#fdca26\"],[1.0,\"#f0f921\"]]}],\"heatmap\":[{\"type\":\"heatmap\",\"colorbar\":{\"outlinewidth\":0,\"ticks\":\"\"},\"colorscale\":[[0.0,\"#0d0887\"],[0.1111111111111111,\"#46039f\"],[0.2222222222222222,\"#7201a8\"],[0.3333333333333333,\"#9c179e\"],[0.4444444444444444,\"#bd3786\"],[0.5555555555555556,\"#d8576b\"],[0.6666666666666666,\"#ed7953\"],[0.7777777777777778,\"#fb9f3a\"],[0.8888888888888888,\"#fdca26\"],[1.0,\"#f0f921\"]]}],\"heatmapgl\":[{\"type\":\"heatmapgl\",\"colorbar\":{\"outlinewidth\":0,\"ticks\":\"\"},\"colorscale\":[[0.0,\"#0d0887\"],[0.1111111111111111,\"#46039f\"],[0.2222222222222222,\"#7201a8\"],[0.3333333333333333,\"#9c179e\"],[0.4444444444444444,\"#bd3786\"],[0.5555555555555556,\"#d8576b\"],[0.6666666666666666,\"#ed7953\"],[0.7777777777777778,\"#fb9f3a\"],[0.8888888888888888,\"#fdca26\"],[1.0,\"#f0f921\"]]}],\"contourcarpet\":[{\"type\":\"contourcarpet\",\"colorbar\":{\"outlinewidth\":0,\"ticks\":\"\"}}],\"contour\":[{\"type\":\"contour\",\"colorbar\":{\"outlinewidth\":0,\"ticks\":\"\"},\"colorscale\":[[0.0,\"#0d0887\"],[0.1111111111111111,\"#46039f\"],[0.2222222222222222,\"#7201a8\"],[0.3333333333333333,\"#9c179e\"],[0.4444444444444444,\"#bd3786\"],[0.5555555555555556,\"#d8576b\"],[0.6666666666666666,\"#ed7953\"],[0.7777777777777778,\"#fb9f3a\"],[0.8888888888888888,\"#fdca26\"],[1.0,\"#f0f921\"]]}],\"surface\":[{\"type\":\"surface\",\"colorbar\":{\"outlinewidth\":0,\"ticks\":\"\"},\"colorscale\":[[0.0,\"#0d0887\"],[0.1111111111111111,\"#46039f\"],[0.2222222222222222,\"#7201a8\"],[0.3333333333333333,\"#9c179e\"],[0.4444444444444444,\"#bd3786\"],[0.5555555555555556,\"#d8576b\"],[0.6666666666666666,\"#ed7953\"],[0.7777777777777778,\"#fb9f3a\"],[0.8888888888888888,\"#fdca26\"],[1.0,\"#f0f921\"]]}],\"mesh3d\":[{\"type\":\"mesh3d\",\"colorbar\":{\"outlinewidth\":0,\"ticks\":\"\"}}],\"scatter\":[{\"fillpattern\":{\"fillmode\":\"overlay\",\"size\":10,\"solidity\":0.2},\"type\":\"scatter\"}],\"parcoords\":[{\"type\":\"parcoords\",\"line\":{\"colorbar\":{\"outlinewidth\":0,\"ticks\":\"\"}}}],\"scatterpolargl\":[{\"type\":\"scatterpolargl\",\"marker\":{\"colorbar\":{\"outlinewidth\":0,\"ticks\":\"\"}}}],\"bar\":[{\"error_x\":{\"color\":\"#2a3f5f\"},\"error_y\":{\"color\":\"#2a3f5f\"},\"marker\":{\"line\":{\"color\":\"#E5ECF6\",\"width\":0.5},\"pattern\":{\"fillmode\":\"overlay\",\"size\":10,\"solidity\":0.2}},\"type\":\"bar\"}],\"scattergeo\":[{\"type\":\"scattergeo\",\"marker\":{\"colorbar\":{\"outlinewidth\":0,\"ticks\":\"\"}}}],\"scatterpolar\":[{\"type\":\"scatterpolar\",\"marker\":{\"colorbar\":{\"outlinewidth\":0,\"ticks\":\"\"}}}],\"histogram\":[{\"marker\":{\"pattern\":{\"fillmode\":\"overlay\",\"size\":10,\"solidity\":0.2}},\"type\":\"histogram\"}],\"scattergl\":[{\"type\":\"scattergl\",\"marker\":{\"colorbar\":{\"outlinewidth\":0,\"ticks\":\"\"}}}],\"scatter3d\":[{\"type\":\"scatter3d\",\"line\":{\"colorbar\":{\"outlinewidth\":0,\"ticks\":\"\"}},\"marker\":{\"colorbar\":{\"outlinewidth\":0,\"ticks\":\"\"}}}],\"scattermapbox\":[{\"type\":\"scattermapbox\",\"marker\":{\"colorbar\":{\"outlinewidth\":0,\"ticks\":\"\"}}}],\"scatterternary\":[{\"type\":\"scatterternary\",\"marker\":{\"colorbar\":{\"outlinewidth\":0,\"ticks\":\"\"}}}],\"scattercarpet\":[{\"type\":\"scattercarpet\",\"marker\":{\"colorbar\":{\"outlinewidth\":0,\"ticks\":\"\"}}}],\"carpet\":[{\"aaxis\":{\"endlinecolor\":\"#2a3f5f\",\"gridcolor\":\"white\",\"linecolor\":\"white\",\"minorgridcolor\":\"white\",\"startlinecolor\":\"#2a3f5f\"},\"baxis\":{\"endlinecolor\":\"#2a3f5f\",\"gridcolor\":\"white\",\"linecolor\":\"white\",\"minorgridcolor\":\"white\",\"startlinecolor\":\"#2a3f5f\"},\"type\":\"carpet\"}],\"table\":[{\"cells\":{\"fill\":{\"color\":\"#EBF0F8\"},\"line\":{\"color\":\"white\"}},\"header\":{\"fill\":{\"color\":\"#C8D4E3\"},\"line\":{\"color\":\"white\"}},\"type\":\"table\"}],\"barpolar\":[{\"marker\":{\"line\":{\"color\":\"#E5ECF6\",\"width\":0.5},\"pattern\":{\"fillmode\":\"overlay\",\"size\":10,\"solidity\":0.2}},\"type\":\"barpolar\"}],\"pie\":[{\"automargin\":true,\"type\":\"pie\"}]},\"layout\":{\"autotypenumbers\":\"strict\",\"colorway\":[\"#636efa\",\"#EF553B\",\"#00cc96\",\"#ab63fa\",\"#FFA15A\",\"#19d3f3\",\"#FF6692\",\"#B6E880\",\"#FF97FF\",\"#FECB52\"],\"font\":{\"color\":\"#2a3f5f\"},\"hovermode\":\"closest\",\"hoverlabel\":{\"align\":\"left\"},\"paper_bgcolor\":\"white\",\"plot_bgcolor\":\"#E5ECF6\",\"polar\":{\"bgcolor\":\"#E5ECF6\",\"angularaxis\":{\"gridcolor\":\"white\",\"linecolor\":\"white\",\"ticks\":\"\"},\"radialaxis\":{\"gridcolor\":\"white\",\"linecolor\":\"white\",\"ticks\":\"\"}},\"ternary\":{\"bgcolor\":\"#E5ECF6\",\"aaxis\":{\"gridcolor\":\"white\",\"linecolor\":\"white\",\"ticks\":\"\"},\"baxis\":{\"gridcolor\":\"white\",\"linecolor\":\"white\",\"ticks\":\"\"},\"caxis\":{\"gridcolor\":\"white\",\"linecolor\":\"white\",\"ticks\":\"\"}},\"coloraxis\":{\"colorbar\":{\"outlinewidth\":0,\"ticks\":\"\"}},\"colorscale\":{\"sequential\":[[0.0,\"#0d0887\"],[0.1111111111111111,\"#46039f\"],[0.2222222222222222,\"#7201a8\"],[0.3333333333333333,\"#9c179e\"],[0.4444444444444444,\"#bd3786\"],[0.5555555555555556,\"#d8576b\"],[0.6666666666666666,\"#ed7953\"],[0.7777777777777778,\"#fb9f3a\"],[0.8888888888888888,\"#fdca26\"],[1.0,\"#f0f921\"]],\"sequentialminus\":[[0.0,\"#0d0887\"],[0.1111111111111111,\"#46039f\"],[0.2222222222222222,\"#7201a8\"],[0.3333333333333333,\"#9c179e\"],[0.4444444444444444,\"#bd3786\"],[0.5555555555555556,\"#d8576b\"],[0.6666666666666666,\"#ed7953\"],[0.7777777777777778,\"#fb9f3a\"],[0.8888888888888888,\"#fdca26\"],[1.0,\"#f0f921\"]],\"diverging\":[[0,\"#8e0152\"],[0.1,\"#c51b7d\"],[0.2,\"#de77ae\"],[0.3,\"#f1b6da\"],[0.4,\"#fde0ef\"],[0.5,\"#f7f7f7\"],[0.6,\"#e6f5d0\"],[0.7,\"#b8e186\"],[0.8,\"#7fbc41\"],[0.9,\"#4d9221\"],[1,\"#276419\"]]},\"xaxis\":{\"gridcolor\":\"white\",\"linecolor\":\"white\",\"ticks\":\"\",\"title\":{\"standoff\":15},\"zerolinecolor\":\"white\",\"automargin\":true,\"zerolinewidth\":2},\"yaxis\":{\"gridcolor\":\"white\",\"linecolor\":\"white\",\"ticks\":\"\",\"title\":{\"standoff\":15},\"zerolinecolor\":\"white\",\"automargin\":true,\"zerolinewidth\":2},\"scene\":{\"xaxis\":{\"backgroundcolor\":\"#E5ECF6\",\"gridcolor\":\"white\",\"linecolor\":\"white\",\"showbackground\":true,\"ticks\":\"\",\"zerolinecolor\":\"white\",\"gridwidth\":2},\"yaxis\":{\"backgroundcolor\":\"#E5ECF6\",\"gridcolor\":\"white\",\"linecolor\":\"white\",\"showbackground\":true,\"ticks\":\"\",\"zerolinecolor\":\"white\",\"gridwidth\":2},\"zaxis\":{\"backgroundcolor\":\"#E5ECF6\",\"gridcolor\":\"white\",\"linecolor\":\"white\",\"showbackground\":true,\"ticks\":\"\",\"zerolinecolor\":\"white\",\"gridwidth\":2}},\"shapedefaults\":{\"line\":{\"color\":\"#2a3f5f\"}},\"annotationdefaults\":{\"arrowcolor\":\"#2a3f5f\",\"arrowhead\":0,\"arrowwidth\":1},\"geo\":{\"bgcolor\":\"white\",\"landcolor\":\"#E5ECF6\",\"subunitcolor\":\"white\",\"showland\":true,\"showlakes\":true,\"lakecolor\":\"white\"},\"title\":{\"x\":0.05},\"mapbox\":{\"style\":\"light\"}}},\"xaxis\":{\"anchor\":\"y\",\"domain\":[0.0,1.0],\"title\":{\"text\":\"day\"}},\"yaxis\":{\"anchor\":\"x\",\"domain\":[0.0,1.0],\"title\":{\"text\":\"inflammation\"}},\"legend\":{\"title\":{\"text\":\"variable\"},\"tracegroupgap\":0},\"margin\":{\"t\":60},\"width\":500},                        {\"responsive\": true}                    ).then(function(){\n",
              "                            \n",
              "var gd = document.getElementById('a65c0e67-8bb9-46df-99d3-788d6ea53b3b');\n",
              "var x = new MutationObserver(function (mutations, observer) {{\n",
              "        var display = window.getComputedStyle(gd).display;\n",
              "        if (!display || display === 'none') {{\n",
              "            console.log([gd, 'removed!']);\n",
              "            Plotly.purge(gd);\n",
              "            observer.disconnect();\n",
              "        }}\n",
              "}});\n",
              "\n",
              "// Listen for the removal of the full notebook cells\n",
              "var notebookContainer = gd.closest('#notebook-container');\n",
              "if (notebookContainer) {{\n",
              "    x.observe(notebookContainer, {childList: true});\n",
              "}}\n",
              "\n",
              "// Listen for the clearing of the current output cell\n",
              "var outputEl = gd.closest('.output');\n",
              "if (outputEl) {{\n",
              "    x.observe(outputEl, {childList: true});\n",
              "}}\n",
              "\n",
              "                        })                };                            </script>        </div>\n",
              "</body>\n",
              "</html>"
            ]
          },
          "metadata": {}
        }
      ]
    },
    {
      "cell_type": "markdown",
      "source": [
        "#### 4.Min inflammation per day across all patients"
      ],
      "metadata": {
        "id": "bivPXjZaMh-n"
      }
    },
    {
      "cell_type": "code",
      "source": [
        "min_plot = px.line(np.min(loaded_data, axis=0), labels={\n",
        "    \"index\" : \"day\",\n",
        "    \"value\" : \"inflammation\"}, width=500)\n",
        "min_plot.show()\n"
      ],
      "metadata": {
        "id": "rbXJ20bjEfBP",
        "colab": {
          "base_uri": "https://localhost:8080/",
          "height": 542
        },
        "outputId": "0cefd2a3-e661-41bc-b639-c022d83f33a8"
      },
      "execution_count": 94,
      "outputs": [
        {
          "output_type": "display_data",
          "data": {
            "text/html": [
              "<html>\n",
              "<head><meta charset=\"utf-8\" /></head>\n",
              "<body>\n",
              "    <div>            <script src=\"https://cdnjs.cloudflare.com/ajax/libs/mathjax/2.7.5/MathJax.js?config=TeX-AMS-MML_SVG\"></script><script type=\"text/javascript\">if (window.MathJax && window.MathJax.Hub && window.MathJax.Hub.Config) {window.MathJax.Hub.Config({SVG: {font: \"STIX-Web\"}});}</script>                <script type=\"text/javascript\">window.PlotlyConfig = {MathJaxConfig: 'local'};</script>\n",
              "        <script charset=\"utf-8\" src=\"https://cdn.plot.ly/plotly-2.24.1.min.js\"></script>                <div id=\"2f2d2ac7-8a28-41f3-8251-4440466ac5d9\" class=\"plotly-graph-div\" style=\"height:525px; width:500px;\"></div>            <script type=\"text/javascript\">                                    window.PLOTLYENV=window.PLOTLYENV || {};                                    if (document.getElementById(\"2f2d2ac7-8a28-41f3-8251-4440466ac5d9\")) {                    Plotly.newPlot(                        \"2f2d2ac7-8a28-41f3-8251-4440466ac5d9\",                        [{\"hovertemplate\":\"variable=0\\u003cbr\\u003eday=%{x}\\u003cbr\\u003einflammation=%{y}\\u003cextra\\u003e\\u003c\\u002fextra\\u003e\",\"legendgroup\":\"0\",\"line\":{\"color\":\"#636efa\",\"dash\":\"solid\"},\"marker\":{\"symbol\":\"circle\"},\"mode\":\"lines\",\"name\":\"0\",\"orientation\":\"v\",\"showlegend\":true,\"x\":[0,1,2,3,4,5,6,7,8,9,10,11,12,13,14,15,16,17,18,19,20,21,22,23,24,25,26,27,28,29,30,31,32,33,34,35,36,37,38,39],\"xaxis\":\"x\",\"y\":[0.0,0.0,0.0,0.0,1.0,1.0,1.0,1.0,2.0,2.0,2.0,2.0,3.0,3.0,3.0,3.0,4.0,5.0,5.0,5.0,5.0,4.0,4.0,4.0,4.0,3.0,3.0,3.0,3.0,2.0,2.0,2.0,2.0,1.0,1.0,1.0,1.0,0.0,0.0,0.0],\"yaxis\":\"y\",\"type\":\"scatter\"}],                        {\"template\":{\"data\":{\"histogram2dcontour\":[{\"type\":\"histogram2dcontour\",\"colorbar\":{\"outlinewidth\":0,\"ticks\":\"\"},\"colorscale\":[[0.0,\"#0d0887\"],[0.1111111111111111,\"#46039f\"],[0.2222222222222222,\"#7201a8\"],[0.3333333333333333,\"#9c179e\"],[0.4444444444444444,\"#bd3786\"],[0.5555555555555556,\"#d8576b\"],[0.6666666666666666,\"#ed7953\"],[0.7777777777777778,\"#fb9f3a\"],[0.8888888888888888,\"#fdca26\"],[1.0,\"#f0f921\"]]}],\"choropleth\":[{\"type\":\"choropleth\",\"colorbar\":{\"outlinewidth\":0,\"ticks\":\"\"}}],\"histogram2d\":[{\"type\":\"histogram2d\",\"colorbar\":{\"outlinewidth\":0,\"ticks\":\"\"},\"colorscale\":[[0.0,\"#0d0887\"],[0.1111111111111111,\"#46039f\"],[0.2222222222222222,\"#7201a8\"],[0.3333333333333333,\"#9c179e\"],[0.4444444444444444,\"#bd3786\"],[0.5555555555555556,\"#d8576b\"],[0.6666666666666666,\"#ed7953\"],[0.7777777777777778,\"#fb9f3a\"],[0.8888888888888888,\"#fdca26\"],[1.0,\"#f0f921\"]]}],\"heatmap\":[{\"type\":\"heatmap\",\"colorbar\":{\"outlinewidth\":0,\"ticks\":\"\"},\"colorscale\":[[0.0,\"#0d0887\"],[0.1111111111111111,\"#46039f\"],[0.2222222222222222,\"#7201a8\"],[0.3333333333333333,\"#9c179e\"],[0.4444444444444444,\"#bd3786\"],[0.5555555555555556,\"#d8576b\"],[0.6666666666666666,\"#ed7953\"],[0.7777777777777778,\"#fb9f3a\"],[0.8888888888888888,\"#fdca26\"],[1.0,\"#f0f921\"]]}],\"heatmapgl\":[{\"type\":\"heatmapgl\",\"colorbar\":{\"outlinewidth\":0,\"ticks\":\"\"},\"colorscale\":[[0.0,\"#0d0887\"],[0.1111111111111111,\"#46039f\"],[0.2222222222222222,\"#7201a8\"],[0.3333333333333333,\"#9c179e\"],[0.4444444444444444,\"#bd3786\"],[0.5555555555555556,\"#d8576b\"],[0.6666666666666666,\"#ed7953\"],[0.7777777777777778,\"#fb9f3a\"],[0.8888888888888888,\"#fdca26\"],[1.0,\"#f0f921\"]]}],\"contourcarpet\":[{\"type\":\"contourcarpet\",\"colorbar\":{\"outlinewidth\":0,\"ticks\":\"\"}}],\"contour\":[{\"type\":\"contour\",\"colorbar\":{\"outlinewidth\":0,\"ticks\":\"\"},\"colorscale\":[[0.0,\"#0d0887\"],[0.1111111111111111,\"#46039f\"],[0.2222222222222222,\"#7201a8\"],[0.3333333333333333,\"#9c179e\"],[0.4444444444444444,\"#bd3786\"],[0.5555555555555556,\"#d8576b\"],[0.6666666666666666,\"#ed7953\"],[0.7777777777777778,\"#fb9f3a\"],[0.8888888888888888,\"#fdca26\"],[1.0,\"#f0f921\"]]}],\"surface\":[{\"type\":\"surface\",\"colorbar\":{\"outlinewidth\":0,\"ticks\":\"\"},\"colorscale\":[[0.0,\"#0d0887\"],[0.1111111111111111,\"#46039f\"],[0.2222222222222222,\"#7201a8\"],[0.3333333333333333,\"#9c179e\"],[0.4444444444444444,\"#bd3786\"],[0.5555555555555556,\"#d8576b\"],[0.6666666666666666,\"#ed7953\"],[0.7777777777777778,\"#fb9f3a\"],[0.8888888888888888,\"#fdca26\"],[1.0,\"#f0f921\"]]}],\"mesh3d\":[{\"type\":\"mesh3d\",\"colorbar\":{\"outlinewidth\":0,\"ticks\":\"\"}}],\"scatter\":[{\"fillpattern\":{\"fillmode\":\"overlay\",\"size\":10,\"solidity\":0.2},\"type\":\"scatter\"}],\"parcoords\":[{\"type\":\"parcoords\",\"line\":{\"colorbar\":{\"outlinewidth\":0,\"ticks\":\"\"}}}],\"scatterpolargl\":[{\"type\":\"scatterpolargl\",\"marker\":{\"colorbar\":{\"outlinewidth\":0,\"ticks\":\"\"}}}],\"bar\":[{\"error_x\":{\"color\":\"#2a3f5f\"},\"error_y\":{\"color\":\"#2a3f5f\"},\"marker\":{\"line\":{\"color\":\"#E5ECF6\",\"width\":0.5},\"pattern\":{\"fillmode\":\"overlay\",\"size\":10,\"solidity\":0.2}},\"type\":\"bar\"}],\"scattergeo\":[{\"type\":\"scattergeo\",\"marker\":{\"colorbar\":{\"outlinewidth\":0,\"ticks\":\"\"}}}],\"scatterpolar\":[{\"type\":\"scatterpolar\",\"marker\":{\"colorbar\":{\"outlinewidth\":0,\"ticks\":\"\"}}}],\"histogram\":[{\"marker\":{\"pattern\":{\"fillmode\":\"overlay\",\"size\":10,\"solidity\":0.2}},\"type\":\"histogram\"}],\"scattergl\":[{\"type\":\"scattergl\",\"marker\":{\"colorbar\":{\"outlinewidth\":0,\"ticks\":\"\"}}}],\"scatter3d\":[{\"type\":\"scatter3d\",\"line\":{\"colorbar\":{\"outlinewidth\":0,\"ticks\":\"\"}},\"marker\":{\"colorbar\":{\"outlinewidth\":0,\"ticks\":\"\"}}}],\"scattermapbox\":[{\"type\":\"scattermapbox\",\"marker\":{\"colorbar\":{\"outlinewidth\":0,\"ticks\":\"\"}}}],\"scatterternary\":[{\"type\":\"scatterternary\",\"marker\":{\"colorbar\":{\"outlinewidth\":0,\"ticks\":\"\"}}}],\"scattercarpet\":[{\"type\":\"scattercarpet\",\"marker\":{\"colorbar\":{\"outlinewidth\":0,\"ticks\":\"\"}}}],\"carpet\":[{\"aaxis\":{\"endlinecolor\":\"#2a3f5f\",\"gridcolor\":\"white\",\"linecolor\":\"white\",\"minorgridcolor\":\"white\",\"startlinecolor\":\"#2a3f5f\"},\"baxis\":{\"endlinecolor\":\"#2a3f5f\",\"gridcolor\":\"white\",\"linecolor\":\"white\",\"minorgridcolor\":\"white\",\"startlinecolor\":\"#2a3f5f\"},\"type\":\"carpet\"}],\"table\":[{\"cells\":{\"fill\":{\"color\":\"#EBF0F8\"},\"line\":{\"color\":\"white\"}},\"header\":{\"fill\":{\"color\":\"#C8D4E3\"},\"line\":{\"color\":\"white\"}},\"type\":\"table\"}],\"barpolar\":[{\"marker\":{\"line\":{\"color\":\"#E5ECF6\",\"width\":0.5},\"pattern\":{\"fillmode\":\"overlay\",\"size\":10,\"solidity\":0.2}},\"type\":\"barpolar\"}],\"pie\":[{\"automargin\":true,\"type\":\"pie\"}]},\"layout\":{\"autotypenumbers\":\"strict\",\"colorway\":[\"#636efa\",\"#EF553B\",\"#00cc96\",\"#ab63fa\",\"#FFA15A\",\"#19d3f3\",\"#FF6692\",\"#B6E880\",\"#FF97FF\",\"#FECB52\"],\"font\":{\"color\":\"#2a3f5f\"},\"hovermode\":\"closest\",\"hoverlabel\":{\"align\":\"left\"},\"paper_bgcolor\":\"white\",\"plot_bgcolor\":\"#E5ECF6\",\"polar\":{\"bgcolor\":\"#E5ECF6\",\"angularaxis\":{\"gridcolor\":\"white\",\"linecolor\":\"white\",\"ticks\":\"\"},\"radialaxis\":{\"gridcolor\":\"white\",\"linecolor\":\"white\",\"ticks\":\"\"}},\"ternary\":{\"bgcolor\":\"#E5ECF6\",\"aaxis\":{\"gridcolor\":\"white\",\"linecolor\":\"white\",\"ticks\":\"\"},\"baxis\":{\"gridcolor\":\"white\",\"linecolor\":\"white\",\"ticks\":\"\"},\"caxis\":{\"gridcolor\":\"white\",\"linecolor\":\"white\",\"ticks\":\"\"}},\"coloraxis\":{\"colorbar\":{\"outlinewidth\":0,\"ticks\":\"\"}},\"colorscale\":{\"sequential\":[[0.0,\"#0d0887\"],[0.1111111111111111,\"#46039f\"],[0.2222222222222222,\"#7201a8\"],[0.3333333333333333,\"#9c179e\"],[0.4444444444444444,\"#bd3786\"],[0.5555555555555556,\"#d8576b\"],[0.6666666666666666,\"#ed7953\"],[0.7777777777777778,\"#fb9f3a\"],[0.8888888888888888,\"#fdca26\"],[1.0,\"#f0f921\"]],\"sequentialminus\":[[0.0,\"#0d0887\"],[0.1111111111111111,\"#46039f\"],[0.2222222222222222,\"#7201a8\"],[0.3333333333333333,\"#9c179e\"],[0.4444444444444444,\"#bd3786\"],[0.5555555555555556,\"#d8576b\"],[0.6666666666666666,\"#ed7953\"],[0.7777777777777778,\"#fb9f3a\"],[0.8888888888888888,\"#fdca26\"],[1.0,\"#f0f921\"]],\"diverging\":[[0,\"#8e0152\"],[0.1,\"#c51b7d\"],[0.2,\"#de77ae\"],[0.3,\"#f1b6da\"],[0.4,\"#fde0ef\"],[0.5,\"#f7f7f7\"],[0.6,\"#e6f5d0\"],[0.7,\"#b8e186\"],[0.8,\"#7fbc41\"],[0.9,\"#4d9221\"],[1,\"#276419\"]]},\"xaxis\":{\"gridcolor\":\"white\",\"linecolor\":\"white\",\"ticks\":\"\",\"title\":{\"standoff\":15},\"zerolinecolor\":\"white\",\"automargin\":true,\"zerolinewidth\":2},\"yaxis\":{\"gridcolor\":\"white\",\"linecolor\":\"white\",\"ticks\":\"\",\"title\":{\"standoff\":15},\"zerolinecolor\":\"white\",\"automargin\":true,\"zerolinewidth\":2},\"scene\":{\"xaxis\":{\"backgroundcolor\":\"#E5ECF6\",\"gridcolor\":\"white\",\"linecolor\":\"white\",\"showbackground\":true,\"ticks\":\"\",\"zerolinecolor\":\"white\",\"gridwidth\":2},\"yaxis\":{\"backgroundcolor\":\"#E5ECF6\",\"gridcolor\":\"white\",\"linecolor\":\"white\",\"showbackground\":true,\"ticks\":\"\",\"zerolinecolor\":\"white\",\"gridwidth\":2},\"zaxis\":{\"backgroundcolor\":\"#E5ECF6\",\"gridcolor\":\"white\",\"linecolor\":\"white\",\"showbackground\":true,\"ticks\":\"\",\"zerolinecolor\":\"white\",\"gridwidth\":2}},\"shapedefaults\":{\"line\":{\"color\":\"#2a3f5f\"}},\"annotationdefaults\":{\"arrowcolor\":\"#2a3f5f\",\"arrowhead\":0,\"arrowwidth\":1},\"geo\":{\"bgcolor\":\"white\",\"landcolor\":\"#E5ECF6\",\"subunitcolor\":\"white\",\"showland\":true,\"showlakes\":true,\"lakecolor\":\"white\"},\"title\":{\"x\":0.05},\"mapbox\":{\"style\":\"light\"}}},\"xaxis\":{\"anchor\":\"y\",\"domain\":[0.0,1.0],\"title\":{\"text\":\"day\"}},\"yaxis\":{\"anchor\":\"x\",\"domain\":[0.0,1.0],\"title\":{\"text\":\"inflammation\"}},\"legend\":{\"title\":{\"text\":\"variable\"},\"tracegroupgap\":0},\"margin\":{\"t\":60},\"width\":500},                        {\"responsive\": true}                    ).then(function(){\n",
              "                            \n",
              "var gd = document.getElementById('2f2d2ac7-8a28-41f3-8251-4440466ac5d9');\n",
              "var x = new MutationObserver(function (mutations, observer) {{\n",
              "        var display = window.getComputedStyle(gd).display;\n",
              "        if (!display || display === 'none') {{\n",
              "            console.log([gd, 'removed!']);\n",
              "            Plotly.purge(gd);\n",
              "            observer.disconnect();\n",
              "        }}\n",
              "}});\n",
              "\n",
              "// Listen for the removal of the full notebook cells\n",
              "var notebookContainer = gd.closest('#notebook-container');\n",
              "if (notebookContainer) {{\n",
              "    x.observe(notebookContainer, {childList: true});\n",
              "}}\n",
              "\n",
              "// Listen for the clearing of the current output cell\n",
              "var outputEl = gd.closest('.output');\n",
              "if (outputEl) {{\n",
              "    x.observe(outputEl, {childList: true});\n",
              "}}\n",
              "\n",
              "                        })                };                            </script>        </div>\n",
              "</body>\n",
              "</html>"
            ]
          },
          "metadata": {}
        }
      ]
    },
    {
      "cell_type": "markdown",
      "source": [
        "#### 5.Subplot, using GO Plotly"
      ],
      "metadata": {
        "id": "Yy7JtO70NUrt"
      }
    },
    {
      "cell_type": "code",
      "source": [
        "import plotly.graph_objects as go\n",
        "from plotly.subplots import make_subplots"
      ],
      "metadata": {
        "id": "BA_ZWgmJNUb1"
      },
      "execution_count": 95,
      "outputs": []
    },
    {
      "cell_type": "code",
      "source": [
        "fig = go.Figure()\n",
        "\n",
        "fig.add_trace(\n",
        "    go.Scatter(x=list(range(len(loaded_data.min(axis=0)))), y=loaded_data.min(axis=0), name=\"min\")\n",
        ")\n",
        "\n",
        "fig.add_trace(\n",
        "    go.Scatter(x=list(range(len(loaded_data.mean(axis=0)))), y=loaded_data.mean(axis=0), name=\"mean\")\n",
        ")\n",
        "\n",
        "fig.add_trace(\n",
        "    go.Scatter(x=list(range(len(loaded_data.max(axis=0)))), y=loaded_data.max(axis=0), name=\"max\")\n",
        ")\n",
        "fig.update_layout(title=\"Plots\",\n",
        "                  xaxis_title=\"day\",\n",
        "                  yaxis_title=\"inflammation\",\n",
        "                  legend_title=\"type\",\n",
        "                  hovermode=\"x unified\",\n",
        "                  width=500)\n",
        "fig.update_traces(mode=\"markers+lines\")\n",
        "fig.show()"
      ],
      "metadata": {
        "id": "QD3C9qZoNYrG",
        "colab": {
          "base_uri": "https://localhost:8080/",
          "height": 542
        },
        "outputId": "b6f5b86e-e975-4f7f-dfbc-8487a806164c"
      },
      "execution_count": 96,
      "outputs": [
        {
          "output_type": "display_data",
          "data": {
            "text/html": [
              "<html>\n",
              "<head><meta charset=\"utf-8\" /></head>\n",
              "<body>\n",
              "    <div>            <script src=\"https://cdnjs.cloudflare.com/ajax/libs/mathjax/2.7.5/MathJax.js?config=TeX-AMS-MML_SVG\"></script><script type=\"text/javascript\">if (window.MathJax && window.MathJax.Hub && window.MathJax.Hub.Config) {window.MathJax.Hub.Config({SVG: {font: \"STIX-Web\"}});}</script>                <script type=\"text/javascript\">window.PlotlyConfig = {MathJaxConfig: 'local'};</script>\n",
              "        <script charset=\"utf-8\" src=\"https://cdn.plot.ly/plotly-2.24.1.min.js\"></script>                <div id=\"f15dbfec-b5a4-4cf2-8e4d-3126ab14a428\" class=\"plotly-graph-div\" style=\"height:525px; width:500px;\"></div>            <script type=\"text/javascript\">                                    window.PLOTLYENV=window.PLOTLYENV || {};                                    if (document.getElementById(\"f15dbfec-b5a4-4cf2-8e4d-3126ab14a428\")) {                    Plotly.newPlot(                        \"f15dbfec-b5a4-4cf2-8e4d-3126ab14a428\",                        [{\"name\":\"min\",\"x\":[0,1,2,3,4,5,6,7,8,9,10,11,12,13,14,15,16,17,18,19,20,21,22,23,24,25,26,27,28,29,30,31,32,33,34,35,36,37,38,39],\"y\":[0.0,0.0,0.0,0.0,1.0,1.0,1.0,1.0,2.0,2.0,2.0,2.0,3.0,3.0,3.0,3.0,4.0,5.0,5.0,5.0,5.0,4.0,4.0,4.0,4.0,3.0,3.0,3.0,3.0,2.0,2.0,2.0,2.0,1.0,1.0,1.0,1.0,0.0,0.0,0.0],\"type\":\"scatter\",\"mode\":\"markers+lines\"},{\"name\":\"mean\",\"x\":[0,1,2,3,4,5,6,7,8,9,10,11,12,13,14,15,16,17,18,19,20,21,22,23,24,25,26,27,28,29,30,31,32,33,34,35,36,37,38,39],\"y\":[0.0,0.45,1.1166666666666667,1.75,2.433333333333333,3.15,3.8,3.8833333333333333,5.233333333333333,5.516666666666667,5.95,5.9,8.35,7.733333333333333,8.366666666666667,9.5,9.583333333333334,10.633333333333333,11.566666666666666,12.35,13.25,11.966666666666667,11.033333333333333,10.166666666666666,10.0,8.666666666666666,9.15,7.25,7.333333333333333,6.583333333333333,6.066666666666666,5.95,5.116666666666666,3.6,3.3,3.566666666666667,2.4833333333333334,1.5,1.1333333333333333,0.5666666666666667],\"type\":\"scatter\",\"mode\":\"markers+lines\"},{\"name\":\"max\",\"x\":[0,1,2,3,4,5,6,7,8,9,10,11,12,13,14,15,16,17,18,19,20,21,22,23,24,25,26,27,28,29,30,31,32,33,34,35,36,37,38,39],\"y\":[0.0,1.0,2.0,3.0,4.0,5.0,6.0,7.0,8.0,9.0,10.0,11.0,12.0,13.0,14.0,15.0,16.0,17.0,18.0,19.0,20.0,19.0,18.0,17.0,16.0,15.0,14.0,13.0,12.0,11.0,10.0,9.0,8.0,7.0,6.0,5.0,4.0,3.0,2.0,1.0],\"type\":\"scatter\",\"mode\":\"markers+lines\"}],                        {\"template\":{\"data\":{\"histogram2dcontour\":[{\"type\":\"histogram2dcontour\",\"colorbar\":{\"outlinewidth\":0,\"ticks\":\"\"},\"colorscale\":[[0.0,\"#0d0887\"],[0.1111111111111111,\"#46039f\"],[0.2222222222222222,\"#7201a8\"],[0.3333333333333333,\"#9c179e\"],[0.4444444444444444,\"#bd3786\"],[0.5555555555555556,\"#d8576b\"],[0.6666666666666666,\"#ed7953\"],[0.7777777777777778,\"#fb9f3a\"],[0.8888888888888888,\"#fdca26\"],[1.0,\"#f0f921\"]]}],\"choropleth\":[{\"type\":\"choropleth\",\"colorbar\":{\"outlinewidth\":0,\"ticks\":\"\"}}],\"histogram2d\":[{\"type\":\"histogram2d\",\"colorbar\":{\"outlinewidth\":0,\"ticks\":\"\"},\"colorscale\":[[0.0,\"#0d0887\"],[0.1111111111111111,\"#46039f\"],[0.2222222222222222,\"#7201a8\"],[0.3333333333333333,\"#9c179e\"],[0.4444444444444444,\"#bd3786\"],[0.5555555555555556,\"#d8576b\"],[0.6666666666666666,\"#ed7953\"],[0.7777777777777778,\"#fb9f3a\"],[0.8888888888888888,\"#fdca26\"],[1.0,\"#f0f921\"]]}],\"heatmap\":[{\"type\":\"heatmap\",\"colorbar\":{\"outlinewidth\":0,\"ticks\":\"\"},\"colorscale\":[[0.0,\"#0d0887\"],[0.1111111111111111,\"#46039f\"],[0.2222222222222222,\"#7201a8\"],[0.3333333333333333,\"#9c179e\"],[0.4444444444444444,\"#bd3786\"],[0.5555555555555556,\"#d8576b\"],[0.6666666666666666,\"#ed7953\"],[0.7777777777777778,\"#fb9f3a\"],[0.8888888888888888,\"#fdca26\"],[1.0,\"#f0f921\"]]}],\"heatmapgl\":[{\"type\":\"heatmapgl\",\"colorbar\":{\"outlinewidth\":0,\"ticks\":\"\"},\"colorscale\":[[0.0,\"#0d0887\"],[0.1111111111111111,\"#46039f\"],[0.2222222222222222,\"#7201a8\"],[0.3333333333333333,\"#9c179e\"],[0.4444444444444444,\"#bd3786\"],[0.5555555555555556,\"#d8576b\"],[0.6666666666666666,\"#ed7953\"],[0.7777777777777778,\"#fb9f3a\"],[0.8888888888888888,\"#fdca26\"],[1.0,\"#f0f921\"]]}],\"contourcarpet\":[{\"type\":\"contourcarpet\",\"colorbar\":{\"outlinewidth\":0,\"ticks\":\"\"}}],\"contour\":[{\"type\":\"contour\",\"colorbar\":{\"outlinewidth\":0,\"ticks\":\"\"},\"colorscale\":[[0.0,\"#0d0887\"],[0.1111111111111111,\"#46039f\"],[0.2222222222222222,\"#7201a8\"],[0.3333333333333333,\"#9c179e\"],[0.4444444444444444,\"#bd3786\"],[0.5555555555555556,\"#d8576b\"],[0.6666666666666666,\"#ed7953\"],[0.7777777777777778,\"#fb9f3a\"],[0.8888888888888888,\"#fdca26\"],[1.0,\"#f0f921\"]]}],\"surface\":[{\"type\":\"surface\",\"colorbar\":{\"outlinewidth\":0,\"ticks\":\"\"},\"colorscale\":[[0.0,\"#0d0887\"],[0.1111111111111111,\"#46039f\"],[0.2222222222222222,\"#7201a8\"],[0.3333333333333333,\"#9c179e\"],[0.4444444444444444,\"#bd3786\"],[0.5555555555555556,\"#d8576b\"],[0.6666666666666666,\"#ed7953\"],[0.7777777777777778,\"#fb9f3a\"],[0.8888888888888888,\"#fdca26\"],[1.0,\"#f0f921\"]]}],\"mesh3d\":[{\"type\":\"mesh3d\",\"colorbar\":{\"outlinewidth\":0,\"ticks\":\"\"}}],\"scatter\":[{\"fillpattern\":{\"fillmode\":\"overlay\",\"size\":10,\"solidity\":0.2},\"type\":\"scatter\"}],\"parcoords\":[{\"type\":\"parcoords\",\"line\":{\"colorbar\":{\"outlinewidth\":0,\"ticks\":\"\"}}}],\"scatterpolargl\":[{\"type\":\"scatterpolargl\",\"marker\":{\"colorbar\":{\"outlinewidth\":0,\"ticks\":\"\"}}}],\"bar\":[{\"error_x\":{\"color\":\"#2a3f5f\"},\"error_y\":{\"color\":\"#2a3f5f\"},\"marker\":{\"line\":{\"color\":\"#E5ECF6\",\"width\":0.5},\"pattern\":{\"fillmode\":\"overlay\",\"size\":10,\"solidity\":0.2}},\"type\":\"bar\"}],\"scattergeo\":[{\"type\":\"scattergeo\",\"marker\":{\"colorbar\":{\"outlinewidth\":0,\"ticks\":\"\"}}}],\"scatterpolar\":[{\"type\":\"scatterpolar\",\"marker\":{\"colorbar\":{\"outlinewidth\":0,\"ticks\":\"\"}}}],\"histogram\":[{\"marker\":{\"pattern\":{\"fillmode\":\"overlay\",\"size\":10,\"solidity\":0.2}},\"type\":\"histogram\"}],\"scattergl\":[{\"type\":\"scattergl\",\"marker\":{\"colorbar\":{\"outlinewidth\":0,\"ticks\":\"\"}}}],\"scatter3d\":[{\"type\":\"scatter3d\",\"line\":{\"colorbar\":{\"outlinewidth\":0,\"ticks\":\"\"}},\"marker\":{\"colorbar\":{\"outlinewidth\":0,\"ticks\":\"\"}}}],\"scattermapbox\":[{\"type\":\"scattermapbox\",\"marker\":{\"colorbar\":{\"outlinewidth\":0,\"ticks\":\"\"}}}],\"scatterternary\":[{\"type\":\"scatterternary\",\"marker\":{\"colorbar\":{\"outlinewidth\":0,\"ticks\":\"\"}}}],\"scattercarpet\":[{\"type\":\"scattercarpet\",\"marker\":{\"colorbar\":{\"outlinewidth\":0,\"ticks\":\"\"}}}],\"carpet\":[{\"aaxis\":{\"endlinecolor\":\"#2a3f5f\",\"gridcolor\":\"white\",\"linecolor\":\"white\",\"minorgridcolor\":\"white\",\"startlinecolor\":\"#2a3f5f\"},\"baxis\":{\"endlinecolor\":\"#2a3f5f\",\"gridcolor\":\"white\",\"linecolor\":\"white\",\"minorgridcolor\":\"white\",\"startlinecolor\":\"#2a3f5f\"},\"type\":\"carpet\"}],\"table\":[{\"cells\":{\"fill\":{\"color\":\"#EBF0F8\"},\"line\":{\"color\":\"white\"}},\"header\":{\"fill\":{\"color\":\"#C8D4E3\"},\"line\":{\"color\":\"white\"}},\"type\":\"table\"}],\"barpolar\":[{\"marker\":{\"line\":{\"color\":\"#E5ECF6\",\"width\":0.5},\"pattern\":{\"fillmode\":\"overlay\",\"size\":10,\"solidity\":0.2}},\"type\":\"barpolar\"}],\"pie\":[{\"automargin\":true,\"type\":\"pie\"}]},\"layout\":{\"autotypenumbers\":\"strict\",\"colorway\":[\"#636efa\",\"#EF553B\",\"#00cc96\",\"#ab63fa\",\"#FFA15A\",\"#19d3f3\",\"#FF6692\",\"#B6E880\",\"#FF97FF\",\"#FECB52\"],\"font\":{\"color\":\"#2a3f5f\"},\"hovermode\":\"closest\",\"hoverlabel\":{\"align\":\"left\"},\"paper_bgcolor\":\"white\",\"plot_bgcolor\":\"#E5ECF6\",\"polar\":{\"bgcolor\":\"#E5ECF6\",\"angularaxis\":{\"gridcolor\":\"white\",\"linecolor\":\"white\",\"ticks\":\"\"},\"radialaxis\":{\"gridcolor\":\"white\",\"linecolor\":\"white\",\"ticks\":\"\"}},\"ternary\":{\"bgcolor\":\"#E5ECF6\",\"aaxis\":{\"gridcolor\":\"white\",\"linecolor\":\"white\",\"ticks\":\"\"},\"baxis\":{\"gridcolor\":\"white\",\"linecolor\":\"white\",\"ticks\":\"\"},\"caxis\":{\"gridcolor\":\"white\",\"linecolor\":\"white\",\"ticks\":\"\"}},\"coloraxis\":{\"colorbar\":{\"outlinewidth\":0,\"ticks\":\"\"}},\"colorscale\":{\"sequential\":[[0.0,\"#0d0887\"],[0.1111111111111111,\"#46039f\"],[0.2222222222222222,\"#7201a8\"],[0.3333333333333333,\"#9c179e\"],[0.4444444444444444,\"#bd3786\"],[0.5555555555555556,\"#d8576b\"],[0.6666666666666666,\"#ed7953\"],[0.7777777777777778,\"#fb9f3a\"],[0.8888888888888888,\"#fdca26\"],[1.0,\"#f0f921\"]],\"sequentialminus\":[[0.0,\"#0d0887\"],[0.1111111111111111,\"#46039f\"],[0.2222222222222222,\"#7201a8\"],[0.3333333333333333,\"#9c179e\"],[0.4444444444444444,\"#bd3786\"],[0.5555555555555556,\"#d8576b\"],[0.6666666666666666,\"#ed7953\"],[0.7777777777777778,\"#fb9f3a\"],[0.8888888888888888,\"#fdca26\"],[1.0,\"#f0f921\"]],\"diverging\":[[0,\"#8e0152\"],[0.1,\"#c51b7d\"],[0.2,\"#de77ae\"],[0.3,\"#f1b6da\"],[0.4,\"#fde0ef\"],[0.5,\"#f7f7f7\"],[0.6,\"#e6f5d0\"],[0.7,\"#b8e186\"],[0.8,\"#7fbc41\"],[0.9,\"#4d9221\"],[1,\"#276419\"]]},\"xaxis\":{\"gridcolor\":\"white\",\"linecolor\":\"white\",\"ticks\":\"\",\"title\":{\"standoff\":15},\"zerolinecolor\":\"white\",\"automargin\":true,\"zerolinewidth\":2},\"yaxis\":{\"gridcolor\":\"white\",\"linecolor\":\"white\",\"ticks\":\"\",\"title\":{\"standoff\":15},\"zerolinecolor\":\"white\",\"automargin\":true,\"zerolinewidth\":2},\"scene\":{\"xaxis\":{\"backgroundcolor\":\"#E5ECF6\",\"gridcolor\":\"white\",\"linecolor\":\"white\",\"showbackground\":true,\"ticks\":\"\",\"zerolinecolor\":\"white\",\"gridwidth\":2},\"yaxis\":{\"backgroundcolor\":\"#E5ECF6\",\"gridcolor\":\"white\",\"linecolor\":\"white\",\"showbackground\":true,\"ticks\":\"\",\"zerolinecolor\":\"white\",\"gridwidth\":2},\"zaxis\":{\"backgroundcolor\":\"#E5ECF6\",\"gridcolor\":\"white\",\"linecolor\":\"white\",\"showbackground\":true,\"ticks\":\"\",\"zerolinecolor\":\"white\",\"gridwidth\":2}},\"shapedefaults\":{\"line\":{\"color\":\"#2a3f5f\"}},\"annotationdefaults\":{\"arrowcolor\":\"#2a3f5f\",\"arrowhead\":0,\"arrowwidth\":1},\"geo\":{\"bgcolor\":\"white\",\"landcolor\":\"#E5ECF6\",\"subunitcolor\":\"white\",\"showland\":true,\"showlakes\":true,\"lakecolor\":\"white\"},\"title\":{\"x\":0.05},\"mapbox\":{\"style\":\"light\"}}},\"title\":{\"text\":\"Plots\"},\"xaxis\":{\"title\":{\"text\":\"day\"}},\"yaxis\":{\"title\":{\"text\":\"inflammation\"}},\"legend\":{\"title\":{\"text\":\"type\"}},\"hovermode\":\"x unified\",\"width\":500},                        {\"responsive\": true}                    ).then(function(){\n",
              "                            \n",
              "var gd = document.getElementById('f15dbfec-b5a4-4cf2-8e4d-3126ab14a428');\n",
              "var x = new MutationObserver(function (mutations, observer) {{\n",
              "        var display = window.getComputedStyle(gd).display;\n",
              "        if (!display || display === 'none') {{\n",
              "            console.log([gd, 'removed!']);\n",
              "            Plotly.purge(gd);\n",
              "            observer.disconnect();\n",
              "        }}\n",
              "}});\n",
              "\n",
              "// Listen for the removal of the full notebook cells\n",
              "var notebookContainer = gd.closest('#notebook-container');\n",
              "if (notebookContainer) {{\n",
              "    x.observe(notebookContainer, {childList: true});\n",
              "}}\n",
              "\n",
              "// Listen for the clearing of the current output cell\n",
              "var outputEl = gd.closest('.output');\n",
              "if (outputEl) {{\n",
              "    x.observe(outputEl, {childList: true});\n",
              "}}\n",
              "\n",
              "                        })                };                            </script>        </div>\n",
              "</body>\n",
              "</html>"
            ]
          },
          "metadata": {}
        }
      ]
    },
    {
      "cell_type": "code",
      "source": [
        "fig_subplot = make_subplots(rows=1, cols=3, shared_yaxes=True)\n",
        "\n",
        "fig_subplot.add_trace(\n",
        "    go.Scatter(x=list(range(len(loaded_data.min(axis=0)))), y=loaded_data.min(axis=0), name=\"min\"),\n",
        "    row=1, col=1\n",
        ")\n",
        "\n",
        "fig_subplot.add_trace(\n",
        "    go.Scatter(x=list(range(len(loaded_data.mean(axis=0)))), y=loaded_data.mean(axis=0), name=\"mean\"),\n",
        "    row=1, col=2\n",
        ")\n",
        "\n",
        "fig_subplot.add_trace(\n",
        "    go.Scatter(x=list(range(len(loaded_data.max(axis=0)))), y=loaded_data.max(axis=0), name=\"max\"),\n",
        "    row=1, col=3\n",
        ")\n",
        "\n",
        "fig_subplot.update_layout(title=\"Plots\",\n",
        "                  xaxis_title=\"day\",\n",
        "                  yaxis_title=\"inflammation\",\n",
        "                  legend_title=\"type\",\n",
        "                  hovermode=\"x unified\",\n",
        "                  legend_traceorder=\"normal\")\n",
        "fig_subplot.update_traces(mode=\"markers+lines\")\n",
        "fig_subplot.show()\n",
        "\n"
      ],
      "metadata": {
        "id": "uvAED3O_T1a3",
        "colab": {
          "base_uri": "https://localhost:8080/",
          "height": 542
        },
        "outputId": "1183db43-317c-4f4e-b327-311910339528"
      },
      "execution_count": 97,
      "outputs": [
        {
          "output_type": "display_data",
          "data": {
            "text/html": [
              "<html>\n",
              "<head><meta charset=\"utf-8\" /></head>\n",
              "<body>\n",
              "    <div>            <script src=\"https://cdnjs.cloudflare.com/ajax/libs/mathjax/2.7.5/MathJax.js?config=TeX-AMS-MML_SVG\"></script><script type=\"text/javascript\">if (window.MathJax && window.MathJax.Hub && window.MathJax.Hub.Config) {window.MathJax.Hub.Config({SVG: {font: \"STIX-Web\"}});}</script>                <script type=\"text/javascript\">window.PlotlyConfig = {MathJaxConfig: 'local'};</script>\n",
              "        <script charset=\"utf-8\" src=\"https://cdn.plot.ly/plotly-2.24.1.min.js\"></script>                <div id=\"943b4cf6-e3bc-43e3-be9c-cc666111c748\" class=\"plotly-graph-div\" style=\"height:525px; width:100%;\"></div>            <script type=\"text/javascript\">                                    window.PLOTLYENV=window.PLOTLYENV || {};                                    if (document.getElementById(\"943b4cf6-e3bc-43e3-be9c-cc666111c748\")) {                    Plotly.newPlot(                        \"943b4cf6-e3bc-43e3-be9c-cc666111c748\",                        [{\"name\":\"min\",\"x\":[0,1,2,3,4,5,6,7,8,9,10,11,12,13,14,15,16,17,18,19,20,21,22,23,24,25,26,27,28,29,30,31,32,33,34,35,36,37,38,39],\"y\":[0.0,0.0,0.0,0.0,1.0,1.0,1.0,1.0,2.0,2.0,2.0,2.0,3.0,3.0,3.0,3.0,4.0,5.0,5.0,5.0,5.0,4.0,4.0,4.0,4.0,3.0,3.0,3.0,3.0,2.0,2.0,2.0,2.0,1.0,1.0,1.0,1.0,0.0,0.0,0.0],\"type\":\"scatter\",\"xaxis\":\"x\",\"yaxis\":\"y\",\"mode\":\"markers+lines\"},{\"name\":\"mean\",\"x\":[0,1,2,3,4,5,6,7,8,9,10,11,12,13,14,15,16,17,18,19,20,21,22,23,24,25,26,27,28,29,30,31,32,33,34,35,36,37,38,39],\"y\":[0.0,0.45,1.1166666666666667,1.75,2.433333333333333,3.15,3.8,3.8833333333333333,5.233333333333333,5.516666666666667,5.95,5.9,8.35,7.733333333333333,8.366666666666667,9.5,9.583333333333334,10.633333333333333,11.566666666666666,12.35,13.25,11.966666666666667,11.033333333333333,10.166666666666666,10.0,8.666666666666666,9.15,7.25,7.333333333333333,6.583333333333333,6.066666666666666,5.95,5.116666666666666,3.6,3.3,3.566666666666667,2.4833333333333334,1.5,1.1333333333333333,0.5666666666666667],\"type\":\"scatter\",\"xaxis\":\"x2\",\"yaxis\":\"y2\",\"mode\":\"markers+lines\"},{\"name\":\"max\",\"x\":[0,1,2,3,4,5,6,7,8,9,10,11,12,13,14,15,16,17,18,19,20,21,22,23,24,25,26,27,28,29,30,31,32,33,34,35,36,37,38,39],\"y\":[0.0,1.0,2.0,3.0,4.0,5.0,6.0,7.0,8.0,9.0,10.0,11.0,12.0,13.0,14.0,15.0,16.0,17.0,18.0,19.0,20.0,19.0,18.0,17.0,16.0,15.0,14.0,13.0,12.0,11.0,10.0,9.0,8.0,7.0,6.0,5.0,4.0,3.0,2.0,1.0],\"type\":\"scatter\",\"xaxis\":\"x3\",\"yaxis\":\"y3\",\"mode\":\"markers+lines\"}],                        {\"template\":{\"data\":{\"histogram2dcontour\":[{\"type\":\"histogram2dcontour\",\"colorbar\":{\"outlinewidth\":0,\"ticks\":\"\"},\"colorscale\":[[0.0,\"#0d0887\"],[0.1111111111111111,\"#46039f\"],[0.2222222222222222,\"#7201a8\"],[0.3333333333333333,\"#9c179e\"],[0.4444444444444444,\"#bd3786\"],[0.5555555555555556,\"#d8576b\"],[0.6666666666666666,\"#ed7953\"],[0.7777777777777778,\"#fb9f3a\"],[0.8888888888888888,\"#fdca26\"],[1.0,\"#f0f921\"]]}],\"choropleth\":[{\"type\":\"choropleth\",\"colorbar\":{\"outlinewidth\":0,\"ticks\":\"\"}}],\"histogram2d\":[{\"type\":\"histogram2d\",\"colorbar\":{\"outlinewidth\":0,\"ticks\":\"\"},\"colorscale\":[[0.0,\"#0d0887\"],[0.1111111111111111,\"#46039f\"],[0.2222222222222222,\"#7201a8\"],[0.3333333333333333,\"#9c179e\"],[0.4444444444444444,\"#bd3786\"],[0.5555555555555556,\"#d8576b\"],[0.6666666666666666,\"#ed7953\"],[0.7777777777777778,\"#fb9f3a\"],[0.8888888888888888,\"#fdca26\"],[1.0,\"#f0f921\"]]}],\"heatmap\":[{\"type\":\"heatmap\",\"colorbar\":{\"outlinewidth\":0,\"ticks\":\"\"},\"colorscale\":[[0.0,\"#0d0887\"],[0.1111111111111111,\"#46039f\"],[0.2222222222222222,\"#7201a8\"],[0.3333333333333333,\"#9c179e\"],[0.4444444444444444,\"#bd3786\"],[0.5555555555555556,\"#d8576b\"],[0.6666666666666666,\"#ed7953\"],[0.7777777777777778,\"#fb9f3a\"],[0.8888888888888888,\"#fdca26\"],[1.0,\"#f0f921\"]]}],\"heatmapgl\":[{\"type\":\"heatmapgl\",\"colorbar\":{\"outlinewidth\":0,\"ticks\":\"\"},\"colorscale\":[[0.0,\"#0d0887\"],[0.1111111111111111,\"#46039f\"],[0.2222222222222222,\"#7201a8\"],[0.3333333333333333,\"#9c179e\"],[0.4444444444444444,\"#bd3786\"],[0.5555555555555556,\"#d8576b\"],[0.6666666666666666,\"#ed7953\"],[0.7777777777777778,\"#fb9f3a\"],[0.8888888888888888,\"#fdca26\"],[1.0,\"#f0f921\"]]}],\"contourcarpet\":[{\"type\":\"contourcarpet\",\"colorbar\":{\"outlinewidth\":0,\"ticks\":\"\"}}],\"contour\":[{\"type\":\"contour\",\"colorbar\":{\"outlinewidth\":0,\"ticks\":\"\"},\"colorscale\":[[0.0,\"#0d0887\"],[0.1111111111111111,\"#46039f\"],[0.2222222222222222,\"#7201a8\"],[0.3333333333333333,\"#9c179e\"],[0.4444444444444444,\"#bd3786\"],[0.5555555555555556,\"#d8576b\"],[0.6666666666666666,\"#ed7953\"],[0.7777777777777778,\"#fb9f3a\"],[0.8888888888888888,\"#fdca26\"],[1.0,\"#f0f921\"]]}],\"surface\":[{\"type\":\"surface\",\"colorbar\":{\"outlinewidth\":0,\"ticks\":\"\"},\"colorscale\":[[0.0,\"#0d0887\"],[0.1111111111111111,\"#46039f\"],[0.2222222222222222,\"#7201a8\"],[0.3333333333333333,\"#9c179e\"],[0.4444444444444444,\"#bd3786\"],[0.5555555555555556,\"#d8576b\"],[0.6666666666666666,\"#ed7953\"],[0.7777777777777778,\"#fb9f3a\"],[0.8888888888888888,\"#fdca26\"],[1.0,\"#f0f921\"]]}],\"mesh3d\":[{\"type\":\"mesh3d\",\"colorbar\":{\"outlinewidth\":0,\"ticks\":\"\"}}],\"scatter\":[{\"fillpattern\":{\"fillmode\":\"overlay\",\"size\":10,\"solidity\":0.2},\"type\":\"scatter\"}],\"parcoords\":[{\"type\":\"parcoords\",\"line\":{\"colorbar\":{\"outlinewidth\":0,\"ticks\":\"\"}}}],\"scatterpolargl\":[{\"type\":\"scatterpolargl\",\"marker\":{\"colorbar\":{\"outlinewidth\":0,\"ticks\":\"\"}}}],\"bar\":[{\"error_x\":{\"color\":\"#2a3f5f\"},\"error_y\":{\"color\":\"#2a3f5f\"},\"marker\":{\"line\":{\"color\":\"#E5ECF6\",\"width\":0.5},\"pattern\":{\"fillmode\":\"overlay\",\"size\":10,\"solidity\":0.2}},\"type\":\"bar\"}],\"scattergeo\":[{\"type\":\"scattergeo\",\"marker\":{\"colorbar\":{\"outlinewidth\":0,\"ticks\":\"\"}}}],\"scatterpolar\":[{\"type\":\"scatterpolar\",\"marker\":{\"colorbar\":{\"outlinewidth\":0,\"ticks\":\"\"}}}],\"histogram\":[{\"marker\":{\"pattern\":{\"fillmode\":\"overlay\",\"size\":10,\"solidity\":0.2}},\"type\":\"histogram\"}],\"scattergl\":[{\"type\":\"scattergl\",\"marker\":{\"colorbar\":{\"outlinewidth\":0,\"ticks\":\"\"}}}],\"scatter3d\":[{\"type\":\"scatter3d\",\"line\":{\"colorbar\":{\"outlinewidth\":0,\"ticks\":\"\"}},\"marker\":{\"colorbar\":{\"outlinewidth\":0,\"ticks\":\"\"}}}],\"scattermapbox\":[{\"type\":\"scattermapbox\",\"marker\":{\"colorbar\":{\"outlinewidth\":0,\"ticks\":\"\"}}}],\"scatterternary\":[{\"type\":\"scatterternary\",\"marker\":{\"colorbar\":{\"outlinewidth\":0,\"ticks\":\"\"}}}],\"scattercarpet\":[{\"type\":\"scattercarpet\",\"marker\":{\"colorbar\":{\"outlinewidth\":0,\"ticks\":\"\"}}}],\"carpet\":[{\"aaxis\":{\"endlinecolor\":\"#2a3f5f\",\"gridcolor\":\"white\",\"linecolor\":\"white\",\"minorgridcolor\":\"white\",\"startlinecolor\":\"#2a3f5f\"},\"baxis\":{\"endlinecolor\":\"#2a3f5f\",\"gridcolor\":\"white\",\"linecolor\":\"white\",\"minorgridcolor\":\"white\",\"startlinecolor\":\"#2a3f5f\"},\"type\":\"carpet\"}],\"table\":[{\"cells\":{\"fill\":{\"color\":\"#EBF0F8\"},\"line\":{\"color\":\"white\"}},\"header\":{\"fill\":{\"color\":\"#C8D4E3\"},\"line\":{\"color\":\"white\"}},\"type\":\"table\"}],\"barpolar\":[{\"marker\":{\"line\":{\"color\":\"#E5ECF6\",\"width\":0.5},\"pattern\":{\"fillmode\":\"overlay\",\"size\":10,\"solidity\":0.2}},\"type\":\"barpolar\"}],\"pie\":[{\"automargin\":true,\"type\":\"pie\"}]},\"layout\":{\"autotypenumbers\":\"strict\",\"colorway\":[\"#636efa\",\"#EF553B\",\"#00cc96\",\"#ab63fa\",\"#FFA15A\",\"#19d3f3\",\"#FF6692\",\"#B6E880\",\"#FF97FF\",\"#FECB52\"],\"font\":{\"color\":\"#2a3f5f\"},\"hovermode\":\"closest\",\"hoverlabel\":{\"align\":\"left\"},\"paper_bgcolor\":\"white\",\"plot_bgcolor\":\"#E5ECF6\",\"polar\":{\"bgcolor\":\"#E5ECF6\",\"angularaxis\":{\"gridcolor\":\"white\",\"linecolor\":\"white\",\"ticks\":\"\"},\"radialaxis\":{\"gridcolor\":\"white\",\"linecolor\":\"white\",\"ticks\":\"\"}},\"ternary\":{\"bgcolor\":\"#E5ECF6\",\"aaxis\":{\"gridcolor\":\"white\",\"linecolor\":\"white\",\"ticks\":\"\"},\"baxis\":{\"gridcolor\":\"white\",\"linecolor\":\"white\",\"ticks\":\"\"},\"caxis\":{\"gridcolor\":\"white\",\"linecolor\":\"white\",\"ticks\":\"\"}},\"coloraxis\":{\"colorbar\":{\"outlinewidth\":0,\"ticks\":\"\"}},\"colorscale\":{\"sequential\":[[0.0,\"#0d0887\"],[0.1111111111111111,\"#46039f\"],[0.2222222222222222,\"#7201a8\"],[0.3333333333333333,\"#9c179e\"],[0.4444444444444444,\"#bd3786\"],[0.5555555555555556,\"#d8576b\"],[0.6666666666666666,\"#ed7953\"],[0.7777777777777778,\"#fb9f3a\"],[0.8888888888888888,\"#fdca26\"],[1.0,\"#f0f921\"]],\"sequentialminus\":[[0.0,\"#0d0887\"],[0.1111111111111111,\"#46039f\"],[0.2222222222222222,\"#7201a8\"],[0.3333333333333333,\"#9c179e\"],[0.4444444444444444,\"#bd3786\"],[0.5555555555555556,\"#d8576b\"],[0.6666666666666666,\"#ed7953\"],[0.7777777777777778,\"#fb9f3a\"],[0.8888888888888888,\"#fdca26\"],[1.0,\"#f0f921\"]],\"diverging\":[[0,\"#8e0152\"],[0.1,\"#c51b7d\"],[0.2,\"#de77ae\"],[0.3,\"#f1b6da\"],[0.4,\"#fde0ef\"],[0.5,\"#f7f7f7\"],[0.6,\"#e6f5d0\"],[0.7,\"#b8e186\"],[0.8,\"#7fbc41\"],[0.9,\"#4d9221\"],[1,\"#276419\"]]},\"xaxis\":{\"gridcolor\":\"white\",\"linecolor\":\"white\",\"ticks\":\"\",\"title\":{\"standoff\":15},\"zerolinecolor\":\"white\",\"automargin\":true,\"zerolinewidth\":2},\"yaxis\":{\"gridcolor\":\"white\",\"linecolor\":\"white\",\"ticks\":\"\",\"title\":{\"standoff\":15},\"zerolinecolor\":\"white\",\"automargin\":true,\"zerolinewidth\":2},\"scene\":{\"xaxis\":{\"backgroundcolor\":\"#E5ECF6\",\"gridcolor\":\"white\",\"linecolor\":\"white\",\"showbackground\":true,\"ticks\":\"\",\"zerolinecolor\":\"white\",\"gridwidth\":2},\"yaxis\":{\"backgroundcolor\":\"#E5ECF6\",\"gridcolor\":\"white\",\"linecolor\":\"white\",\"showbackground\":true,\"ticks\":\"\",\"zerolinecolor\":\"white\",\"gridwidth\":2},\"zaxis\":{\"backgroundcolor\":\"#E5ECF6\",\"gridcolor\":\"white\",\"linecolor\":\"white\",\"showbackground\":true,\"ticks\":\"\",\"zerolinecolor\":\"white\",\"gridwidth\":2}},\"shapedefaults\":{\"line\":{\"color\":\"#2a3f5f\"}},\"annotationdefaults\":{\"arrowcolor\":\"#2a3f5f\",\"arrowhead\":0,\"arrowwidth\":1},\"geo\":{\"bgcolor\":\"white\",\"landcolor\":\"#E5ECF6\",\"subunitcolor\":\"white\",\"showland\":true,\"showlakes\":true,\"lakecolor\":\"white\"},\"title\":{\"x\":0.05},\"mapbox\":{\"style\":\"light\"}}},\"xaxis\":{\"anchor\":\"y\",\"domain\":[0.0,0.2888888888888889],\"title\":{\"text\":\"day\"}},\"yaxis\":{\"anchor\":\"x\",\"domain\":[0.0,1.0],\"title\":{\"text\":\"inflammation\"}},\"xaxis2\":{\"anchor\":\"y2\",\"domain\":[0.35555555555555557,0.6444444444444445]},\"yaxis2\":{\"anchor\":\"x2\",\"domain\":[0.0,1.0],\"matches\":\"y\",\"showticklabels\":false},\"xaxis3\":{\"anchor\":\"y3\",\"domain\":[0.7111111111111111,1.0]},\"yaxis3\":{\"anchor\":\"x3\",\"domain\":[0.0,1.0],\"matches\":\"y\",\"showticklabels\":false},\"legend\":{\"title\":{\"text\":\"type\"},\"traceorder\":\"normal\"},\"title\":{\"text\":\"Plots\"},\"hovermode\":\"x unified\"},                        {\"responsive\": true}                    ).then(function(){\n",
              "                            \n",
              "var gd = document.getElementById('943b4cf6-e3bc-43e3-be9c-cc666111c748');\n",
              "var x = new MutationObserver(function (mutations, observer) {{\n",
              "        var display = window.getComputedStyle(gd).display;\n",
              "        if (!display || display === 'none') {{\n",
              "            console.log([gd, 'removed!']);\n",
              "            Plotly.purge(gd);\n",
              "            observer.disconnect();\n",
              "        }}\n",
              "}});\n",
              "\n",
              "// Listen for the removal of the full notebook cells\n",
              "var notebookContainer = gd.closest('#notebook-container');\n",
              "if (notebookContainer) {{\n",
              "    x.observe(notebookContainer, {childList: true});\n",
              "}}\n",
              "\n",
              "// Listen for the clearing of the current output cell\n",
              "var outputEl = gd.closest('.output');\n",
              "if (outputEl) {{\n",
              "    x.observe(outputEl, {childList: true});\n",
              "}}\n",
              "\n",
              "                        })                };                            </script>        </div>\n",
              "</body>\n",
              "</html>"
            ]
          },
          "metadata": {}
        }
      ]
    },
    {
      "cell_type": "markdown",
      "source": [
        "## ChatGPT"
      ],
      "metadata": {
        "id": "EGd8F7xJuTmi"
      }
    },
    {
      "cell_type": "markdown",
      "source": [
        "#### Run your ChatGPT code here!"
      ],
      "metadata": {
        "id": "Rq88b3AH3_Pm"
      }
    },
    {
      "cell_type": "code",
      "source": [],
      "metadata": {
        "id": "thDfy79C6jpa"
      },
      "execution_count": null,
      "outputs": []
    },
    {
      "cell_type": "markdown",
      "source": [
        "#### Query 1"
      ],
      "metadata": {
        "id": "Qe52Sw5V1Rf7"
      }
    },
    {
      "cell_type": "code",
      "source": [
        "# My Query for ChatGPT:\n",
        "# Create Python code to generate a heatmap visualization using Plotly, representing data from 60 patients, which includes their blood pressure, temperature, height, weight, and heart rate.\n",
        "import plotly.express as px\n",
        "import pandas as pd\n",
        "import numpy as np\n",
        "\n",
        "# Generate synthetic patient data\n",
        "np.random.seed(42)\n",
        "n_patients = 60\n",
        "\n",
        "data = {\n",
        "    'PatientID': range(1, n_patients + 1),\n",
        "    'BloodPressure': np.random.randint(90, 160, n_patients),\n",
        "    'Temperature': np.random.uniform(36.0, 37.5, n_patients),\n",
        "    'Height': np.random.uniform(150, 190, n_patients),\n",
        "    'Weight': np.random.uniform(50, 100, n_patients),\n",
        "    'HeartRate': np.random.randint(60, 100, n_patients),\n",
        "}\n",
        "\n",
        "df = pd.DataFrame(data)\n",
        "\n",
        "# Create a heatmap using Plotly\n",
        "fig = px.imshow(\n",
        "    df.corr(),  # Compute the correlation matrix\n",
        "    x=df.columns,\n",
        "    y=df.columns,\n",
        "    color_continuous_scale='Viridis',  # You can change the color scale\n",
        ")\n",
        "\n",
        "fig.update_layout(\n",
        "    title='Correlation Heatmap of Patient Data',\n",
        "    xaxis=dict(title='Features'),\n",
        "    yaxis=dict(title='Features'),\n",
        ")\n",
        "\n",
        "fig.show()\n",
        "\n"
      ],
      "metadata": {
        "id": "ulAEWgvVWn61",
        "colab": {
          "base_uri": "https://localhost:8080/",
          "height": 542
        },
        "outputId": "66846da1-c090-4f3b-cf8a-61eb95ff3258"
      },
      "execution_count": 117,
      "outputs": [
        {
          "output_type": "display_data",
          "data": {
            "text/html": [
              "<html>\n",
              "<head><meta charset=\"utf-8\" /></head>\n",
              "<body>\n",
              "    <div>            <script src=\"https://cdnjs.cloudflare.com/ajax/libs/mathjax/2.7.5/MathJax.js?config=TeX-AMS-MML_SVG\"></script><script type=\"text/javascript\">if (window.MathJax && window.MathJax.Hub && window.MathJax.Hub.Config) {window.MathJax.Hub.Config({SVG: {font: \"STIX-Web\"}});}</script>                <script type=\"text/javascript\">window.PlotlyConfig = {MathJaxConfig: 'local'};</script>\n",
              "        <script charset=\"utf-8\" src=\"https://cdn.plot.ly/plotly-2.24.1.min.js\"></script>                <div id=\"8cbbe27b-f21f-487b-8ed7-a6ed4158182e\" class=\"plotly-graph-div\" style=\"height:525px; width:100%;\"></div>            <script type=\"text/javascript\">                                    window.PLOTLYENV=window.PLOTLYENV || {};                                    if (document.getElementById(\"8cbbe27b-f21f-487b-8ed7-a6ed4158182e\")) {                    Plotly.newPlot(                        \"8cbbe27b-f21f-487b-8ed7-a6ed4158182e\",                        [{\"coloraxis\":\"coloraxis\",\"name\":\"0\",\"x\":[\"PatientID\",\"BloodPressure\",\"Temperature\",\"Height\",\"Weight\",\"HeartRate\"],\"y\":[\"PatientID\",\"BloodPressure\",\"Temperature\",\"Height\",\"Weight\",\"HeartRate\"],\"z\":[[1.0,-0.027497185775338596,-0.038992515053291925,0.2942564874095339,-0.02025138083477728,-0.14752363398557222],[-0.027497185775338596,1.0,-0.022843067111208322,-0.015958565312288668,0.2706000054422068,0.15846730759142083],[-0.038992515053291925,-0.022843067111208322,1.0,0.003606571903993611,0.1234118774928106,-0.09949234638360593],[0.2942564874095339,-0.015958565312288668,0.003606571903993611,1.0,0.29524205214066196,-0.20198895183135246],[-0.02025138083477728,0.2706000054422068,0.1234118774928106,0.29524205214066196,1.0,-0.023896529949794246],[-0.14752363398557222,0.15846730759142083,-0.09949234638360593,-0.20198895183135246,-0.023896529949794246,1.0]],\"type\":\"heatmap\",\"xaxis\":\"x\",\"yaxis\":\"y\",\"hovertemplate\":\"x: %{x}\\u003cbr\\u003ey: %{y}\\u003cbr\\u003ecolor: %{z}\\u003cextra\\u003e\\u003c\\u002fextra\\u003e\"}],                        {\"template\":{\"data\":{\"histogram2dcontour\":[{\"type\":\"histogram2dcontour\",\"colorbar\":{\"outlinewidth\":0,\"ticks\":\"\"},\"colorscale\":[[0.0,\"#0d0887\"],[0.1111111111111111,\"#46039f\"],[0.2222222222222222,\"#7201a8\"],[0.3333333333333333,\"#9c179e\"],[0.4444444444444444,\"#bd3786\"],[0.5555555555555556,\"#d8576b\"],[0.6666666666666666,\"#ed7953\"],[0.7777777777777778,\"#fb9f3a\"],[0.8888888888888888,\"#fdca26\"],[1.0,\"#f0f921\"]]}],\"choropleth\":[{\"type\":\"choropleth\",\"colorbar\":{\"outlinewidth\":0,\"ticks\":\"\"}}],\"histogram2d\":[{\"type\":\"histogram2d\",\"colorbar\":{\"outlinewidth\":0,\"ticks\":\"\"},\"colorscale\":[[0.0,\"#0d0887\"],[0.1111111111111111,\"#46039f\"],[0.2222222222222222,\"#7201a8\"],[0.3333333333333333,\"#9c179e\"],[0.4444444444444444,\"#bd3786\"],[0.5555555555555556,\"#d8576b\"],[0.6666666666666666,\"#ed7953\"],[0.7777777777777778,\"#fb9f3a\"],[0.8888888888888888,\"#fdca26\"],[1.0,\"#f0f921\"]]}],\"heatmap\":[{\"type\":\"heatmap\",\"colorbar\":{\"outlinewidth\":0,\"ticks\":\"\"},\"colorscale\":[[0.0,\"#0d0887\"],[0.1111111111111111,\"#46039f\"],[0.2222222222222222,\"#7201a8\"],[0.3333333333333333,\"#9c179e\"],[0.4444444444444444,\"#bd3786\"],[0.5555555555555556,\"#d8576b\"],[0.6666666666666666,\"#ed7953\"],[0.7777777777777778,\"#fb9f3a\"],[0.8888888888888888,\"#fdca26\"],[1.0,\"#f0f921\"]]}],\"heatmapgl\":[{\"type\":\"heatmapgl\",\"colorbar\":{\"outlinewidth\":0,\"ticks\":\"\"},\"colorscale\":[[0.0,\"#0d0887\"],[0.1111111111111111,\"#46039f\"],[0.2222222222222222,\"#7201a8\"],[0.3333333333333333,\"#9c179e\"],[0.4444444444444444,\"#bd3786\"],[0.5555555555555556,\"#d8576b\"],[0.6666666666666666,\"#ed7953\"],[0.7777777777777778,\"#fb9f3a\"],[0.8888888888888888,\"#fdca26\"],[1.0,\"#f0f921\"]]}],\"contourcarpet\":[{\"type\":\"contourcarpet\",\"colorbar\":{\"outlinewidth\":0,\"ticks\":\"\"}}],\"contour\":[{\"type\":\"contour\",\"colorbar\":{\"outlinewidth\":0,\"ticks\":\"\"},\"colorscale\":[[0.0,\"#0d0887\"],[0.1111111111111111,\"#46039f\"],[0.2222222222222222,\"#7201a8\"],[0.3333333333333333,\"#9c179e\"],[0.4444444444444444,\"#bd3786\"],[0.5555555555555556,\"#d8576b\"],[0.6666666666666666,\"#ed7953\"],[0.7777777777777778,\"#fb9f3a\"],[0.8888888888888888,\"#fdca26\"],[1.0,\"#f0f921\"]]}],\"surface\":[{\"type\":\"surface\",\"colorbar\":{\"outlinewidth\":0,\"ticks\":\"\"},\"colorscale\":[[0.0,\"#0d0887\"],[0.1111111111111111,\"#46039f\"],[0.2222222222222222,\"#7201a8\"],[0.3333333333333333,\"#9c179e\"],[0.4444444444444444,\"#bd3786\"],[0.5555555555555556,\"#d8576b\"],[0.6666666666666666,\"#ed7953\"],[0.7777777777777778,\"#fb9f3a\"],[0.8888888888888888,\"#fdca26\"],[1.0,\"#f0f921\"]]}],\"mesh3d\":[{\"type\":\"mesh3d\",\"colorbar\":{\"outlinewidth\":0,\"ticks\":\"\"}}],\"scatter\":[{\"fillpattern\":{\"fillmode\":\"overlay\",\"size\":10,\"solidity\":0.2},\"type\":\"scatter\"}],\"parcoords\":[{\"type\":\"parcoords\",\"line\":{\"colorbar\":{\"outlinewidth\":0,\"ticks\":\"\"}}}],\"scatterpolargl\":[{\"type\":\"scatterpolargl\",\"marker\":{\"colorbar\":{\"outlinewidth\":0,\"ticks\":\"\"}}}],\"bar\":[{\"error_x\":{\"color\":\"#2a3f5f\"},\"error_y\":{\"color\":\"#2a3f5f\"},\"marker\":{\"line\":{\"color\":\"#E5ECF6\",\"width\":0.5},\"pattern\":{\"fillmode\":\"overlay\",\"size\":10,\"solidity\":0.2}},\"type\":\"bar\"}],\"scattergeo\":[{\"type\":\"scattergeo\",\"marker\":{\"colorbar\":{\"outlinewidth\":0,\"ticks\":\"\"}}}],\"scatterpolar\":[{\"type\":\"scatterpolar\",\"marker\":{\"colorbar\":{\"outlinewidth\":0,\"ticks\":\"\"}}}],\"histogram\":[{\"marker\":{\"pattern\":{\"fillmode\":\"overlay\",\"size\":10,\"solidity\":0.2}},\"type\":\"histogram\"}],\"scattergl\":[{\"type\":\"scattergl\",\"marker\":{\"colorbar\":{\"outlinewidth\":0,\"ticks\":\"\"}}}],\"scatter3d\":[{\"type\":\"scatter3d\",\"line\":{\"colorbar\":{\"outlinewidth\":0,\"ticks\":\"\"}},\"marker\":{\"colorbar\":{\"outlinewidth\":0,\"ticks\":\"\"}}}],\"scattermapbox\":[{\"type\":\"scattermapbox\",\"marker\":{\"colorbar\":{\"outlinewidth\":0,\"ticks\":\"\"}}}],\"scatterternary\":[{\"type\":\"scatterternary\",\"marker\":{\"colorbar\":{\"outlinewidth\":0,\"ticks\":\"\"}}}],\"scattercarpet\":[{\"type\":\"scattercarpet\",\"marker\":{\"colorbar\":{\"outlinewidth\":0,\"ticks\":\"\"}}}],\"carpet\":[{\"aaxis\":{\"endlinecolor\":\"#2a3f5f\",\"gridcolor\":\"white\",\"linecolor\":\"white\",\"minorgridcolor\":\"white\",\"startlinecolor\":\"#2a3f5f\"},\"baxis\":{\"endlinecolor\":\"#2a3f5f\",\"gridcolor\":\"white\",\"linecolor\":\"white\",\"minorgridcolor\":\"white\",\"startlinecolor\":\"#2a3f5f\"},\"type\":\"carpet\"}],\"table\":[{\"cells\":{\"fill\":{\"color\":\"#EBF0F8\"},\"line\":{\"color\":\"white\"}},\"header\":{\"fill\":{\"color\":\"#C8D4E3\"},\"line\":{\"color\":\"white\"}},\"type\":\"table\"}],\"barpolar\":[{\"marker\":{\"line\":{\"color\":\"#E5ECF6\",\"width\":0.5},\"pattern\":{\"fillmode\":\"overlay\",\"size\":10,\"solidity\":0.2}},\"type\":\"barpolar\"}],\"pie\":[{\"automargin\":true,\"type\":\"pie\"}]},\"layout\":{\"autotypenumbers\":\"strict\",\"colorway\":[\"#636efa\",\"#EF553B\",\"#00cc96\",\"#ab63fa\",\"#FFA15A\",\"#19d3f3\",\"#FF6692\",\"#B6E880\",\"#FF97FF\",\"#FECB52\"],\"font\":{\"color\":\"#2a3f5f\"},\"hovermode\":\"closest\",\"hoverlabel\":{\"align\":\"left\"},\"paper_bgcolor\":\"white\",\"plot_bgcolor\":\"#E5ECF6\",\"polar\":{\"bgcolor\":\"#E5ECF6\",\"angularaxis\":{\"gridcolor\":\"white\",\"linecolor\":\"white\",\"ticks\":\"\"},\"radialaxis\":{\"gridcolor\":\"white\",\"linecolor\":\"white\",\"ticks\":\"\"}},\"ternary\":{\"bgcolor\":\"#E5ECF6\",\"aaxis\":{\"gridcolor\":\"white\",\"linecolor\":\"white\",\"ticks\":\"\"},\"baxis\":{\"gridcolor\":\"white\",\"linecolor\":\"white\",\"ticks\":\"\"},\"caxis\":{\"gridcolor\":\"white\",\"linecolor\":\"white\",\"ticks\":\"\"}},\"coloraxis\":{\"colorbar\":{\"outlinewidth\":0,\"ticks\":\"\"}},\"colorscale\":{\"sequential\":[[0.0,\"#0d0887\"],[0.1111111111111111,\"#46039f\"],[0.2222222222222222,\"#7201a8\"],[0.3333333333333333,\"#9c179e\"],[0.4444444444444444,\"#bd3786\"],[0.5555555555555556,\"#d8576b\"],[0.6666666666666666,\"#ed7953\"],[0.7777777777777778,\"#fb9f3a\"],[0.8888888888888888,\"#fdca26\"],[1.0,\"#f0f921\"]],\"sequentialminus\":[[0.0,\"#0d0887\"],[0.1111111111111111,\"#46039f\"],[0.2222222222222222,\"#7201a8\"],[0.3333333333333333,\"#9c179e\"],[0.4444444444444444,\"#bd3786\"],[0.5555555555555556,\"#d8576b\"],[0.6666666666666666,\"#ed7953\"],[0.7777777777777778,\"#fb9f3a\"],[0.8888888888888888,\"#fdca26\"],[1.0,\"#f0f921\"]],\"diverging\":[[0,\"#8e0152\"],[0.1,\"#c51b7d\"],[0.2,\"#de77ae\"],[0.3,\"#f1b6da\"],[0.4,\"#fde0ef\"],[0.5,\"#f7f7f7\"],[0.6,\"#e6f5d0\"],[0.7,\"#b8e186\"],[0.8,\"#7fbc41\"],[0.9,\"#4d9221\"],[1,\"#276419\"]]},\"xaxis\":{\"gridcolor\":\"white\",\"linecolor\":\"white\",\"ticks\":\"\",\"title\":{\"standoff\":15},\"zerolinecolor\":\"white\",\"automargin\":true,\"zerolinewidth\":2},\"yaxis\":{\"gridcolor\":\"white\",\"linecolor\":\"white\",\"ticks\":\"\",\"title\":{\"standoff\":15},\"zerolinecolor\":\"white\",\"automargin\":true,\"zerolinewidth\":2},\"scene\":{\"xaxis\":{\"backgroundcolor\":\"#E5ECF6\",\"gridcolor\":\"white\",\"linecolor\":\"white\",\"showbackground\":true,\"ticks\":\"\",\"zerolinecolor\":\"white\",\"gridwidth\":2},\"yaxis\":{\"backgroundcolor\":\"#E5ECF6\",\"gridcolor\":\"white\",\"linecolor\":\"white\",\"showbackground\":true,\"ticks\":\"\",\"zerolinecolor\":\"white\",\"gridwidth\":2},\"zaxis\":{\"backgroundcolor\":\"#E5ECF6\",\"gridcolor\":\"white\",\"linecolor\":\"white\",\"showbackground\":true,\"ticks\":\"\",\"zerolinecolor\":\"white\",\"gridwidth\":2}},\"shapedefaults\":{\"line\":{\"color\":\"#2a3f5f\"}},\"annotationdefaults\":{\"arrowcolor\":\"#2a3f5f\",\"arrowhead\":0,\"arrowwidth\":1},\"geo\":{\"bgcolor\":\"white\",\"landcolor\":\"#E5ECF6\",\"subunitcolor\":\"white\",\"showland\":true,\"showlakes\":true,\"lakecolor\":\"white\"},\"title\":{\"x\":0.05},\"mapbox\":{\"style\":\"light\"}}},\"xaxis\":{\"anchor\":\"y\",\"domain\":[0.0,1.0],\"scaleanchor\":\"y\",\"constrain\":\"domain\",\"title\":{\"text\":\"Features\"}},\"yaxis\":{\"anchor\":\"x\",\"domain\":[0.0,1.0],\"autorange\":\"reversed\",\"constrain\":\"domain\",\"title\":{\"text\":\"Features\"}},\"coloraxis\":{\"colorscale\":[[0.0,\"#440154\"],[0.1111111111111111,\"#482878\"],[0.2222222222222222,\"#3e4989\"],[0.3333333333333333,\"#31688e\"],[0.4444444444444444,\"#26828e\"],[0.5555555555555556,\"#1f9e89\"],[0.6666666666666666,\"#35b779\"],[0.7777777777777778,\"#6ece58\"],[0.8888888888888888,\"#b5de2b\"],[1.0,\"#fde725\"]]},\"margin\":{\"t\":60},\"title\":{\"text\":\"Correlation Heatmap of Patient Data\"}},                        {\"responsive\": true}                    ).then(function(){\n",
              "                            \n",
              "var gd = document.getElementById('8cbbe27b-f21f-487b-8ed7-a6ed4158182e');\n",
              "var x = new MutationObserver(function (mutations, observer) {{\n",
              "        var display = window.getComputedStyle(gd).display;\n",
              "        if (!display || display === 'none') {{\n",
              "            console.log([gd, 'removed!']);\n",
              "            Plotly.purge(gd);\n",
              "            observer.disconnect();\n",
              "        }}\n",
              "}});\n",
              "\n",
              "// Listen for the removal of the full notebook cells\n",
              "var notebookContainer = gd.closest('#notebook-container');\n",
              "if (notebookContainer) {{\n",
              "    x.observe(notebookContainer, {childList: true});\n",
              "}}\n",
              "\n",
              "// Listen for the clearing of the current output cell\n",
              "var outputEl = gd.closest('.output');\n",
              "if (outputEl) {{\n",
              "    x.observe(outputEl, {childList: true});\n",
              "}}\n",
              "\n",
              "                        })                };                            </script>        </div>\n",
              "</body>\n",
              "</html>"
            ]
          },
          "metadata": {}
        }
      ]
    },
    {
      "cell_type": "markdown",
      "source": [
        "#### Query 2"
      ],
      "metadata": {
        "id": "J3Dg4NZi1Wbh"
      }
    },
    {
      "cell_type": "code",
      "source": [
        "# My Query for ChatGPT:\n",
        "# Not correlation heatmap, but normal heatmap\n",
        "import plotly.express as px\n",
        "import pandas as pd\n",
        "import numpy as np\n",
        "\n",
        "# Generate synthetic patient data\n",
        "np.random.seed(42)\n",
        "n_patients = 60\n",
        "\n",
        "data = {\n",
        "    'PatientID': range(1, n_patients + 1),\n",
        "    'BloodPressure': np.random.randint(90, 160, n_patients),\n",
        "    'Temperature': np.random.uniform(36.0, 37.5, n_patients),\n",
        "    'Height': np.random.uniform(150, 190, n_patients),\n",
        "    'Weight': np.random.uniform(50, 100, n_patients),\n",
        "    'HeartRate': np.random.randint(60, 100, n_patients),\n",
        "}\n",
        "\n",
        "df = pd.DataFrame(data)\n",
        "\n",
        "# Create a heatmap using Plotly\n",
        "fig = px.imshow(\n",
        "    df[['BloodPressure', 'Temperature', 'Height', 'Weight', 'HeartRate']].values.T,\n",
        "    x=df['PatientID'],\n",
        "    y=df[['BloodPressure', 'Temperature', 'Height', 'Weight', 'HeartRate']].columns,\n",
        "    color_continuous_scale='Viridis',  # You can change the color scale\n",
        ")\n",
        "\n",
        "fig.update_layout(\n",
        "    title='Patient Data Heatmap',\n",
        "    xaxis=dict(title='Patient ID'),\n",
        "    yaxis=dict(title='Attributes'),\n",
        ")\n",
        "\n",
        "fig.show()\n",
        "\n"
      ],
      "metadata": {
        "id": "fIOANMIjprfB",
        "colab": {
          "base_uri": "https://localhost:8080/",
          "height": 542
        },
        "outputId": "ef8e226f-681c-4db7-ac08-99b46ce12b96"
      },
      "execution_count": 118,
      "outputs": [
        {
          "output_type": "display_data",
          "data": {
            "text/html": [
              "<html>\n",
              "<head><meta charset=\"utf-8\" /></head>\n",
              "<body>\n",
              "    <div>            <script src=\"https://cdnjs.cloudflare.com/ajax/libs/mathjax/2.7.5/MathJax.js?config=TeX-AMS-MML_SVG\"></script><script type=\"text/javascript\">if (window.MathJax && window.MathJax.Hub && window.MathJax.Hub.Config) {window.MathJax.Hub.Config({SVG: {font: \"STIX-Web\"}});}</script>                <script type=\"text/javascript\">window.PlotlyConfig = {MathJaxConfig: 'local'};</script>\n",
              "        <script charset=\"utf-8\" src=\"https://cdn.plot.ly/plotly-2.24.1.min.js\"></script>                <div id=\"b2da2d99-62db-4ede-8268-a0e8d92132bd\" class=\"plotly-graph-div\" style=\"height:525px; width:100%;\"></div>            <script type=\"text/javascript\">                                    window.PLOTLYENV=window.PLOTLYENV || {};                                    if (document.getElementById(\"b2da2d99-62db-4ede-8268-a0e8d92132bd\")) {                    Plotly.newPlot(                        \"b2da2d99-62db-4ede-8268-a0e8d92132bd\",                        [{\"coloraxis\":\"coloraxis\",\"name\":\"0\",\"x\":[1,2,3,4,5,6,7,8,9,10,11,12,13,14,15,16,17,18,19,20,21,22,23,24,25,26,27,28,29,30,31,32,33,34,35,36,37,38,39,40,41,42,43,44,45,46,47,48,49,50,51,52,53,54,55,56,57,58,59,60],\"y\":[\"BloodPressure\",\"Temperature\",\"Height\",\"Weight\",\"HeartRate\"],\"z\":[[141.0,104.0,150.0,110.0,113.0,92.0,111.0,142.0,91.0,119.0,127.0,91.0,153.0,149.0,110.0,122.0,147.0,111.0,138.0,148.0,131.0,149.0,104.0,151.0,151.0,136.0,151.0,140.0,144.0,153.0,92.0,140.0,96.0,110.0,128.0,107.0,93.0,149.0,103.0,98.0,142.0,91.0,149.0,133.0,97.0,136.0,124.0,125.0,139.0,93.0,91.0,95.0,143.0,93.0,143.0,152.0,107.0,133.0,123.0,151.0],[37.38998829869069,37.09090799378463,36.489811153208755,36.855665961608096,36.78125139003873,37.44175803652402,37.26680077301722,37.12098016520607,36.80953819858362,36.88012674849577,37.44788296089621,36.910551371530026,36.41399877303382,36.444410258556125,36.247900408594504,36.02345461011179,36.635102221059554,36.59232227726336,36.44023226207706,36.02111973407263,36.298263606133204,37.067012929122974,37.185263310796806,36.908939962171516,37.389451317770025,36.976615538252915,37.37243951331567,37.2750578666847,36.67417601120731,36.14311517473562,36.5562273782974,37.00326187899541,36.99888353492624,36.88694668156159,36.412082689485096,36.84186513877155,36.57439031213068,37.457568143083655,37.27337073639912,37.08259428174731,36.35397737962344,36.384102484141984,36.06065038430765,37.06599433452868,36.16633623121775,36.65900475279866,36.302578803503096,37.34364539351028,36.713055334773166,36.84491335796458,37.043274129639194,36.208997181608815,36.90662606891672,36.80976163695251,36.30459183710215,37.41428035583697,36.89829819973281,37.042177399559556,37.32070175852289,36.93653107220069],[161.82534743350857,154.21977039321084,168.2613828193164,158.73761748867335,166.66039791481464,185.33121035675472,162.97380084021097,154.88351818802693,164.251913523079,186.27313766183016,160.8852899753854,175.9076048216545,150.02081507981262,164.10275425336675,162.19125032632115,156.58623412571768,171.3635767750177,169.39319885435933,177.6974413156108,160.77649335194087,159.76502088991097,156.73164168691721,158.7505687829228,172.32408008069365,166.15344684232164,152.59568988435927,160.15661655737378,159.87504251354406,177.85217091359152,178.4908235969777,155.923477198136,189.90961940195768,160.6712405710114,189.06459823330613,166.44148053272926,151.32202931602194,163.80284992106732,175.37405378805454,177.22821806219068,171.23738333268545,167.91132658292366,172.11572356285313,173.70786895517574,153.2341330533086,164.78617824245617,159.68639753109704,182.12559025519585,168.81202537784154,189.3369256357937,165.95297769778213,182.65727492877537,181.93380499938203,156.0287017586172,170.32795106962874,177.83251227163527,184.3343521925488,163.03835620807538,158.80964190262193,178.44598129752072,182.3800418455886],[67.43329936458647,54.80882755457104,97.0261632244802,69.87860105437612,75.887567526374,91.8855052953664,83.78450585196404,86.7608059620386,60.45358103688568,77.07239869137828,84.78921996725411,61.42750108986498,58.74774635479681,99.10841716647178,75.83179456355072,63.04145874152045,99.81268498789622,98.27096756443967,77.91467268035488,94.13181715946698,59.43535541706897,63.94356762960909,85.01789149863856,92.3330571119153,92.81621459390462,70.2254063561095,94.38850493804799,92.54642243837563,96.78174971104738,89.26703255569717,83.44941273571143,79.03433107182273,68.61413832808715,97.00667212288892,98.68319183776586,64.19604873687328,65.26819301721967,74.28068767931133,72.42120714931237,99.72287313054103,58.79626263386727,50.90376818077604,74.69468575917173,58.94113546106644,68.32343922914299,87.20852615282811,86.04699621260647,65.40303959261946,77.12701152774497,75.440703841938,81.81663090929477,62.52309093027921,79.4935423780272,98.94464291375044,74.33710764797276,95.3049393859277,71.71971827552143,67.50392038473379,82.25516810152824,83.44620298315499],[92.0,64.0,78.0,63.0,94.0,76.0,87.0,89.0,88.0,65.0,94.0,96.0,83.0,88.0,90.0,94.0,92.0,80.0,91.0,82.0,92.0,62.0,77.0,84.0,90.0,62.0,99.0,83.0,91.0,81.0,82.0,61.0,86.0,61.0,85.0,76.0,99.0,92.0,68.0,98.0,88.0,85.0,94.0,84.0,83.0,72.0,66.0,95.0,79.0,60.0,67.0,75.0,73.0,71.0,82.0,74.0,87.0,93.0,61.0,91.0]],\"type\":\"heatmap\",\"xaxis\":\"x\",\"yaxis\":\"y\",\"hovertemplate\":\"x: %{x}\\u003cbr\\u003ey: %{y}\\u003cbr\\u003ecolor: %{z}\\u003cextra\\u003e\\u003c\\u002fextra\\u003e\"}],                        {\"template\":{\"data\":{\"histogram2dcontour\":[{\"type\":\"histogram2dcontour\",\"colorbar\":{\"outlinewidth\":0,\"ticks\":\"\"},\"colorscale\":[[0.0,\"#0d0887\"],[0.1111111111111111,\"#46039f\"],[0.2222222222222222,\"#7201a8\"],[0.3333333333333333,\"#9c179e\"],[0.4444444444444444,\"#bd3786\"],[0.5555555555555556,\"#d8576b\"],[0.6666666666666666,\"#ed7953\"],[0.7777777777777778,\"#fb9f3a\"],[0.8888888888888888,\"#fdca26\"],[1.0,\"#f0f921\"]]}],\"choropleth\":[{\"type\":\"choropleth\",\"colorbar\":{\"outlinewidth\":0,\"ticks\":\"\"}}],\"histogram2d\":[{\"type\":\"histogram2d\",\"colorbar\":{\"outlinewidth\":0,\"ticks\":\"\"},\"colorscale\":[[0.0,\"#0d0887\"],[0.1111111111111111,\"#46039f\"],[0.2222222222222222,\"#7201a8\"],[0.3333333333333333,\"#9c179e\"],[0.4444444444444444,\"#bd3786\"],[0.5555555555555556,\"#d8576b\"],[0.6666666666666666,\"#ed7953\"],[0.7777777777777778,\"#fb9f3a\"],[0.8888888888888888,\"#fdca26\"],[1.0,\"#f0f921\"]]}],\"heatmap\":[{\"type\":\"heatmap\",\"colorbar\":{\"outlinewidth\":0,\"ticks\":\"\"},\"colorscale\":[[0.0,\"#0d0887\"],[0.1111111111111111,\"#46039f\"],[0.2222222222222222,\"#7201a8\"],[0.3333333333333333,\"#9c179e\"],[0.4444444444444444,\"#bd3786\"],[0.5555555555555556,\"#d8576b\"],[0.6666666666666666,\"#ed7953\"],[0.7777777777777778,\"#fb9f3a\"],[0.8888888888888888,\"#fdca26\"],[1.0,\"#f0f921\"]]}],\"heatmapgl\":[{\"type\":\"heatmapgl\",\"colorbar\":{\"outlinewidth\":0,\"ticks\":\"\"},\"colorscale\":[[0.0,\"#0d0887\"],[0.1111111111111111,\"#46039f\"],[0.2222222222222222,\"#7201a8\"],[0.3333333333333333,\"#9c179e\"],[0.4444444444444444,\"#bd3786\"],[0.5555555555555556,\"#d8576b\"],[0.6666666666666666,\"#ed7953\"],[0.7777777777777778,\"#fb9f3a\"],[0.8888888888888888,\"#fdca26\"],[1.0,\"#f0f921\"]]}],\"contourcarpet\":[{\"type\":\"contourcarpet\",\"colorbar\":{\"outlinewidth\":0,\"ticks\":\"\"}}],\"contour\":[{\"type\":\"contour\",\"colorbar\":{\"outlinewidth\":0,\"ticks\":\"\"},\"colorscale\":[[0.0,\"#0d0887\"],[0.1111111111111111,\"#46039f\"],[0.2222222222222222,\"#7201a8\"],[0.3333333333333333,\"#9c179e\"],[0.4444444444444444,\"#bd3786\"],[0.5555555555555556,\"#d8576b\"],[0.6666666666666666,\"#ed7953\"],[0.7777777777777778,\"#fb9f3a\"],[0.8888888888888888,\"#fdca26\"],[1.0,\"#f0f921\"]]}],\"surface\":[{\"type\":\"surface\",\"colorbar\":{\"outlinewidth\":0,\"ticks\":\"\"},\"colorscale\":[[0.0,\"#0d0887\"],[0.1111111111111111,\"#46039f\"],[0.2222222222222222,\"#7201a8\"],[0.3333333333333333,\"#9c179e\"],[0.4444444444444444,\"#bd3786\"],[0.5555555555555556,\"#d8576b\"],[0.6666666666666666,\"#ed7953\"],[0.7777777777777778,\"#fb9f3a\"],[0.8888888888888888,\"#fdca26\"],[1.0,\"#f0f921\"]]}],\"mesh3d\":[{\"type\":\"mesh3d\",\"colorbar\":{\"outlinewidth\":0,\"ticks\":\"\"}}],\"scatter\":[{\"fillpattern\":{\"fillmode\":\"overlay\",\"size\":10,\"solidity\":0.2},\"type\":\"scatter\"}],\"parcoords\":[{\"type\":\"parcoords\",\"line\":{\"colorbar\":{\"outlinewidth\":0,\"ticks\":\"\"}}}],\"scatterpolargl\":[{\"type\":\"scatterpolargl\",\"marker\":{\"colorbar\":{\"outlinewidth\":0,\"ticks\":\"\"}}}],\"bar\":[{\"error_x\":{\"color\":\"#2a3f5f\"},\"error_y\":{\"color\":\"#2a3f5f\"},\"marker\":{\"line\":{\"color\":\"#E5ECF6\",\"width\":0.5},\"pattern\":{\"fillmode\":\"overlay\",\"size\":10,\"solidity\":0.2}},\"type\":\"bar\"}],\"scattergeo\":[{\"type\":\"scattergeo\",\"marker\":{\"colorbar\":{\"outlinewidth\":0,\"ticks\":\"\"}}}],\"scatterpolar\":[{\"type\":\"scatterpolar\",\"marker\":{\"colorbar\":{\"outlinewidth\":0,\"ticks\":\"\"}}}],\"histogram\":[{\"marker\":{\"pattern\":{\"fillmode\":\"overlay\",\"size\":10,\"solidity\":0.2}},\"type\":\"histogram\"}],\"scattergl\":[{\"type\":\"scattergl\",\"marker\":{\"colorbar\":{\"outlinewidth\":0,\"ticks\":\"\"}}}],\"scatter3d\":[{\"type\":\"scatter3d\",\"line\":{\"colorbar\":{\"outlinewidth\":0,\"ticks\":\"\"}},\"marker\":{\"colorbar\":{\"outlinewidth\":0,\"ticks\":\"\"}}}],\"scattermapbox\":[{\"type\":\"scattermapbox\",\"marker\":{\"colorbar\":{\"outlinewidth\":0,\"ticks\":\"\"}}}],\"scatterternary\":[{\"type\":\"scatterternary\",\"marker\":{\"colorbar\":{\"outlinewidth\":0,\"ticks\":\"\"}}}],\"scattercarpet\":[{\"type\":\"scattercarpet\",\"marker\":{\"colorbar\":{\"outlinewidth\":0,\"ticks\":\"\"}}}],\"carpet\":[{\"aaxis\":{\"endlinecolor\":\"#2a3f5f\",\"gridcolor\":\"white\",\"linecolor\":\"white\",\"minorgridcolor\":\"white\",\"startlinecolor\":\"#2a3f5f\"},\"baxis\":{\"endlinecolor\":\"#2a3f5f\",\"gridcolor\":\"white\",\"linecolor\":\"white\",\"minorgridcolor\":\"white\",\"startlinecolor\":\"#2a3f5f\"},\"type\":\"carpet\"}],\"table\":[{\"cells\":{\"fill\":{\"color\":\"#EBF0F8\"},\"line\":{\"color\":\"white\"}},\"header\":{\"fill\":{\"color\":\"#C8D4E3\"},\"line\":{\"color\":\"white\"}},\"type\":\"table\"}],\"barpolar\":[{\"marker\":{\"line\":{\"color\":\"#E5ECF6\",\"width\":0.5},\"pattern\":{\"fillmode\":\"overlay\",\"size\":10,\"solidity\":0.2}},\"type\":\"barpolar\"}],\"pie\":[{\"automargin\":true,\"type\":\"pie\"}]},\"layout\":{\"autotypenumbers\":\"strict\",\"colorway\":[\"#636efa\",\"#EF553B\",\"#00cc96\",\"#ab63fa\",\"#FFA15A\",\"#19d3f3\",\"#FF6692\",\"#B6E880\",\"#FF97FF\",\"#FECB52\"],\"font\":{\"color\":\"#2a3f5f\"},\"hovermode\":\"closest\",\"hoverlabel\":{\"align\":\"left\"},\"paper_bgcolor\":\"white\",\"plot_bgcolor\":\"#E5ECF6\",\"polar\":{\"bgcolor\":\"#E5ECF6\",\"angularaxis\":{\"gridcolor\":\"white\",\"linecolor\":\"white\",\"ticks\":\"\"},\"radialaxis\":{\"gridcolor\":\"white\",\"linecolor\":\"white\",\"ticks\":\"\"}},\"ternary\":{\"bgcolor\":\"#E5ECF6\",\"aaxis\":{\"gridcolor\":\"white\",\"linecolor\":\"white\",\"ticks\":\"\"},\"baxis\":{\"gridcolor\":\"white\",\"linecolor\":\"white\",\"ticks\":\"\"},\"caxis\":{\"gridcolor\":\"white\",\"linecolor\":\"white\",\"ticks\":\"\"}},\"coloraxis\":{\"colorbar\":{\"outlinewidth\":0,\"ticks\":\"\"}},\"colorscale\":{\"sequential\":[[0.0,\"#0d0887\"],[0.1111111111111111,\"#46039f\"],[0.2222222222222222,\"#7201a8\"],[0.3333333333333333,\"#9c179e\"],[0.4444444444444444,\"#bd3786\"],[0.5555555555555556,\"#d8576b\"],[0.6666666666666666,\"#ed7953\"],[0.7777777777777778,\"#fb9f3a\"],[0.8888888888888888,\"#fdca26\"],[1.0,\"#f0f921\"]],\"sequentialminus\":[[0.0,\"#0d0887\"],[0.1111111111111111,\"#46039f\"],[0.2222222222222222,\"#7201a8\"],[0.3333333333333333,\"#9c179e\"],[0.4444444444444444,\"#bd3786\"],[0.5555555555555556,\"#d8576b\"],[0.6666666666666666,\"#ed7953\"],[0.7777777777777778,\"#fb9f3a\"],[0.8888888888888888,\"#fdca26\"],[1.0,\"#f0f921\"]],\"diverging\":[[0,\"#8e0152\"],[0.1,\"#c51b7d\"],[0.2,\"#de77ae\"],[0.3,\"#f1b6da\"],[0.4,\"#fde0ef\"],[0.5,\"#f7f7f7\"],[0.6,\"#e6f5d0\"],[0.7,\"#b8e186\"],[0.8,\"#7fbc41\"],[0.9,\"#4d9221\"],[1,\"#276419\"]]},\"xaxis\":{\"gridcolor\":\"white\",\"linecolor\":\"white\",\"ticks\":\"\",\"title\":{\"standoff\":15},\"zerolinecolor\":\"white\",\"automargin\":true,\"zerolinewidth\":2},\"yaxis\":{\"gridcolor\":\"white\",\"linecolor\":\"white\",\"ticks\":\"\",\"title\":{\"standoff\":15},\"zerolinecolor\":\"white\",\"automargin\":true,\"zerolinewidth\":2},\"scene\":{\"xaxis\":{\"backgroundcolor\":\"#E5ECF6\",\"gridcolor\":\"white\",\"linecolor\":\"white\",\"showbackground\":true,\"ticks\":\"\",\"zerolinecolor\":\"white\",\"gridwidth\":2},\"yaxis\":{\"backgroundcolor\":\"#E5ECF6\",\"gridcolor\":\"white\",\"linecolor\":\"white\",\"showbackground\":true,\"ticks\":\"\",\"zerolinecolor\":\"white\",\"gridwidth\":2},\"zaxis\":{\"backgroundcolor\":\"#E5ECF6\",\"gridcolor\":\"white\",\"linecolor\":\"white\",\"showbackground\":true,\"ticks\":\"\",\"zerolinecolor\":\"white\",\"gridwidth\":2}},\"shapedefaults\":{\"line\":{\"color\":\"#2a3f5f\"}},\"annotationdefaults\":{\"arrowcolor\":\"#2a3f5f\",\"arrowhead\":0,\"arrowwidth\":1},\"geo\":{\"bgcolor\":\"white\",\"landcolor\":\"#E5ECF6\",\"subunitcolor\":\"white\",\"showland\":true,\"showlakes\":true,\"lakecolor\":\"white\"},\"title\":{\"x\":0.05},\"mapbox\":{\"style\":\"light\"}}},\"xaxis\":{\"anchor\":\"y\",\"domain\":[0.0,1.0],\"scaleanchor\":\"y\",\"constrain\":\"domain\",\"title\":{\"text\":\"Patient ID\"}},\"yaxis\":{\"anchor\":\"x\",\"domain\":[0.0,1.0],\"autorange\":\"reversed\",\"constrain\":\"domain\",\"title\":{\"text\":\"Attributes\"}},\"coloraxis\":{\"colorscale\":[[0.0,\"#440154\"],[0.1111111111111111,\"#482878\"],[0.2222222222222222,\"#3e4989\"],[0.3333333333333333,\"#31688e\"],[0.4444444444444444,\"#26828e\"],[0.5555555555555556,\"#1f9e89\"],[0.6666666666666666,\"#35b779\"],[0.7777777777777778,\"#6ece58\"],[0.8888888888888888,\"#b5de2b\"],[1.0,\"#fde725\"]]},\"margin\":{\"t\":60},\"title\":{\"text\":\"Patient Data Heatmap\"}},                        {\"responsive\": true}                    ).then(function(){\n",
              "                            \n",
              "var gd = document.getElementById('b2da2d99-62db-4ede-8268-a0e8d92132bd');\n",
              "var x = new MutationObserver(function (mutations, observer) {{\n",
              "        var display = window.getComputedStyle(gd).display;\n",
              "        if (!display || display === 'none') {{\n",
              "            console.log([gd, 'removed!']);\n",
              "            Plotly.purge(gd);\n",
              "            observer.disconnect();\n",
              "        }}\n",
              "}});\n",
              "\n",
              "// Listen for the removal of the full notebook cells\n",
              "var notebookContainer = gd.closest('#notebook-container');\n",
              "if (notebookContainer) {{\n",
              "    x.observe(notebookContainer, {childList: true});\n",
              "}}\n",
              "\n",
              "// Listen for the clearing of the current output cell\n",
              "var outputEl = gd.closest('.output');\n",
              "if (outputEl) {{\n",
              "    x.observe(outputEl, {childList: true});\n",
              "}}\n",
              "\n",
              "                        })                };                            </script>        </div>\n",
              "</body>\n",
              "</html>"
            ]
          },
          "metadata": {}
        }
      ]
    },
    {
      "cell_type": "code",
      "source": [
        "# My Query for ChatGPT:\n",
        "# Write Python code for generating patient data and running machine learning with XGBoost on a dataset of 500 patients?\n",
        "######################################################################################################################\n",
        "\n",
        "import pandas as pd\n",
        "import numpy as np\n",
        "from sklearn.model_selection import train_test_split\n",
        "from sklearn.metrics import accuracy_score\n",
        "import xgboost as xgb\n",
        "from sklearn.datasets import make_classification\n",
        "\n",
        "# Generate synthetic patient data with 500 patients and 10 features\n",
        "X, y = make_classification(n_samples=500, n_features=10, random_state=42)\n",
        "\n",
        "# Create a DataFrame to store the data\n",
        "patient_data = pd.DataFrame(data=X, columns=[f\"Feature_{i}\" for i in range(1, 11)])\n",
        "patient_data['Target'] = y  # Add a target column\n",
        "\n",
        "# Split the data into training and testing sets (80% training, 20% testing)\n",
        "X_train, X_test, y_train, y_test = train_test_split(X, y, test_size=0.2, random_state=42)\n",
        "\n",
        "# Create an XGBoost classifier\n",
        "clf = xgb.XGBClassifier()\n",
        "\n",
        "# Train the classifier on the training data\n",
        "clf.fit(X_train, y_train)\n",
        "\n",
        "# Make predictions on the test data\n",
        "y_pred = clf.predict(X_test)\n",
        "\n",
        "# Calculate the accuracy of the model\n",
        "accuracy = accuracy_score(y_test, y_pred)\n",
        "print(f\"Accuracy: {accuracy * 100:.2f}%\")\n",
        "\n"
      ],
      "metadata": {
        "id": "l4W17ppDnj9X",
        "colab": {
          "base_uri": "https://localhost:8080/"
        },
        "outputId": "7b5da084-7853-404f-ead2-de329849bf28"
      },
      "execution_count": 115,
      "outputs": [
        {
          "output_type": "stream",
          "name": "stdout",
          "text": [
            "Accuracy: 95.00%\n"
          ]
        }
      ]
    }
  ]
}